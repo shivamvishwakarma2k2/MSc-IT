{
 "cells": [
  {
   "cell_type": "code",
   "execution_count": 1,
   "id": "58b74184-c2f6-45af-a583-35d425c5244b",
   "metadata": {},
   "outputs": [
    {
     "name": "stdout",
     "output_type": "stream",
     "text": [
      "Original Data : \n",
      "     StudID        Name Class Elective           Msg  Test Score Date of Birth\n",
      "0  Student1     Ariba      Fy     SBCM        he\u0000llo          20    06-09-2003\n",
      "1  Student2       Vilas    fy     sbcm  My\\nComputer           8      02/02/24\n",
      "2  Student3  Vinay         FY       AI   Hello Guy\\s           5    04-03-2006\n",
      "3  Student4     Pranay     fY    AI     Good morning          11    03/31/2003\n",
      "4  Student5      AnIL      Fy     SBCM        he\u0000llo          18    01-01-2001\n",
      "5  Student6       ViKas    fy     sbcm  My\\nComputer           9      02/02/24\n",
      "6  Student7  Vinit         FY       AI   Hello Guy\\s          50    04-03-2006\n",
      "7  Student8    Pranali     fY    AI     Good morning          10    03/31/2003\n"
     ]
    }
   ],
   "source": [
    "# Creating the dataframe\n",
    "import pandas as pd\n",
    "data = {\n",
    "    'StudID': ['Student1', 'Student2', 'Student3', 'Student4', 'Student5', 'Student6', 'Student7', 'Student8'],\n",
    "    'Name': ['   Ariba  ', 'Vilas', 'Shivam     ', ' Pranay ', '   AnIL  ', 'ViKas', 'Vinit     ', ' Pranali '],\n",
    "    'Class': ['Fy', 'fy', 'FY', 'fY', 'Fy', 'fy', 'FY', 'fY'],\n",
    "    'Elective': ['SBCM', '   sbcm', 'AI', 'AI   ', 'SBCM', '   sbcm', 'AI', 'AI   '],\n",
    "    'Msg': ['he\\x00llo', 'My\\nComputer', 'Hello Guy\\\\s', 'Good morning', 'he\\x00llo', 'My\\nComputer', 'Hello Guy\\\\s', 'Good morning'],\n",
    "    'Test Score': [20, 8, 5, 11, 18, 9, 50, 10],\n",
    "    'Date of Birth': ['06-09-2003', '02/02/24', '04-03-2006', '03/31/2003', '01-01-2001', '02/02/24', '04-03-2006', '03/31/2003']\n",
    "}\n",
    "df = pd.DataFrame(data)\n",
    "print(\"Original Data : \")\n",
    "print(df)"
   ]
  }
 ],
 "metadata": {
  "kernelspec": {
   "display_name": "Python 3 (ipykernel)",
   "language": "python",
   "name": "python3"
  },
  "language_info": {
   "codemirror_mode": {
    "name": "ipython",
    "version": 3
   },
   "file_extension": ".py",
   "mimetype": "text/x-python",
   "name": "python",
   "nbconvert_exporter": "python",
   "pygments_lexer": "ipython3",
   "version": "3.12.3"
  }
 },
 "nbformat": 4,
 "nbformat_minor": 5
}
