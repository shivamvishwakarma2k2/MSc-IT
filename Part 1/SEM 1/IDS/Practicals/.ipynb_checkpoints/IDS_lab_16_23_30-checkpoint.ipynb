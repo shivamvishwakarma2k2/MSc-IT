{
 "cells": [
  {
   "cell_type": "code",
   "execution_count": null,
   "id": "c3a99970-e626-449c-a5de-25e04d5d0225",
   "metadata": {},
   "outputs": [],
   "source": [
    "# Date : 16/07/2024"
   ]
  },
  {
   "cell_type": "code",
   "execution_count": 1,
   "id": "20a58edf-dfd2-448e-9398-02781cd29f29",
   "metadata": {},
   "outputs": [],
   "source": [
    "import numpy as np"
   ]
  },
  {
   "cell_type": "code",
   "execution_count": 3,
   "id": "2f10f6b1-7ed0-4f28-9124-1c042e8736ea",
   "metadata": {},
   "outputs": [
    {
     "data": {
      "text/plain": [
       "array([[ 0,  1,  2,  3,  4],\n",
       "       [ 5,  6,  7,  8,  9],\n",
       "       [10, 11, 12, 13, 14]])"
      ]
     },
     "execution_count": 3,
     "metadata": {},
     "output_type": "execute_result"
    }
   ],
   "source": [
    "a = np.arange(15).reshape(3,5)\n",
    "a"
   ]
  },
  {
   "cell_type": "code",
   "execution_count": 4,
   "id": "5bd396b0-9c76-4823-81a2-20ef0864111d",
   "metadata": {},
   "outputs": [
    {
     "data": {
      "text/plain": [
       "(3, 5)"
      ]
     },
     "execution_count": 4,
     "metadata": {},
     "output_type": "execute_result"
    }
   ],
   "source": [
    "a.shape"
   ]
  },
  {
   "cell_type": "code",
   "execution_count": 5,
   "id": "addd9fd8-0a4d-41e4-b835-3897cb8e278d",
   "metadata": {},
   "outputs": [
    {
     "data": {
      "text/plain": [
       "2"
      ]
     },
     "execution_count": 5,
     "metadata": {},
     "output_type": "execute_result"
    }
   ],
   "source": [
    "a.ndim"
   ]
  },
  {
   "cell_type": "code",
   "execution_count": 6,
   "id": "332bded5-4da2-4933-a574-e59f49e1420b",
   "metadata": {},
   "outputs": [
    {
     "data": {
      "text/plain": [
       "dtype('int64')"
      ]
     },
     "execution_count": 6,
     "metadata": {},
     "output_type": "execute_result"
    }
   ],
   "source": [
    "a.dtype"
   ]
  },
  {
   "cell_type": "code",
   "execution_count": 7,
   "id": "9fbff779-3cb5-42bd-958f-39175c2a25ed",
   "metadata": {},
   "outputs": [
    {
     "data": {
      "text/plain": [
       "'int64'"
      ]
     },
     "execution_count": 7,
     "metadata": {},
     "output_type": "execute_result"
    }
   ],
   "source": [
    "a.dtype.name"
   ]
  },
  {
   "cell_type": "code",
   "execution_count": 8,
   "id": "b6b6992d-72d5-4e5b-b133-57c0f2d4c109",
   "metadata": {},
   "outputs": [
    {
     "data": {
      "text/plain": [
       "8"
      ]
     },
     "execution_count": 8,
     "metadata": {},
     "output_type": "execute_result"
    }
   ],
   "source": [
    "a.itemsize"
   ]
  },
  {
   "cell_type": "code",
   "execution_count": 9,
   "id": "0adb8c8c-1889-45d4-aeb4-7d39c5de840f",
   "metadata": {},
   "outputs": [
    {
     "data": {
      "text/plain": [
       "numpy.ndarray"
      ]
     },
     "execution_count": 9,
     "metadata": {},
     "output_type": "execute_result"
    }
   ],
   "source": [
    "type(a)"
   ]
  },
  {
   "cell_type": "code",
   "execution_count": 10,
   "id": "493f850d-75f8-4d33-8379-cb40d9dde4d5",
   "metadata": {},
   "outputs": [
    {
     "data": {
      "text/plain": [
       "array([1, 2, 3, 4, 5])"
      ]
     },
     "execution_count": 10,
     "metadata": {},
     "output_type": "execute_result"
    }
   ],
   "source": [
    "myList = [1,2,3,4,5]\n",
    "b = np.array(myList)\n",
    "b"
   ]
  },
  {
   "cell_type": "code",
   "execution_count": 12,
   "id": "bebb1aaa-209c-45c8-be5e-3954f906407c",
   "metadata": {},
   "outputs": [
    {
     "data": {
      "text/plain": [
       "numpy.ndarray"
      ]
     },
     "execution_count": 12,
     "metadata": {},
     "output_type": "execute_result"
    }
   ],
   "source": [
    "type(b)"
   ]
  },
  {
   "cell_type": "code",
   "execution_count": 13,
   "id": "178970db-be5b-486f-947a-17b45df1d6c0",
   "metadata": {},
   "outputs": [
    {
     "data": {
      "text/plain": [
       "1"
      ]
     },
     "execution_count": 13,
     "metadata": {},
     "output_type": "execute_result"
    }
   ],
   "source": [
    "b.ndim"
   ]
  },
  {
   "cell_type": "code",
   "execution_count": 36,
   "id": "ca2e5bbe-01e4-48b9-94f4-7fd2fb101158",
   "metadata": {},
   "outputs": [
    {
     "data": {
      "text/plain": [
       "array([[ 1,  4, 65],\n",
       "       [ 8,  0, 23],\n",
       "       [ 7,  7,  2]])"
      ]
     },
     "execution_count": 36,
     "metadata": {},
     "output_type": "execute_result"
    }
   ],
   "source": [
    "c = [1,4,65,8,0,23,7,7,2]\n",
    "d = np.array(c).reshape(3,3)\n",
    "d"
   ]
  },
  {
   "cell_type": "code",
   "execution_count": 37,
   "id": "1f6c9794-55cd-49ea-a74b-e8e8dd8a8d94",
   "metadata": {},
   "outputs": [
    {
     "data": {
      "text/plain": [
       "2"
      ]
     },
     "execution_count": 37,
     "metadata": {},
     "output_type": "execute_result"
    }
   ],
   "source": [
    "d.ndim"
   ]
  },
  {
   "cell_type": "code",
   "execution_count": 38,
   "id": "74c9041c-6d6c-4de9-bfcd-7bd7ca593c7a",
   "metadata": {},
   "outputs": [
    {
     "data": {
      "text/plain": [
       "(3, 3)"
      ]
     },
     "execution_count": 38,
     "metadata": {},
     "output_type": "execute_result"
    }
   ],
   "source": [
    "d.shape"
   ]
  },
  {
   "cell_type": "code",
   "execution_count": 40,
   "id": "0f3e2be1-6e0c-408c-a44f-fa2d26093407",
   "metadata": {},
   "outputs": [
    {
     "data": {
      "text/plain": [
       "array(['1', '4', '9', '12.45', 'Shivam', '6620'], dtype='<U32')"
      ]
     },
     "execution_count": 40,
     "metadata": {},
     "output_type": "execute_result"
    }
   ],
   "source": [
    "tup = (1, 4, 9, 12.45, \"Shivam\", 6620)\n",
    "e = np.array(tup)\n",
    "e"
   ]
  },
  {
   "cell_type": "code",
   "execution_count": 41,
   "id": "de29d57b-daf9-412b-9475-32c162cddf04",
   "metadata": {},
   "outputs": [
    {
     "data": {
      "text/plain": [
       "dtype('<U32')"
      ]
     },
     "execution_count": 41,
     "metadata": {},
     "output_type": "execute_result"
    }
   ],
   "source": [
    "e.dtype"
   ]
  },
  {
   "cell_type": "code",
   "execution_count": 42,
   "id": "25521ced-0159-434e-9e6e-5c7f135c0515",
   "metadata": {},
   "outputs": [
    {
     "data": {
      "text/plain": [
       "numpy.ndarray"
      ]
     },
     "execution_count": 42,
     "metadata": {},
     "output_type": "execute_result"
    }
   ],
   "source": [
    "type(e)"
   ]
  },
  {
   "cell_type": "code",
   "execution_count": 44,
   "id": "0e89cd3d-0d88-4455-a9b0-f3b633a86737",
   "metadata": {},
   "outputs": [
    {
     "data": {
      "text/plain": [
       "array([[1, 2],\n",
       "       [2, 1]])"
      ]
     },
     "execution_count": 44,
     "metadata": {},
     "output_type": "execute_result"
    }
   ],
   "source": [
    "arr2d = np.array([[1,2], [2,1]])\n",
    "arr2d"
   ]
  },
  {
   "cell_type": "code",
   "execution_count": 46,
   "id": "1023e3a6-f3c5-4714-9e59-ac8a761183ac",
   "metadata": {},
   "outputs": [
    {
     "data": {
      "text/plain": [
       "2"
      ]
     },
     "execution_count": 46,
     "metadata": {},
     "output_type": "execute_result"
    }
   ],
   "source": [
    "arr2d.ndim"
   ]
  },
  {
   "cell_type": "code",
   "execution_count": 50,
   "id": "af583c6b-6d49-49ee-af62-21dd7c629650",
   "metadata": {},
   "outputs": [
    {
     "data": {
      "text/plain": [
       "array([[[1, 2, 3],\n",
       "        [4, 5, 6],\n",
       "        [7, 8, 9]],\n",
       "\n",
       "       [[9, 8, 7],\n",
       "        [6, 5, 4],\n",
       "        [3, 2, 1]]])"
      ]
     },
     "execution_count": 50,
     "metadata": {},
     "output_type": "execute_result"
    }
   ],
   "source": [
    "arr3d = np.array([[[1,2,3], [4,5,6], [7,8,9]], [[9,8,7],[6,5,4], [3,2,1]]])\n",
    "arr3d"
   ]
  },
  {
   "cell_type": "code",
   "execution_count": 51,
   "id": "b4aa0022-a188-4be3-9354-3b7df161dc47",
   "metadata": {},
   "outputs": [
    {
     "data": {
      "text/plain": [
       "3"
      ]
     },
     "execution_count": 51,
     "metadata": {},
     "output_type": "execute_result"
    }
   ],
   "source": [
    "arr3d.ndim"
   ]
  },
  {
   "cell_type": "code",
   "execution_count": 52,
   "id": "c1895c75-067d-4da2-9605-257d8ae8578e",
   "metadata": {},
   "outputs": [
    {
     "data": {
      "text/plain": [
       "(2, 3, 3)"
      ]
     },
     "execution_count": 52,
     "metadata": {},
     "output_type": "execute_result"
    }
   ],
   "source": [
    "arr3d.shape"
   ]
  },
  {
   "cell_type": "code",
   "execution_count": null,
   "id": "0e89d5e8-0813-41d6-9ebe-d3b182df2ccc",
   "metadata": {},
   "outputs": [],
   "source": [
    "# Date : 23/07/2024"
   ]
  },
  {
   "cell_type": "code",
   "execution_count": 43,
   "id": "29f85648-3705-49c7-a31c-26eae2dd1206",
   "metadata": {},
   "outputs": [
    {
     "name": "stdout",
     "output_type": "stream",
     "text": [
      "Template string :  {0:s} has {1:.2f}% in the class {2:s}\n",
      "Amit has 45.00% in the class TY\n",
      "Sumit has 25.00% in the class SY\n",
      "Anita has 24.00% in the class FY\n"
     ]
    }
   ],
   "source": [
    "# Write a python code to store the given values in tuples and display in \n",
    "# the given format by using the user defined function named 'printString'\n",
    "\n",
    "template = \"{0:s} has {1:.2f}% in the class {2:s}\"\n",
    "print(\"Template string : \", template)\n",
    "\n",
    "def printString(str, tup):\n",
    "    print(str.format(tup[0], tup[1], tup[2]))\n",
    "\n",
    "listTuple = [\n",
    "    (\"Amit\", 45, \"TY\"),\n",
    "    (\"Sumit\", 25, \"SY\"),\n",
    "    (\"Anita\", 24, \"FY\")\n",
    "]\n",
    "\n",
    "for item in listTuple:\n",
    "    printString(template, item)"
   ]
  },
  {
   "cell_type": "code",
   "execution_count": 57,
   "id": "96488e6d-dece-4dac-9c91-b89f4545d009",
   "metadata": {},
   "outputs": [
    {
     "name": "stdout",
     "output_type": "stream",
     "text": [
      "[0, 1, 2, 3, 4]\n",
      "range(0, 5)\n",
      "range(0, 10)\n"
     ]
    }
   ],
   "source": [
    "a = [i for i in range(5)]\n",
    "b = range(5)\n",
    "c = range(0,10)\n",
    "\n",
    "print(a)\n",
    "print(b)\n",
    "print(c)"
   ]
  },
  {
   "cell_type": "code",
   "execution_count": 64,
   "id": "02abcb44-5f2e-4b46-a3ab-a7b254666cea",
   "metadata": {},
   "outputs": [
    {
     "name": "stdout",
     "output_type": "stream",
     "text": [
      "[0, 1, 2, 3, 4]\n",
      "[0, 2, 4, 6, 8, 10, 12, 14, 16, 18]\n",
      "[5, 4, 3, 2, 1]\n"
     ]
    }
   ],
   "source": [
    "d = list(range(5))\n",
    "print(d)\n",
    "\n",
    "print(list(range(0, 20, 2)))\n",
    "\n",
    "print(list(range(5, 0, -1)))"
   ]
  },
  {
   "cell_type": "code",
   "execution_count": 67,
   "id": "25d576af-07bf-462d-891b-6c637850719a",
   "metadata": {},
   "outputs": [
    {
     "name": "stdout",
     "output_type": "stream",
     "text": [
      "[1, 9, 25, 49, 81]\n"
     ]
    }
   ],
   "source": [
    "# Write a python code to store and display the square of odd numbers upto 10. \n",
    "# Generate th odd number using range function.\n",
    "\n",
    "list = []\n",
    "for i in range(1, 10, 2):\n",
    "    list.append(i*i)\n",
    "\n",
    "print(list)"
   ]
  },
  {
   "cell_type": "code",
   "execution_count": 89,
   "id": "39407dae-4fea-4ed8-96d1-844674b13cc7",
   "metadata": {},
   "outputs": [
    {
     "data": {
      "text/plain": [
       "{'fy': [1, 2, 3], 'sy': [4, 5, 6], 'ty': [7, 8, 9]}"
      ]
     },
     "execution_count": 89,
     "metadata": {},
     "output_type": "execute_result"
    }
   ],
   "source": [
    "# Create a python dictionary from the given sequences.\n",
    "# Sequences:\n",
    "# keyList =['fy','sy','ty']\n",
    "# vlaueList=[[1,2,3],[4,5,6],[7,8,9]]\n",
    "\n",
    "keyList =['fy','sy','ty']\n",
    "vlaueList=[[1,2,3],[4,5,6],[7,8,9]]\n",
    "\n",
    "myDict = {}\n",
    "for key, value in zip(keyList, valueList):\n",
    "    myDict[key] = value\n",
    "\n",
    "myDict"
   ]
  },
  {
   "cell_type": "code",
   "execution_count": 90,
   "id": "8d79d7a7-5b25-4d70-bfae-b015624462a5",
   "metadata": {},
   "outputs": [
    {
     "name": "stdout",
     "output_type": "stream",
     "text": [
      "Keys :  dict_keys(['fy', 'sy', 'ty'])\n",
      "Values :  dict_values([[1, 2, 3], [4, 5, 6], [7, 8, 9]])\n",
      "{'fy': [1, 2, 3], 'sy': [4, 5, 6], 'ty': [11, 12, 13]}\n",
      "Poped value for key 'sy':  [4, 5, 6]\n",
      "{'fy': [1, 2, 3], 'ty': [11, 12, 13]}\n"
     ]
    }
   ],
   "source": [
    "print(\"Keys : \", myDict.keys())\n",
    "print(\"Values : \", myDict.values())\n",
    "\n",
    "myDict['ty'] = [11,12,13]\n",
    "print(myDict)\n",
    "\n",
    "print(\"Poped value for key 'sy': \", myDict.pop('sy'))\n",
    "print(myDict)"
   ]
  },
  {
   "cell_type": "code",
   "execution_count": 3,
   "id": "12ea6410-5843-4d62-b988-ad5e5e1fc88b",
   "metadata": {},
   "outputs": [
    {
     "data": {
      "text/plain": [
       "{'a': ['apple', 'appricot'],\n",
       " 'b': ['banana', 'blue berry'],\n",
       " 'o': ['orange'],\n",
       " 'p': ['pine apple']}"
      ]
     },
     "execution_count": 3,
     "metadata": {},
     "output_type": "execute_result"
    }
   ],
   "source": [
    "# for the following data create the dictionary of the alpha bitwise list of fruits\n",
    "# ['apple', 'banana', 'blue berry', 'apricot', 'orange', 'pine apple']\n",
    "# Expected output\n",
    "\n",
    "expectOutput = { 'a': ['apple', 'appricot'],\n",
    "  'b': ['banana', 'blue berry'], \n",
    "  'o': ['orange'], \n",
    "  'p': ['pine apple']\n",
    "}\n",
    "\n",
    "fruits = ['apple', 'banana', 'blue berry', 'appricot', 'orange', 'pine apple']\n",
    "fruitDict = {}\n",
    "for fruit in fruits:\n",
    "    letter = fruit[0]\n",
    "    if letter not in fruitDict:\n",
    "        fruitDict[letter] = [fruit]\n",
    "    else:\n",
    "        fruitDict[letter].append(fruit)\n",
    "\n",
    "fruitDict"
   ]
  },
  {
   "cell_type": "code",
   "execution_count": 44,
   "id": "b9ef57e1-82b8-443f-a197-0ed7f08a076c",
   "metadata": {},
   "outputs": [
    {
     "name": "stdout",
     "output_type": "stream",
     "text": [
      "a :  {1, 2, 3, 4, 5, 10}\n",
      "a :  {1, 2, 3, 4, 5}\n",
      "Union :  {1, 2, 3, 4, 5, 6, 7}\n",
      "a :  {1, 2, 3, 4, 5}\n",
      "a :  {1, 2, 3, 4, 5, 6, 7}\n",
      "Interscetion :  {3, 4, 5, 6, 7}\n",
      "a :  {3, 4, 5, 6, 7}\n",
      "Resetting a\n"
     ]
    }
   ],
   "source": [
    "# Sets\n",
    "\n",
    "a = {1, 2, 3, 4, 5}\n",
    "b = {3, 4, 5, 6, 7}\n",
    "\n",
    "a.add(10)\n",
    "print(\"a : \" , a)\n",
    "a.remove(10)\n",
    "print(\"a : \" , a)\n",
    "\n",
    "\n",
    "print(\"Union : \", a.union(b)) # a | b\n",
    "print(\"a : \" , a)\n",
    "a.update(b) # a |= b\n",
    "print(\"a : \" , a)\n",
    "print(\"Interscetion : \", a.intersection(b)) # a & b\n",
    "a.intersection_update(b) # a &= b\n",
    "print(\"a : \" , a)\n",
    "\n",
    "print(\"Resetting a\")\n",
    "a = {1, 2, 3, 4, 5}\n"
   ]
  },
  {
   "cell_type": "code",
   "execution_count": 1,
   "id": "c4ff1ea3-7bf2-4d6c-9e99-48c9bf9ece58",
   "metadata": {},
   "outputs": [
    {
     "data": {
      "text/plain": [
       "68"
      ]
     },
     "execution_count": 1,
     "metadata": {},
     "output_type": "execute_result"
    }
   ],
   "source": [
    "# 8, 9, 11, 23, 34, 10\n",
    "# From the given list sum the elements thtabare greater tha 10\n",
    "\n",
    "list1 = [8, 9, 11, 23, 34, 10]\n",
    "sum([i for i in list1 if i > 10])"
   ]
  },
  {
   "cell_type": "code",
   "execution_count": 45,
   "id": "4e7ef687-7e56-4f0f-adb7-08c79b3aca1c",
   "metadata": {},
   "outputs": [
    {
     "data": {
      "text/plain": [
       "{4, 5, 7}"
      ]
     },
     "execution_count": 45,
     "metadata": {},
     "output_type": "execute_result"
    }
   ],
   "source": [
    "strList = [\"Bharati\", \"Aasha\", \"Easy\", \"Code\"]\n",
    "\n",
    "set(len(item) for item in strList)\n"
   ]
  },
  {
   "cell_type": "code",
   "execution_count": 50,
   "id": "7485c43a-0830-4eaa-8cd7-5d04b95c0dfa",
   "metadata": {},
   "outputs": [
    {
     "name": "stdout",
     "output_type": "stream",
     "text": [
      "Square :  [1, 4, 9, 16, 25]\n",
      "Cube :  [1, 8, 27, 64, 125]\n"
     ]
    }
   ],
   "source": [
    "def calculate (numList):\n",
    "    square = [item*item for item in numList]\n",
    "    cube = [item*item*item for item in numList]\n",
    "    return square, cube \n",
    "\n",
    "numList = [1,2,3,4,5]\n",
    "square, cube = calculate(numList)\n",
    "print(\"Square : \", square)\n",
    "print(\"Cube : \", cube)"
   ]
  },
  {
   "cell_type": "code",
   "execution_count": null,
   "id": "63fb95b4-dc64-46cd-938b-2b6591685c5c",
   "metadata": {},
   "outputs": [],
   "source": [
    "# Date : 30/07/2024"
   ]
  },
  {
   "cell_type": "code",
   "execution_count": 2,
   "id": "08f94e96-a5f3-4495-b94f-fd08d6692732",
   "metadata": {},
   "outputs": [
    {
     "data": {
      "text/plain": [
       "{'Apple': 5, 'Bat': 3, 'Chicken': 7, 'Dumpyard': 8, 'Erangel': 7, 'Friangi': 7}"
      ]
     },
     "execution_count": 2,
     "metadata": {},
     "output_type": "execute_result"
    }
   ],
   "source": [
    "object = [\"Apple\", \"Bat\", \"Chicken\", \"Dumpyard\", \"Erangel\", \"Friangi\"]\n",
    "\n",
    "objectLen = dict()\n",
    "\n",
    "for item in object:\n",
    "    objectLen[item] = len(item)\n",
    "    \n",
    "objectLen"
   ]
  },
  {
   "cell_type": "code",
   "execution_count": 26,
   "id": "0938ca3c-2f00-4af8-9db5-db74c9e46b80",
   "metadata": {},
   "outputs": [
    {
     "data": {
      "text/plain": [
       "['Manish', 'Hardik', 'Akshay', 'Shreelaxmee', 'Rohan', 'Anjana']"
      ]
     },
     "execution_count": 26,
     "metadata": {},
     "output_type": "execute_result"
    }
   ],
   "source": [
    "import re\n",
    "\n",
    "name = [\".Manish      \", \"     Hardik4!\", \"Akshay#$\", \"Shreelaxmee!\", \"12Rohan\", \"An      jana\"]\n",
    "\n",
    "def clean_strings(strings):\n",
    "    result = []\n",
    "    for value in strings:\n",
    "        value = value.strip()\n",
    "        value = re.sub('[ !$#?.0-9]', '', value)\n",
    "        value = value.title()\n",
    "        result.append(value)\n",
    "    return result\n",
    "    \n",
    "clean_strings(name)"
   ]
  },
  {
   "cell_type": "code",
   "execution_count": 23,
   "id": "d826e8d6-9bcc-4d4c-ac28-692b465499e8",
   "metadata": {},
   "outputs": [
    {
     "data": {
      "text/plain": [
       "10"
      ]
     },
     "execution_count": 23,
     "metadata": {},
     "output_type": "execute_result"
    }
   ],
   "source": [
    "add = lambda x:  x+x # One argument\n",
    "add(5)"
   ]
  },
  {
   "cell_type": "code",
   "execution_count": 24,
   "id": "a2db7cc7-8a93-4489-b3ca-89f7e842c3ef",
   "metadata": {},
   "outputs": [
    {
     "data": {
      "text/plain": [
       "15"
      ]
     },
     "execution_count": 24,
     "metadata": {},
     "output_type": "execute_result"
    }
   ],
   "source": [
    "add = lambda x, y:  x+y # Two argument\n",
    "add(5, 10)"
   ]
  },
  {
   "cell_type": "code",
   "execution_count": 25,
   "id": "25ebe9fc-c1f7-4ecd-a72d-d7db2191030a",
   "metadata": {},
   "outputs": [
    {
     "data": {
      "text/plain": [
       "39"
      ]
     },
     "execution_count": 25,
     "metadata": {},
     "output_type": "execute_result"
    }
   ],
   "source": [
    "solveQuadEq = lambda a, b, c, x: a*x**2 + b*x + c  # Multi argument\n",
    "solveQuadEq(5, 6, 7, x = 2)"
   ]
  },
  {
   "cell_type": "code",
   "execution_count": null,
   "id": "2842a617-d779-4a42-b765-05997480c908",
   "metadata": {},
   "outputs": [],
   "source": [
    "# PANDAS - 30/07/2024"
   ]
  },
  {
   "cell_type": "code",
   "execution_count": 36,
   "id": "8c186f23-b31d-4c2f-8ab5-7262a6b0a65a",
   "metadata": {},
   "outputs": [
    {
     "data": {
      "text/plain": [
       "a         Manish\n",
       "b         Hardik\n",
       "c         Akshay\n",
       "d    Shreelaxmee\n",
       "e          Rohan\n",
       "f         Anjana\n",
       "dtype: object"
      ]
     },
     "execution_count": 36,
     "metadata": {},
     "output_type": "execute_result"
    }
   ],
   "source": [
    "import pandas as pd\n",
    "\n",
    "name = pd.Series(\n",
    "    ['Manish', 'Hardik', 'Akshay', 'Shreelaxmee', 'Rohan', 'Anjana'], \n",
    "    index=['a', 'b', 'c', 'd', 'e', 'f']\n",
    ")\n",
    "name"
   ]
  },
  {
   "cell_type": "code",
   "execution_count": 42,
   "id": "c616cf56-7c9c-4225-85fe-05af3994b48f",
   "metadata": {},
   "outputs": [
    {
     "data": {
      "text/html": [
       "<div>\n",
       "<style scoped>\n",
       "    .dataframe tbody tr th:only-of-type {\n",
       "        vertical-align: middle;\n",
       "    }\n",
       "\n",
       "    .dataframe tbody tr th {\n",
       "        vertical-align: top;\n",
       "    }\n",
       "\n",
       "    .dataframe thead th {\n",
       "        text-align: right;\n",
       "    }\n",
       "</style>\n",
       "<table border=\"1\" class=\"dataframe\">\n",
       "  <thead>\n",
       "    <tr style=\"text-align: right;\">\n",
       "      <th></th>\n",
       "      <th>roll_no</th>\n",
       "      <th>name</th>\n",
       "      <th>class</th>\n",
       "    </tr>\n",
       "  </thead>\n",
       "  <tbody>\n",
       "    <tr>\n",
       "      <th>0</th>\n",
       "      <td>6620</td>\n",
       "      <td>shivam</td>\n",
       "      <td>MSc-IT</td>\n",
       "    </tr>\n",
       "    <tr>\n",
       "      <th>1</th>\n",
       "      <td>6621</td>\n",
       "      <td>ganesh</td>\n",
       "      <td>MSc-IT</td>\n",
       "    </tr>\n",
       "    <tr>\n",
       "      <th>2</th>\n",
       "      <td>6622</td>\n",
       "      <td>dinesh</td>\n",
       "      <td>MSc-IT</td>\n",
       "    </tr>\n",
       "    <tr>\n",
       "      <th>3</th>\n",
       "      <td>6624</td>\n",
       "      <td>ramesh</td>\n",
       "      <td>MSc-IT</td>\n",
       "    </tr>\n",
       "    <tr>\n",
       "      <th>4</th>\n",
       "      <td>6625</td>\n",
       "      <td>dhanesh</td>\n",
       "      <td>MSc-IT</td>\n",
       "    </tr>\n",
       "    <tr>\n",
       "      <th>5</th>\n",
       "      <td>6626</td>\n",
       "      <td>mayuresh</td>\n",
       "      <td>MSc-IT</td>\n",
       "    </tr>\n",
       "    <tr>\n",
       "      <th>6</th>\n",
       "      <td>6627</td>\n",
       "      <td>deepesh</td>\n",
       "      <td>MSc-IT</td>\n",
       "    </tr>\n",
       "    <tr>\n",
       "      <th>7</th>\n",
       "      <td>6628</td>\n",
       "      <td>nilesh</td>\n",
       "      <td>MSc-IT</td>\n",
       "    </tr>\n",
       "  </tbody>\n",
       "</table>\n",
       "</div>"
      ],
      "text/plain": [
       "   roll_no      name   class\n",
       "0     6620    shivam  MSc-IT\n",
       "1     6621    ganesh  MSc-IT\n",
       "2     6622    dinesh  MSc-IT\n",
       "3     6624    ramesh  MSc-IT\n",
       "4     6625   dhanesh  MSc-IT\n",
       "5     6626  mayuresh  MSc-IT\n",
       "6     6627   deepesh  MSc-IT\n",
       "7     6628    nilesh  MSc-IT"
      ]
     },
     "execution_count": 42,
     "metadata": {},
     "output_type": "execute_result"
    }
   ],
   "source": [
    "data = {\n",
    "    'roll_no' : [6620, 6621, 6622, 6624, 6625, 6626, 6627, 6628],\n",
    "    'name': ['shivam', 'ganesh', 'dinesh', 'ramesh', 'dhanesh', 'mayuresh', 'deepesh', 'nilesh'],\n",
    "    'class': ['MSc-IT','MSc-IT','MSc-IT','MSc-IT','MSc-IT','MSc-IT','MSc-IT','MSc-IT']\n",
    "}\n",
    "\n",
    "df = pd.DataFrame(data)\n",
    "df"
   ]
  },
  {
   "cell_type": "code",
   "execution_count": 43,
   "id": "9532be09-98db-4c26-9d6d-f76020d52ace",
   "metadata": {},
   "outputs": [
    {
     "data": {
      "text/html": [
       "<div>\n",
       "<style scoped>\n",
       "    .dataframe tbody tr th:only-of-type {\n",
       "        vertical-align: middle;\n",
       "    }\n",
       "\n",
       "    .dataframe tbody tr th {\n",
       "        vertical-align: top;\n",
       "    }\n",
       "\n",
       "    .dataframe thead th {\n",
       "        text-align: right;\n",
       "    }\n",
       "</style>\n",
       "<table border=\"1\" class=\"dataframe\">\n",
       "  <thead>\n",
       "    <tr style=\"text-align: right;\">\n",
       "      <th></th>\n",
       "      <th>roll_no</th>\n",
       "      <th>name</th>\n",
       "      <th>class</th>\n",
       "    </tr>\n",
       "  </thead>\n",
       "  <tbody>\n",
       "    <tr>\n",
       "      <th>0</th>\n",
       "      <td>6620</td>\n",
       "      <td>shivam</td>\n",
       "      <td>MSc-IT</td>\n",
       "    </tr>\n",
       "    <tr>\n",
       "      <th>1</th>\n",
       "      <td>6621</td>\n",
       "      <td>ganesh</td>\n",
       "      <td>MSc-IT</td>\n",
       "    </tr>\n",
       "    <tr>\n",
       "      <th>2</th>\n",
       "      <td>6622</td>\n",
       "      <td>dinesh</td>\n",
       "      <td>MSc-IT</td>\n",
       "    </tr>\n",
       "    <tr>\n",
       "      <th>3</th>\n",
       "      <td>6624</td>\n",
       "      <td>ramesh</td>\n",
       "      <td>MSc-IT</td>\n",
       "    </tr>\n",
       "    <tr>\n",
       "      <th>4</th>\n",
       "      <td>6625</td>\n",
       "      <td>dhanesh</td>\n",
       "      <td>MSc-IT</td>\n",
       "    </tr>\n",
       "  </tbody>\n",
       "</table>\n",
       "</div>"
      ],
      "text/plain": [
       "   roll_no     name   class\n",
       "0     6620   shivam  MSc-IT\n",
       "1     6621   ganesh  MSc-IT\n",
       "2     6622   dinesh  MSc-IT\n",
       "3     6624   ramesh  MSc-IT\n",
       "4     6625  dhanesh  MSc-IT"
      ]
     },
     "execution_count": 43,
     "metadata": {},
     "output_type": "execute_result"
    }
   ],
   "source": [
    "df.head()"
   ]
  },
  {
   "cell_type": "code",
   "execution_count": 44,
   "id": "a4ba04b3-fb32-4f70-aea5-bf09bc709c6b",
   "metadata": {},
   "outputs": [
    {
     "data": {
      "text/html": [
       "<div>\n",
       "<style scoped>\n",
       "    .dataframe tbody tr th:only-of-type {\n",
       "        vertical-align: middle;\n",
       "    }\n",
       "\n",
       "    .dataframe tbody tr th {\n",
       "        vertical-align: top;\n",
       "    }\n",
       "\n",
       "    .dataframe thead th {\n",
       "        text-align: right;\n",
       "    }\n",
       "</style>\n",
       "<table border=\"1\" class=\"dataframe\">\n",
       "  <thead>\n",
       "    <tr style=\"text-align: right;\">\n",
       "      <th></th>\n",
       "      <th>roll_no</th>\n",
       "      <th>name</th>\n",
       "      <th>class</th>\n",
       "    </tr>\n",
       "  </thead>\n",
       "  <tbody>\n",
       "    <tr>\n",
       "      <th>3</th>\n",
       "      <td>6624</td>\n",
       "      <td>ramesh</td>\n",
       "      <td>MSc-IT</td>\n",
       "    </tr>\n",
       "    <tr>\n",
       "      <th>4</th>\n",
       "      <td>6625</td>\n",
       "      <td>dhanesh</td>\n",
       "      <td>MSc-IT</td>\n",
       "    </tr>\n",
       "    <tr>\n",
       "      <th>5</th>\n",
       "      <td>6626</td>\n",
       "      <td>mayuresh</td>\n",
       "      <td>MSc-IT</td>\n",
       "    </tr>\n",
       "    <tr>\n",
       "      <th>6</th>\n",
       "      <td>6627</td>\n",
       "      <td>deepesh</td>\n",
       "      <td>MSc-IT</td>\n",
       "    </tr>\n",
       "    <tr>\n",
       "      <th>7</th>\n",
       "      <td>6628</td>\n",
       "      <td>nilesh</td>\n",
       "      <td>MSc-IT</td>\n",
       "    </tr>\n",
       "  </tbody>\n",
       "</table>\n",
       "</div>"
      ],
      "text/plain": [
       "   roll_no      name   class\n",
       "3     6624    ramesh  MSc-IT\n",
       "4     6625   dhanesh  MSc-IT\n",
       "5     6626  mayuresh  MSc-IT\n",
       "6     6627   deepesh  MSc-IT\n",
       "7     6628    nilesh  MSc-IT"
      ]
     },
     "execution_count": 44,
     "metadata": {},
     "output_type": "execute_result"
    }
   ],
   "source": [
    "df.tail()"
   ]
  },
  {
   "cell_type": "code",
   "execution_count": 45,
   "id": "3c1fec7d-f856-482c-9031-235710e66bda",
   "metadata": {},
   "outputs": [
    {
     "data": {
      "text/html": [
       "<div>\n",
       "<style scoped>\n",
       "    .dataframe tbody tr th:only-of-type {\n",
       "        vertical-align: middle;\n",
       "    }\n",
       "\n",
       "    .dataframe tbody tr th {\n",
       "        vertical-align: top;\n",
       "    }\n",
       "\n",
       "    .dataframe thead th {\n",
       "        text-align: right;\n",
       "    }\n",
       "</style>\n",
       "<table border=\"1\" class=\"dataframe\">\n",
       "  <thead>\n",
       "    <tr style=\"text-align: right;\">\n",
       "      <th></th>\n",
       "      <th>roll_no</th>\n",
       "      <th>name</th>\n",
       "      <th>class</th>\n",
       "    </tr>\n",
       "  </thead>\n",
       "  <tbody>\n",
       "    <tr>\n",
       "      <th>0</th>\n",
       "      <td>6620</td>\n",
       "      <td>shivam</td>\n",
       "      <td>MSc-IT</td>\n",
       "    </tr>\n",
       "    <tr>\n",
       "      <th>1</th>\n",
       "      <td>6621</td>\n",
       "      <td>ganesh</td>\n",
       "      <td>MSc-IT</td>\n",
       "    </tr>\n",
       "    <tr>\n",
       "      <th>2</th>\n",
       "      <td>6622</td>\n",
       "      <td>dinesh</td>\n",
       "      <td>MSc-IT</td>\n",
       "    </tr>\n",
       "  </tbody>\n",
       "</table>\n",
       "</div>"
      ],
      "text/plain": [
       "   roll_no    name   class\n",
       "0     6620  shivam  MSc-IT\n",
       "1     6621  ganesh  MSc-IT\n",
       "2     6622  dinesh  MSc-IT"
      ]
     },
     "execution_count": 45,
     "metadata": {},
     "output_type": "execute_result"
    }
   ],
   "source": [
    "df.head(3)"
   ]
  },
  {
   "cell_type": "code",
   "execution_count": 46,
   "id": "879aab3c-3371-4958-9234-6934d15958b9",
   "metadata": {},
   "outputs": [
    {
     "data": {
      "text/html": [
       "<div>\n",
       "<style scoped>\n",
       "    .dataframe tbody tr th:only-of-type {\n",
       "        vertical-align: middle;\n",
       "    }\n",
       "\n",
       "    .dataframe tbody tr th {\n",
       "        vertical-align: top;\n",
       "    }\n",
       "\n",
       "    .dataframe thead th {\n",
       "        text-align: right;\n",
       "    }\n",
       "</style>\n",
       "<table border=\"1\" class=\"dataframe\">\n",
       "  <thead>\n",
       "    <tr style=\"text-align: right;\">\n",
       "      <th></th>\n",
       "      <th>roll_no</th>\n",
       "      <th>name</th>\n",
       "      <th>class</th>\n",
       "    </tr>\n",
       "  </thead>\n",
       "  <tbody>\n",
       "    <tr>\n",
       "      <th>5</th>\n",
       "      <td>6626</td>\n",
       "      <td>mayuresh</td>\n",
       "      <td>MSc-IT</td>\n",
       "    </tr>\n",
       "    <tr>\n",
       "      <th>6</th>\n",
       "      <td>6627</td>\n",
       "      <td>deepesh</td>\n",
       "      <td>MSc-IT</td>\n",
       "    </tr>\n",
       "    <tr>\n",
       "      <th>7</th>\n",
       "      <td>6628</td>\n",
       "      <td>nilesh</td>\n",
       "      <td>MSc-IT</td>\n",
       "    </tr>\n",
       "  </tbody>\n",
       "</table>\n",
       "</div>"
      ],
      "text/plain": [
       "   roll_no      name   class\n",
       "5     6626  mayuresh  MSc-IT\n",
       "6     6627   deepesh  MSc-IT\n",
       "7     6628    nilesh  MSc-IT"
      ]
     },
     "execution_count": 46,
     "metadata": {},
     "output_type": "execute_result"
    }
   ],
   "source": [
    "df.tail(3)"
   ]
  },
  {
   "cell_type": "code",
   "execution_count": 47,
   "id": "5aa2af6a-fce5-4215-a8b5-2bc728b07848",
   "metadata": {},
   "outputs": [
    {
     "data": {
      "text/html": [
       "<div>\n",
       "<style scoped>\n",
       "    .dataframe tbody tr th:only-of-type {\n",
       "        vertical-align: middle;\n",
       "    }\n",
       "\n",
       "    .dataframe tbody tr th {\n",
       "        vertical-align: top;\n",
       "    }\n",
       "\n",
       "    .dataframe thead th {\n",
       "        text-align: right;\n",
       "    }\n",
       "</style>\n",
       "<table border=\"1\" class=\"dataframe\">\n",
       "  <thead>\n",
       "    <tr style=\"text-align: right;\">\n",
       "      <th></th>\n",
       "      <th>roll_no</th>\n",
       "    </tr>\n",
       "  </thead>\n",
       "  <tbody>\n",
       "    <tr>\n",
       "      <th>count</th>\n",
       "      <td>8.000000</td>\n",
       "    </tr>\n",
       "    <tr>\n",
       "      <th>mean</th>\n",
       "      <td>6624.125000</td>\n",
       "    </tr>\n",
       "    <tr>\n",
       "      <th>std</th>\n",
       "      <td>2.900123</td>\n",
       "    </tr>\n",
       "    <tr>\n",
       "      <th>min</th>\n",
       "      <td>6620.000000</td>\n",
       "    </tr>\n",
       "    <tr>\n",
       "      <th>25%</th>\n",
       "      <td>6621.750000</td>\n",
       "    </tr>\n",
       "    <tr>\n",
       "      <th>50%</th>\n",
       "      <td>6624.500000</td>\n",
       "    </tr>\n",
       "    <tr>\n",
       "      <th>75%</th>\n",
       "      <td>6626.250000</td>\n",
       "    </tr>\n",
       "    <tr>\n",
       "      <th>max</th>\n",
       "      <td>6628.000000</td>\n",
       "    </tr>\n",
       "  </tbody>\n",
       "</table>\n",
       "</div>"
      ],
      "text/plain": [
       "           roll_no\n",
       "count     8.000000\n",
       "mean   6624.125000\n",
       "std       2.900123\n",
       "min    6620.000000\n",
       "25%    6621.750000\n",
       "50%    6624.500000\n",
       "75%    6626.250000\n",
       "max    6628.000000"
      ]
     },
     "execution_count": 47,
     "metadata": {},
     "output_type": "execute_result"
    }
   ],
   "source": [
    "df.describe()"
   ]
  },
  {
   "cell_type": "code",
   "execution_count": 63,
   "id": "512c951b-5857-4f8f-9a00-413055701bf5",
   "metadata": {},
   "outputs": [
    {
     "name": "stdout",
     "output_type": "stream",
     "text": [
      "---------- 1 ----------\n",
      " 0      shivam\n",
      "1      ganesh\n",
      "2      dinesh\n",
      "3      ramesh\n",
      "4     dhanesh\n",
      "5    mayuresh\n",
      "6     deepesh\n",
      "7      nilesh\n",
      "Name: name, dtype: object\n",
      "\n",
      "---------- 2 ----------\n",
      " 0      shivam\n",
      "1      ganesh\n",
      "2      dinesh\n",
      "3      ramesh\n",
      "4     dhanesh\n",
      "5    mayuresh\n",
      "6     deepesh\n",
      "7      nilesh\n",
      "Name: name, dtype: object\n"
     ]
    }
   ],
   "source": [
    "print(\"---------- 1 ----------\\n\",  df['name'])\n",
    "#  or \n",
    "print(\"\\n---------- 2 ----------\\n\", df.name)"
   ]
  },
  {
   "cell_type": "code",
   "execution_count": 64,
   "id": "66066048-41c8-4404-b27b-d76d3e41b1a3",
   "metadata": {},
   "outputs": [
    {
     "data": {
      "text/plain": [
       "RangeIndex(start=0, stop=8, step=1)"
      ]
     },
     "execution_count": 64,
     "metadata": {},
     "output_type": "execute_result"
    }
   ],
   "source": [
    "df.index"
   ]
  },
  {
   "cell_type": "code",
   "execution_count": 66,
   "id": "f3255cf9-2a75-47bc-8959-d536b470c0dd",
   "metadata": {},
   "outputs": [
    {
     "data": {
      "text/plain": [
       "roll_no     int64\n",
       "name       object\n",
       "class      object\n",
       "dtype: object"
      ]
     },
     "execution_count": 66,
     "metadata": {},
     "output_type": "execute_result"
    }
   ],
   "source": [
    "df.dtypes"
   ]
  }
 ],
 "metadata": {
  "kernelspec": {
   "display_name": "Python 3 (ipykernel)",
   "language": "python",
   "name": "python3"
  },
  "language_info": {
   "codemirror_mode": {
    "name": "ipython",
    "version": 3
   },
   "file_extension": ".py",
   "mimetype": "text/x-python",
   "name": "python",
   "nbconvert_exporter": "python",
   "pygments_lexer": "ipython3",
   "version": "3.12.3"
  }
 },
 "nbformat": 4,
 "nbformat_minor": 5
}
