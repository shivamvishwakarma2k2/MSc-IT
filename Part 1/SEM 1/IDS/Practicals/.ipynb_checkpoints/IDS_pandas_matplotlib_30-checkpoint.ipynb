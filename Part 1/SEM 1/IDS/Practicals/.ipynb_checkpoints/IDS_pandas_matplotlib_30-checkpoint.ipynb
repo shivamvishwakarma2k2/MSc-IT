{
 "cells": [
  {
   "cell_type": "code",
   "execution_count": 1,
   "id": "59924040-6455-4234-8b7a-b4f9b0716624",
   "metadata": {},
   "outputs": [
    {
     "data": {
      "text/html": [
       "<div>\n",
       "<style scoped>\n",
       "    .dataframe tbody tr th:only-of-type {\n",
       "        vertical-align: middle;\n",
       "    }\n",
       "\n",
       "    .dataframe tbody tr th {\n",
       "        vertical-align: top;\n",
       "    }\n",
       "\n",
       "    .dataframe thead th {\n",
       "        text-align: right;\n",
       "    }\n",
       "</style>\n",
       "<table border=\"1\" class=\"dataframe\">\n",
       "  <thead>\n",
       "    <tr style=\"text-align: right;\">\n",
       "      <th></th>\n",
       "      <th>Stud ID</th>\n",
       "      <th>Name</th>\n",
       "      <th>Percentage</th>\n",
       "      <th>Class</th>\n",
       "      <th>mail</th>\n",
       "    </tr>\n",
       "  </thead>\n",
       "  <tbody>\n",
       "    <tr>\n",
       "      <th>0</th>\n",
       "      <td>1</td>\n",
       "      <td>Anita Kale</td>\n",
       "      <td>55.6780</td>\n",
       "      <td>fy</td>\n",
       "      <td>Anita123@gmail.com</td>\n",
       "    </tr>\n",
       "    <tr>\n",
       "      <th>1</th>\n",
       "      <td>2</td>\n",
       "      <td>Vishakha Attarde</td>\n",
       "      <td>67.0000</td>\n",
       "      <td>TY</td>\n",
       "      <td>Vishakha!123@rediffmail.com</td>\n",
       "    </tr>\n",
       "    <tr>\n",
       "      <th>2</th>\n",
       "      <td>3</td>\n",
       "      <td>Ragini YADAV</td>\n",
       "      <td>78.9000</td>\n",
       "      <td>sy</td>\n",
       "      <td>Ragini!@gmail.com</td>\n",
       "    </tr>\n",
       "    <tr>\n",
       "      <th>3</th>\n",
       "      <td>4</td>\n",
       "      <td>Venuka Prajapati</td>\n",
       "      <td>40.5567</td>\n",
       "      <td>Third year</td>\n",
       "      <td>Venuka##@gmail.com</td>\n",
       "    </tr>\n",
       "    <tr>\n",
       "      <th>4</th>\n",
       "      <td>5</td>\n",
       "      <td>RUPA MALI</td>\n",
       "      <td>NaN</td>\n",
       "      <td>Third Year</td>\n",
       "      <td>Rupa.1@gmail.com</td>\n",
       "    </tr>\n",
       "    <tr>\n",
       "      <th>5</th>\n",
       "      <td>6</td>\n",
       "      <td>rani yadav</td>\n",
       "      <td>45.5000</td>\n",
       "      <td>First Year</td>\n",
       "      <td>Rani    Yadav@yahoo.com</td>\n",
       "    </tr>\n",
       "  </tbody>\n",
       "</table>\n",
       "</div>"
      ],
      "text/plain": [
       "   Stud ID              Name  Percentage       Class  \\\n",
       "0        1        Anita Kale     55.6780          fy   \n",
       "1        2  Vishakha Attarde     67.0000          TY   \n",
       "2        3      Ragini YADAV     78.9000          sy   \n",
       "3        4  Venuka Prajapati     40.5567  Third year   \n",
       "4        5         RUPA MALI         NaN  Third Year   \n",
       "5        6        rani yadav     45.5000  First Year   \n",
       "\n",
       "                          mail  \n",
       "0           Anita123@gmail.com  \n",
       "1  Vishakha!123@rediffmail.com  \n",
       "2            Ragini!@gmail.com  \n",
       "3           Venuka##@gmail.com  \n",
       "4             Rupa.1@gmail.com  \n",
       "5      Rani    Yadav@yahoo.com  "
      ]
     },
     "execution_count": 1,
     "metadata": {},
     "output_type": "execute_result"
    }
   ],
   "source": [
    "import pandas as pd\n",
    "\n",
    "df = pd.read_csv(\"data.csv\")\n",
    "df"
   ]
  },
  {
   "cell_type": "code",
   "execution_count": 2,
   "id": "c9733dd2-8d75-4e9f-9629-5c54b7d28910",
   "metadata": {},
   "outputs": [
    {
     "data": {
      "text/html": [
       "<div>\n",
       "<style scoped>\n",
       "    .dataframe tbody tr th:only-of-type {\n",
       "        vertical-align: middle;\n",
       "    }\n",
       "\n",
       "    .dataframe tbody tr th {\n",
       "        vertical-align: top;\n",
       "    }\n",
       "\n",
       "    .dataframe thead th {\n",
       "        text-align: right;\n",
       "    }\n",
       "</style>\n",
       "<table border=\"1\" class=\"dataframe\">\n",
       "  <thead>\n",
       "    <tr style=\"text-align: right;\">\n",
       "      <th></th>\n",
       "      <th>Stud ID</th>\n",
       "      <th>Name</th>\n",
       "      <th>Percentage</th>\n",
       "      <th>Class</th>\n",
       "      <th>mail</th>\n",
       "    </tr>\n",
       "  </thead>\n",
       "  <tbody>\n",
       "    <tr>\n",
       "      <th>0</th>\n",
       "      <td>1</td>\n",
       "      <td>Anita Kale</td>\n",
       "      <td>55.678</td>\n",
       "      <td>fy</td>\n",
       "      <td>Anita123@gmail.com</td>\n",
       "    </tr>\n",
       "    <tr>\n",
       "      <th>1</th>\n",
       "      <td>2</td>\n",
       "      <td>Vishakha Attarde</td>\n",
       "      <td>67.000</td>\n",
       "      <td>TY</td>\n",
       "      <td>Vishakha!123@rediffmail.com</td>\n",
       "    </tr>\n",
       "  </tbody>\n",
       "</table>\n",
       "</div>"
      ],
      "text/plain": [
       "   Stud ID              Name  Percentage Class                         mail\n",
       "0        1        Anita Kale      55.678    fy           Anita123@gmail.com\n",
       "1        2  Vishakha Attarde      67.000    TY  Vishakha!123@rediffmail.com"
      ]
     },
     "execution_count": 2,
     "metadata": {},
     "output_type": "execute_result"
    }
   ],
   "source": [
    "df.head(2)"
   ]
  },
  {
   "cell_type": "code",
   "execution_count": 3,
   "id": "8f0aa660-4f26-4038-9287-7b7424af923a",
   "metadata": {},
   "outputs": [
    {
     "data": {
      "text/html": [
       "<div>\n",
       "<style scoped>\n",
       "    .dataframe tbody tr th:only-of-type {\n",
       "        vertical-align: middle;\n",
       "    }\n",
       "\n",
       "    .dataframe tbody tr th {\n",
       "        vertical-align: top;\n",
       "    }\n",
       "\n",
       "    .dataframe thead th {\n",
       "        text-align: right;\n",
       "    }\n",
       "</style>\n",
       "<table border=\"1\" class=\"dataframe\">\n",
       "  <thead>\n",
       "    <tr style=\"text-align: right;\">\n",
       "      <th></th>\n",
       "      <th>Stud ID</th>\n",
       "      <th>Name</th>\n",
       "      <th>Percentage</th>\n",
       "      <th>Class</th>\n",
       "      <th>mail</th>\n",
       "    </tr>\n",
       "  </thead>\n",
       "  <tbody>\n",
       "    <tr>\n",
       "      <th>4</th>\n",
       "      <td>5</td>\n",
       "      <td>RUPA MALI</td>\n",
       "      <td>NaN</td>\n",
       "      <td>Third Year</td>\n",
       "      <td>Rupa.1@gmail.com</td>\n",
       "    </tr>\n",
       "    <tr>\n",
       "      <th>5</th>\n",
       "      <td>6</td>\n",
       "      <td>rani yadav</td>\n",
       "      <td>45.5</td>\n",
       "      <td>First Year</td>\n",
       "      <td>Rani    Yadav@yahoo.com</td>\n",
       "    </tr>\n",
       "  </tbody>\n",
       "</table>\n",
       "</div>"
      ],
      "text/plain": [
       "   Stud ID        Name  Percentage       Class                     mail\n",
       "4        5   RUPA MALI         NaN  Third Year         Rupa.1@gmail.com\n",
       "5        6  rani yadav        45.5  First Year  Rani    Yadav@yahoo.com"
      ]
     },
     "execution_count": 3,
     "metadata": {},
     "output_type": "execute_result"
    }
   ],
   "source": [
    "df.tail(2)"
   ]
  },
  {
   "cell_type": "code",
   "execution_count": 4,
   "id": "c9ba26d3-d5ab-4107-b8ab-5912c8fcdbe2",
   "metadata": {},
   "outputs": [
    {
     "data": {
      "text/plain": [
       "Index(['Stud ID', 'Name', 'Percentage', 'Class', 'mail'], dtype='object')"
      ]
     },
     "execution_count": 4,
     "metadata": {},
     "output_type": "execute_result"
    }
   ],
   "source": [
    "df.columns"
   ]
  },
  {
   "cell_type": "code",
   "execution_count": 18,
   "id": "0215e125-6e47-4b84-b95f-16653372487d",
   "metadata": {},
   "outputs": [
    {
     "data": {
      "text/plain": [
       "RangeIndex(start=0, stop=6, step=1)"
      ]
     },
     "execution_count": 18,
     "metadata": {},
     "output_type": "execute_result"
    }
   ],
   "source": [
    "df.index"
   ]
  },
  {
   "cell_type": "code",
   "execution_count": 19,
   "id": "30c0f33a-d4df-44cf-8be3-43e35ecd39f8",
   "metadata": {},
   "outputs": [
    {
     "data": {
      "text/plain": [
       "array([[1, 'Anita Kale', 55.678, 'fy', 'Anita123@gmail.com'],\n",
       "       [2, 'Vishakha Attarde', 67.0, 'TY', 'Vishakha!123@rediffmail.com'],\n",
       "       [3, 'Ragini YADAV', 78.9, 'sy', 'Ragini!@gmail.com'],\n",
       "       [4, 'Venuka Prajapati', 40.5567, 'Third year',\n",
       "        'Venuka##@gmail.com'],\n",
       "       [5, 'RUPA MALI', nan, 'Third Year', 'Rupa.1@gmail.com'],\n",
       "       [6, 'rani yadav', 45.5, 'First Year', 'Rani    Yadav@yahoo.com']],\n",
       "      dtype=object)"
      ]
     },
     "execution_count": 19,
     "metadata": {},
     "output_type": "execute_result"
    }
   ],
   "source": [
    "df.values"
   ]
  },
  {
   "cell_type": "code",
   "execution_count": 15,
   "id": "9fa4c8a1-d9b5-43a9-8fa7-c1221fd4908a",
   "metadata": {},
   "outputs": [
    {
     "data": {
      "text/html": [
       "<div>\n",
       "<style scoped>\n",
       "    .dataframe tbody tr th:only-of-type {\n",
       "        vertical-align: middle;\n",
       "    }\n",
       "\n",
       "    .dataframe tbody tr th {\n",
       "        vertical-align: top;\n",
       "    }\n",
       "\n",
       "    .dataframe thead th {\n",
       "        text-align: right;\n",
       "    }\n",
       "</style>\n",
       "<table border=\"1\" class=\"dataframe\">\n",
       "  <thead>\n",
       "    <tr style=\"text-align: right;\">\n",
       "      <th></th>\n",
       "      <th>Stud ID</th>\n",
       "      <th>Percentage</th>\n",
       "    </tr>\n",
       "  </thead>\n",
       "  <tbody>\n",
       "    <tr>\n",
       "      <th>count</th>\n",
       "      <td>6.000000</td>\n",
       "      <td>5.000000</td>\n",
       "    </tr>\n",
       "    <tr>\n",
       "      <th>mean</th>\n",
       "      <td>3.500000</td>\n",
       "      <td>57.526940</td>\n",
       "    </tr>\n",
       "    <tr>\n",
       "      <th>std</th>\n",
       "      <td>1.870829</td>\n",
       "      <td>15.673237</td>\n",
       "    </tr>\n",
       "    <tr>\n",
       "      <th>min</th>\n",
       "      <td>1.000000</td>\n",
       "      <td>40.556700</td>\n",
       "    </tr>\n",
       "    <tr>\n",
       "      <th>25%</th>\n",
       "      <td>2.250000</td>\n",
       "      <td>45.500000</td>\n",
       "    </tr>\n",
       "    <tr>\n",
       "      <th>50%</th>\n",
       "      <td>3.500000</td>\n",
       "      <td>55.678000</td>\n",
       "    </tr>\n",
       "    <tr>\n",
       "      <th>75%</th>\n",
       "      <td>4.750000</td>\n",
       "      <td>67.000000</td>\n",
       "    </tr>\n",
       "    <tr>\n",
       "      <th>max</th>\n",
       "      <td>6.000000</td>\n",
       "      <td>78.900000</td>\n",
       "    </tr>\n",
       "  </tbody>\n",
       "</table>\n",
       "</div>"
      ],
      "text/plain": [
       "        Stud ID  Percentage\n",
       "count  6.000000    5.000000\n",
       "mean   3.500000   57.526940\n",
       "std    1.870829   15.673237\n",
       "min    1.000000   40.556700\n",
       "25%    2.250000   45.500000\n",
       "50%    3.500000   55.678000\n",
       "75%    4.750000   67.000000\n",
       "max    6.000000   78.900000"
      ]
     },
     "execution_count": 15,
     "metadata": {},
     "output_type": "execute_result"
    }
   ],
   "source": [
    "df.describe()"
   ]
  },
  {
   "cell_type": "code",
   "execution_count": 27,
   "id": "4d0fdd9c-ba47-42d4-8937-a80175bdc341",
   "metadata": {},
   "outputs": [],
   "source": [
    "df = pd.DataFrame(df, columns=['Stud ID', 'Name', 'Percentage', 'Class', 'mail', 'Exp'])"
   ]
  },
  {
   "cell_type": "code",
   "execution_count": 28,
   "id": "a47f33a5-9450-4e18-9ba3-3b966045a4fb",
   "metadata": {},
   "outputs": [
    {
     "data": {
      "text/html": [
       "<div>\n",
       "<style scoped>\n",
       "    .dataframe tbody tr th:only-of-type {\n",
       "        vertical-align: middle;\n",
       "    }\n",
       "\n",
       "    .dataframe tbody tr th {\n",
       "        vertical-align: top;\n",
       "    }\n",
       "\n",
       "    .dataframe thead th {\n",
       "        text-align: right;\n",
       "    }\n",
       "</style>\n",
       "<table border=\"1\" class=\"dataframe\">\n",
       "  <thead>\n",
       "    <tr style=\"text-align: right;\">\n",
       "      <th></th>\n",
       "      <th>Stud ID</th>\n",
       "      <th>Name</th>\n",
       "      <th>Percentage</th>\n",
       "      <th>Class</th>\n",
       "      <th>mail</th>\n",
       "      <th>Exp</th>\n",
       "    </tr>\n",
       "  </thead>\n",
       "  <tbody>\n",
       "    <tr>\n",
       "      <th>0</th>\n",
       "      <td>False</td>\n",
       "      <td>False</td>\n",
       "      <td>False</td>\n",
       "      <td>False</td>\n",
       "      <td>False</td>\n",
       "      <td>True</td>\n",
       "    </tr>\n",
       "    <tr>\n",
       "      <th>1</th>\n",
       "      <td>False</td>\n",
       "      <td>False</td>\n",
       "      <td>False</td>\n",
       "      <td>False</td>\n",
       "      <td>False</td>\n",
       "      <td>True</td>\n",
       "    </tr>\n",
       "    <tr>\n",
       "      <th>2</th>\n",
       "      <td>False</td>\n",
       "      <td>False</td>\n",
       "      <td>False</td>\n",
       "      <td>False</td>\n",
       "      <td>False</td>\n",
       "      <td>True</td>\n",
       "    </tr>\n",
       "    <tr>\n",
       "      <th>3</th>\n",
       "      <td>False</td>\n",
       "      <td>False</td>\n",
       "      <td>False</td>\n",
       "      <td>False</td>\n",
       "      <td>False</td>\n",
       "      <td>True</td>\n",
       "    </tr>\n",
       "    <tr>\n",
       "      <th>4</th>\n",
       "      <td>False</td>\n",
       "      <td>False</td>\n",
       "      <td>True</td>\n",
       "      <td>False</td>\n",
       "      <td>False</td>\n",
       "      <td>True</td>\n",
       "    </tr>\n",
       "    <tr>\n",
       "      <th>5</th>\n",
       "      <td>False</td>\n",
       "      <td>False</td>\n",
       "      <td>False</td>\n",
       "      <td>False</td>\n",
       "      <td>False</td>\n",
       "      <td>True</td>\n",
       "    </tr>\n",
       "  </tbody>\n",
       "</table>\n",
       "</div>"
      ],
      "text/plain": [
       "   Stud ID   Name  Percentage  Class   mail   Exp\n",
       "0    False  False       False  False  False  True\n",
       "1    False  False       False  False  False  True\n",
       "2    False  False       False  False  False  True\n",
       "3    False  False       False  False  False  True\n",
       "4    False  False        True  False  False  True\n",
       "5    False  False       False  False  False  True"
      ]
     },
     "execution_count": 28,
     "metadata": {},
     "output_type": "execute_result"
    }
   ],
   "source": [
    "df.isna()"
   ]
  },
  {
   "cell_type": "code",
   "execution_count": 29,
   "id": "44c55fab-6f5a-423d-89fd-454616c293cf",
   "metadata": {},
   "outputs": [
    {
     "data": {
      "text/html": [
       "<div>\n",
       "<style scoped>\n",
       "    .dataframe tbody tr th:only-of-type {\n",
       "        vertical-align: middle;\n",
       "    }\n",
       "\n",
       "    .dataframe tbody tr th {\n",
       "        vertical-align: top;\n",
       "    }\n",
       "\n",
       "    .dataframe thead th {\n",
       "        text-align: right;\n",
       "    }\n",
       "</style>\n",
       "<table border=\"1\" class=\"dataframe\">\n",
       "  <thead>\n",
       "    <tr style=\"text-align: right;\">\n",
       "      <th></th>\n",
       "      <th>Stud ID</th>\n",
       "      <th>Name</th>\n",
       "      <th>Percentage</th>\n",
       "      <th>Class</th>\n",
       "      <th>mail</th>\n",
       "      <th>Exp</th>\n",
       "    </tr>\n",
       "  </thead>\n",
       "  <tbody>\n",
       "    <tr>\n",
       "      <th>0</th>\n",
       "      <td>False</td>\n",
       "      <td>False</td>\n",
       "      <td>False</td>\n",
       "      <td>False</td>\n",
       "      <td>False</td>\n",
       "      <td>True</td>\n",
       "    </tr>\n",
       "    <tr>\n",
       "      <th>1</th>\n",
       "      <td>False</td>\n",
       "      <td>False</td>\n",
       "      <td>False</td>\n",
       "      <td>False</td>\n",
       "      <td>False</td>\n",
       "      <td>True</td>\n",
       "    </tr>\n",
       "    <tr>\n",
       "      <th>2</th>\n",
       "      <td>False</td>\n",
       "      <td>False</td>\n",
       "      <td>False</td>\n",
       "      <td>False</td>\n",
       "      <td>False</td>\n",
       "      <td>True</td>\n",
       "    </tr>\n",
       "    <tr>\n",
       "      <th>3</th>\n",
       "      <td>False</td>\n",
       "      <td>False</td>\n",
       "      <td>False</td>\n",
       "      <td>False</td>\n",
       "      <td>False</td>\n",
       "      <td>True</td>\n",
       "    </tr>\n",
       "    <tr>\n",
       "      <th>4</th>\n",
       "      <td>False</td>\n",
       "      <td>False</td>\n",
       "      <td>True</td>\n",
       "      <td>False</td>\n",
       "      <td>False</td>\n",
       "      <td>True</td>\n",
       "    </tr>\n",
       "    <tr>\n",
       "      <th>5</th>\n",
       "      <td>False</td>\n",
       "      <td>False</td>\n",
       "      <td>False</td>\n",
       "      <td>False</td>\n",
       "      <td>False</td>\n",
       "      <td>True</td>\n",
       "    </tr>\n",
       "  </tbody>\n",
       "</table>\n",
       "</div>"
      ],
      "text/plain": [
       "   Stud ID   Name  Percentage  Class   mail   Exp\n",
       "0    False  False       False  False  False  True\n",
       "1    False  False       False  False  False  True\n",
       "2    False  False       False  False  False  True\n",
       "3    False  False       False  False  False  True\n",
       "4    False  False        True  False  False  True\n",
       "5    False  False       False  False  False  True"
      ]
     },
     "execution_count": 29,
     "metadata": {},
     "output_type": "execute_result"
    }
   ],
   "source": [
    "df.isnull()"
   ]
  },
  {
   "cell_type": "code",
   "execution_count": 30,
   "id": "37b2e214-ef9c-4b28-a972-e1a44f6421a6",
   "metadata": {},
   "outputs": [
    {
     "data": {
      "text/plain": [
       "Stud ID         int64\n",
       "Name           object\n",
       "Percentage    float64\n",
       "Class          object\n",
       "mail           object\n",
       "Exp           float64\n",
       "dtype: object"
      ]
     },
     "execution_count": 30,
     "metadata": {},
     "output_type": "execute_result"
    }
   ],
   "source": [
    "df.dtypes"
   ]
  },
  {
   "cell_type": "code",
   "execution_count": 35,
   "id": "fcd32302-d390-49e0-91ea-05c71f7c1437",
   "metadata": {},
   "outputs": [
    {
     "data": {
      "text/html": [
       "<div>\n",
       "<style scoped>\n",
       "    .dataframe tbody tr th:only-of-type {\n",
       "        vertical-align: middle;\n",
       "    }\n",
       "\n",
       "    .dataframe tbody tr th {\n",
       "        vertical-align: top;\n",
       "    }\n",
       "\n",
       "    .dataframe thead th {\n",
       "        text-align: right;\n",
       "    }\n",
       "</style>\n",
       "<table border=\"1\" class=\"dataframe\">\n",
       "  <thead>\n",
       "    <tr style=\"text-align: right;\">\n",
       "      <th></th>\n",
       "      <th>Stud ID</th>\n",
       "      <th>Name</th>\n",
       "      <th>Percentage</th>\n",
       "      <th>Class</th>\n",
       "      <th>mail</th>\n",
       "      <th>Exp</th>\n",
       "    </tr>\n",
       "  </thead>\n",
       "  <tbody>\n",
       "    <tr>\n",
       "      <th>0</th>\n",
       "      <td>1</td>\n",
       "      <td>Anita Kale</td>\n",
       "      <td>55.6780</td>\n",
       "      <td>fy</td>\n",
       "      <td>Anita123@gmail.com</td>\n",
       "      <td>NaN</td>\n",
       "    </tr>\n",
       "    <tr>\n",
       "      <th>1</th>\n",
       "      <td>2</td>\n",
       "      <td>Vishakha Attarde</td>\n",
       "      <td>67.0000</td>\n",
       "      <td>TY</td>\n",
       "      <td>Vishakha!123@rediffmail.com</td>\n",
       "      <td>NaN</td>\n",
       "    </tr>\n",
       "    <tr>\n",
       "      <th>2</th>\n",
       "      <td>3</td>\n",
       "      <td>Ragini YADAV</td>\n",
       "      <td>78.9000</td>\n",
       "      <td>sy</td>\n",
       "      <td>Ragini!@gmail.com</td>\n",
       "      <td>NaN</td>\n",
       "    </tr>\n",
       "    <tr>\n",
       "      <th>3</th>\n",
       "      <td>4</td>\n",
       "      <td>Venuka Prajapati</td>\n",
       "      <td>40.5567</td>\n",
       "      <td>Third year</td>\n",
       "      <td>Venuka##@gmail.com</td>\n",
       "      <td>NaN</td>\n",
       "    </tr>\n",
       "  </tbody>\n",
       "</table>\n",
       "</div>"
      ],
      "text/plain": [
       "   Stud ID              Name  Percentage       Class  \\\n",
       "0        1        Anita Kale     55.6780          fy   \n",
       "1        2  Vishakha Attarde     67.0000          TY   \n",
       "2        3      Ragini YADAV     78.9000          sy   \n",
       "3        4  Venuka Prajapati     40.5567  Third year   \n",
       "\n",
       "                          mail  Exp  \n",
       "0           Anita123@gmail.com  NaN  \n",
       "1  Vishakha!123@rediffmail.com  NaN  \n",
       "2            Ragini!@gmail.com  NaN  \n",
       "3           Venuka##@gmail.com  NaN  "
      ]
     },
     "execution_count": 35,
     "metadata": {},
     "output_type": "execute_result"
    }
   ],
   "source": [
    "df.head(0-2)"
   ]
  },
  {
   "cell_type": "code",
   "execution_count": 36,
   "id": "b091d989-0df4-4f36-b45d-805c1a46ba14",
   "metadata": {},
   "outputs": [
    {
     "data": {
      "text/plain": [
       "Stud ID                       3\n",
       "Name               Ragini YADAV\n",
       "Percentage                 78.9\n",
       "Class                        sy\n",
       "mail          Ragini!@gmail.com\n",
       "Exp                         NaN\n",
       "Name: 2, dtype: object"
      ]
     },
     "execution_count": 36,
     "metadata": {},
     "output_type": "execute_result"
    }
   ],
   "source": [
    "df.iloc[2]"
   ]
  },
  {
   "cell_type": "code",
   "execution_count": 37,
   "id": "eb983c36-7d10-4743-b59c-f8a3834675de",
   "metadata": {},
   "outputs": [
    {
     "data": {
      "text/html": [
       "<div>\n",
       "<style scoped>\n",
       "    .dataframe tbody tr th:only-of-type {\n",
       "        vertical-align: middle;\n",
       "    }\n",
       "\n",
       "    .dataframe tbody tr th {\n",
       "        vertical-align: top;\n",
       "    }\n",
       "\n",
       "    .dataframe thead th {\n",
       "        text-align: right;\n",
       "    }\n",
       "</style>\n",
       "<table border=\"1\" class=\"dataframe\">\n",
       "  <thead>\n",
       "    <tr style=\"text-align: right;\">\n",
       "      <th></th>\n",
       "      <th>Stud ID</th>\n",
       "      <th>Name</th>\n",
       "      <th>Percentage</th>\n",
       "      <th>Class</th>\n",
       "      <th>mail</th>\n",
       "      <th>Exp</th>\n",
       "    </tr>\n",
       "  </thead>\n",
       "  <tbody>\n",
       "    <tr>\n",
       "      <th>1</th>\n",
       "      <td>2</td>\n",
       "      <td>Vishakha Attarde</td>\n",
       "      <td>67.0000</td>\n",
       "      <td>TY</td>\n",
       "      <td>Vishakha!123@rediffmail.com</td>\n",
       "      <td>NaN</td>\n",
       "    </tr>\n",
       "    <tr>\n",
       "      <th>2</th>\n",
       "      <td>3</td>\n",
       "      <td>Ragini YADAV</td>\n",
       "      <td>78.9000</td>\n",
       "      <td>sy</td>\n",
       "      <td>Ragini!@gmail.com</td>\n",
       "      <td>NaN</td>\n",
       "    </tr>\n",
       "    <tr>\n",
       "      <th>3</th>\n",
       "      <td>4</td>\n",
       "      <td>Venuka Prajapati</td>\n",
       "      <td>40.5567</td>\n",
       "      <td>Third year</td>\n",
       "      <td>Venuka##@gmail.com</td>\n",
       "      <td>NaN</td>\n",
       "    </tr>\n",
       "  </tbody>\n",
       "</table>\n",
       "</div>"
      ],
      "text/plain": [
       "   Stud ID              Name  Percentage       Class  \\\n",
       "1        2  Vishakha Attarde     67.0000          TY   \n",
       "2        3      Ragini YADAV     78.9000          sy   \n",
       "3        4  Venuka Prajapati     40.5567  Third year   \n",
       "\n",
       "                          mail  Exp  \n",
       "1  Vishakha!123@rediffmail.com  NaN  \n",
       "2            Ragini!@gmail.com  NaN  \n",
       "3           Venuka##@gmail.com  NaN  "
      ]
     },
     "execution_count": 37,
     "metadata": {},
     "output_type": "execute_result"
    }
   ],
   "source": [
    "df.iloc[1:4]"
   ]
  },
  {
   "cell_type": "code",
   "execution_count": 40,
   "id": "7906eb69-b488-4083-b63c-99b9eb54ddcf",
   "metadata": {},
   "outputs": [
    {
     "data": {
      "text/html": [
       "<div>\n",
       "<style scoped>\n",
       "    .dataframe tbody tr th:only-of-type {\n",
       "        vertical-align: middle;\n",
       "    }\n",
       "\n",
       "    .dataframe tbody tr th {\n",
       "        vertical-align: top;\n",
       "    }\n",
       "\n",
       "    .dataframe thead th {\n",
       "        text-align: right;\n",
       "    }\n",
       "</style>\n",
       "<table border=\"1\" class=\"dataframe\">\n",
       "  <thead>\n",
       "    <tr style=\"text-align: right;\">\n",
       "      <th></th>\n",
       "      <th>Name</th>\n",
       "      <th>Class</th>\n",
       "    </tr>\n",
       "  </thead>\n",
       "  <tbody>\n",
       "    <tr>\n",
       "      <th>0</th>\n",
       "      <td>Anita Kale</td>\n",
       "      <td>fy</td>\n",
       "    </tr>\n",
       "    <tr>\n",
       "      <th>1</th>\n",
       "      <td>Vishakha Attarde</td>\n",
       "      <td>TY</td>\n",
       "    </tr>\n",
       "    <tr>\n",
       "      <th>2</th>\n",
       "      <td>Ragini YADAV</td>\n",
       "      <td>sy</td>\n",
       "    </tr>\n",
       "  </tbody>\n",
       "</table>\n",
       "</div>"
      ],
      "text/plain": [
       "               Name Class\n",
       "0        Anita Kale    fy\n",
       "1  Vishakha Attarde    TY\n",
       "2      Ragini YADAV    sy"
      ]
     },
     "execution_count": 40,
     "metadata": {},
     "output_type": "execute_result"
    }
   ],
   "source": [
    "df[['Name', 'Class']].head(3)"
   ]
  },
  {
   "cell_type": "code",
   "execution_count": 41,
   "id": "ddd880ca-8bac-46ff-8a3a-d858f1ec9ee6",
   "metadata": {},
   "outputs": [
    {
     "data": {
      "text/html": [
       "<div>\n",
       "<style scoped>\n",
       "    .dataframe tbody tr th:only-of-type {\n",
       "        vertical-align: middle;\n",
       "    }\n",
       "\n",
       "    .dataframe tbody tr th {\n",
       "        vertical-align: top;\n",
       "    }\n",
       "\n",
       "    .dataframe thead th {\n",
       "        text-align: right;\n",
       "    }\n",
       "</style>\n",
       "<table border=\"1\" class=\"dataframe\">\n",
       "  <thead>\n",
       "    <tr style=\"text-align: right;\">\n",
       "      <th></th>\n",
       "      <th>Stud ID</th>\n",
       "      <th>Percentage</th>\n",
       "    </tr>\n",
       "  </thead>\n",
       "  <tbody>\n",
       "    <tr>\n",
       "      <th>1</th>\n",
       "      <td>2</td>\n",
       "      <td>67.0</td>\n",
       "    </tr>\n",
       "  </tbody>\n",
       "</table>\n",
       "</div>"
      ],
      "text/plain": [
       "   Stud ID  Percentage\n",
       "1        2        67.0"
      ]
     },
     "execution_count": 41,
     "metadata": {},
     "output_type": "execute_result"
    }
   ],
   "source": [
    "df.iloc[1:2, [0, 2]] # [row, [cols]]"
   ]
  },
  {
   "cell_type": "code",
   "execution_count": 71,
   "id": "d42ce53d-d56e-444c-a000-ebb7e22cf133",
   "metadata": {},
   "outputs": [
    {
     "data": {
      "text/html": [
       "<div>\n",
       "<style scoped>\n",
       "    .dataframe tbody tr th:only-of-type {\n",
       "        vertical-align: middle;\n",
       "    }\n",
       "\n",
       "    .dataframe tbody tr th {\n",
       "        vertical-align: top;\n",
       "    }\n",
       "\n",
       "    .dataframe thead th {\n",
       "        text-align: right;\n",
       "    }\n",
       "</style>\n",
       "<table border=\"1\" class=\"dataframe\">\n",
       "  <thead>\n",
       "    <tr style=\"text-align: right;\">\n",
       "      <th></th>\n",
       "      <th>c1</th>\n",
       "      <th>c2</th>\n",
       "      <th>c3</th>\n",
       "    </tr>\n",
       "  </thead>\n",
       "  <tbody>\n",
       "    <tr>\n",
       "      <th>row1</th>\n",
       "      <td>10</td>\n",
       "      <td>11</td>\n",
       "      <td>12</td>\n",
       "    </tr>\n",
       "    <tr>\n",
       "      <th>row2</th>\n",
       "      <td>13</td>\n",
       "      <td>14</td>\n",
       "      <td>15</td>\n",
       "    </tr>\n",
       "    <tr>\n",
       "      <th>row3</th>\n",
       "      <td>16</td>\n",
       "      <td>17</td>\n",
       "      <td>18</td>\n",
       "    </tr>\n",
       "  </tbody>\n",
       "</table>\n",
       "</div>"
      ],
      "text/plain": [
       "      c1  c2  c3\n",
       "row1  10  11  12\n",
       "row2  13  14  15\n",
       "row3  16  17  18"
      ]
     },
     "execution_count": 71,
     "metadata": {},
     "output_type": "execute_result"
    }
   ],
   "source": [
    "data = {\n",
    "    'c1' : [10, 13, 16],\n",
    "    'c2' : [11, 14, 17],\n",
    "    'c3' : [12, 15, 18],\n",
    "}\n",
    "\n",
    "data_df = pd.DataFrame(data, index=['row1', 'row2', 'row3'])\n",
    "data_df"
   ]
  },
  {
   "cell_type": "code",
   "execution_count": 72,
   "id": "e33b1f23-5a2b-4391-abbe-b4905b305c68",
   "metadata": {},
   "outputs": [
    {
     "data": {
      "text/plain": [
       "c1    13\n",
       "c2    14\n",
       "c3    15\n",
       "Name: row2, dtype: int64"
      ]
     },
     "execution_count": 72,
     "metadata": {},
     "output_type": "execute_result"
    }
   ],
   "source": [
    "#  Display the second row of the dataframe.\n",
    "data_df.iloc[1]"
   ]
  },
  {
   "cell_type": "code",
   "execution_count": 73,
   "id": "088ba4d2-6dba-41ee-8437-74fa9308ac19",
   "metadata": {},
   "outputs": [
    {
     "name": "stdout",
     "output_type": "stream",
     "text": [
      "Row1:\n",
      " c1    10\n",
      "c2    11\n",
      "c3    12\n",
      "Name: row1, dtype: int64\n",
      "Row2:\n",
      " c1    13\n",
      "c2    14\n",
      "c3    15\n",
      "Name: row2, dtype: int64\n",
      "Row3:\n",
      " c1    16\n",
      "c2    17\n",
      "c3    18\n",
      "Name: row3, dtype: int64\n"
     ]
    }
   ],
   "source": [
    "# Store the first, second and third row of the dataframe in the variable r1, r2 and r3 \n",
    "# and add each individual element of all rows.\n",
    "\n",
    "r1 = data_df.loc['row1']\n",
    "r2 = data_df.loc['row2']\n",
    "r3 = data_df.loc['row3']\n",
    "\n",
    "print(\"Row1:\\n\", r1)\n",
    "print(\"Row2:\\n\", r2)\n",
    "print(\"Row3:\\n\", r3)"
   ]
  },
  {
   "cell_type": "code",
   "execution_count": 74,
   "id": "6ab6b0e1-4c01-4b4d-8ad4-ff0218199319",
   "metadata": {},
   "outputs": [
    {
     "data": {
      "text/html": [
       "<div>\n",
       "<style scoped>\n",
       "    .dataframe tbody tr th:only-of-type {\n",
       "        vertical-align: middle;\n",
       "    }\n",
       "\n",
       "    .dataframe tbody tr th {\n",
       "        vertical-align: top;\n",
       "    }\n",
       "\n",
       "    .dataframe thead th {\n",
       "        text-align: right;\n",
       "    }\n",
       "</style>\n",
       "<table border=\"1\" class=\"dataframe\">\n",
       "  <thead>\n",
       "    <tr style=\"text-align: right;\">\n",
       "      <th></th>\n",
       "      <th>c1</th>\n",
       "      <th>c2</th>\n",
       "      <th>c3</th>\n",
       "      <th>new_col</th>\n",
       "    </tr>\n",
       "  </thead>\n",
       "  <tbody>\n",
       "    <tr>\n",
       "      <th>row1</th>\n",
       "      <td>10</td>\n",
       "      <td>11</td>\n",
       "      <td>12</td>\n",
       "      <td>NaN</td>\n",
       "    </tr>\n",
       "    <tr>\n",
       "      <th>row2</th>\n",
       "      <td>13</td>\n",
       "      <td>14</td>\n",
       "      <td>15</td>\n",
       "      <td>NaN</td>\n",
       "    </tr>\n",
       "    <tr>\n",
       "      <th>row3</th>\n",
       "      <td>16</td>\n",
       "      <td>17</td>\n",
       "      <td>18</td>\n",
       "      <td>NaN</td>\n",
       "    </tr>\n",
       "  </tbody>\n",
       "</table>\n",
       "</div>"
      ],
      "text/plain": [
       "      c1  c2  c3  new_col\n",
       "row1  10  11  12      NaN\n",
       "row2  13  14  15      NaN\n",
       "row3  16  17  18      NaN"
      ]
     },
     "execution_count": 74,
     "metadata": {},
     "output_type": "execute_result"
    }
   ],
   "source": [
    "#  Store the values 1,2,3 in a series s1. Add the series s1 into the above dataframe.\n",
    "series = pd.Series([1,2,3], name='new_col')\n",
    "\n",
    "data_df = data_df.join(series)\n",
    "data_df\n"
   ]
  },
  {
   "cell_type": "code",
   "execution_count": null,
   "id": "ad0171ad-f9eb-4c18-872f-bc5cd24fe5f6",
   "metadata": {},
   "outputs": [],
   "source": []
  },
  {
   "cell_type": "code",
   "execution_count": 84,
   "id": "006e203b-1c22-4943-8e2f-b7c9be51628e",
   "metadata": {},
   "outputs": [
    {
     "data": {
      "image/png": "[encoded data removed]",
      "text/plain": [
       "<Figure size 640x480 with 1 Axes>"
      ]
     },
     "metadata": {},
     "output_type": "display_data"
    }
   ],
   "source": [
    "import matplotlib.pyplot as plt\n",
    "\n",
    "age = [1,2,3,4,5]\n",
    "height = [1.5,2,2.5,3,3.5]\n",
    "\n",
    "plt.plot(age, height)\n",
    "plt.title('age to height graph')\n",
    "plt.show()"
   ]
  }
 ],
 "metadata": {
  "kernelspec": {
   "display_name": "Python 3 (ipykernel)",
   "language": "python",
   "name": "python3"
  },
  "language_info": {
   "codemirror_mode": {
    "name": "ipython",
    "version": 3
   },
   "file_extension": ".py",
   "mimetype": "text/x-python",
   "name": "python",
   "nbconvert_exporter": "python",
   "pygments_lexer": "ipython3",
   "version": "3.12.3"
  }
 },
 "nbformat": 4,
 "nbformat_minor": 5
}
