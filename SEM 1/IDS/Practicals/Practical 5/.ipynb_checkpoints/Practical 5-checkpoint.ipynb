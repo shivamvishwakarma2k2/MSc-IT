{
 "cells": [
  {
   "cell_type": "code",
   "execution_count": 4,
   "id": "70662886-84e7-4ed8-935a-d954d8dce114",
   "metadata": {},
   "outputs": [
    {
     "name": "stdout",
     "output_type": "stream",
     "text": [
      "Path :  D:\\MSc-IT\\Part 1\\SEM 1\\IDS\\Practicals\\Practical 5\\Country_Code.csv\n"
     ]
    }
   ],
   "source": [
    "import pandas as pd\n",
    "import os\n",
    "import sys\n",
    "sFileDir='D:\\\\MSc-IT\\\\Part 1\\\\SEM 1\\\\IDS\\\\Practicals\\\\Practical 5'\n",
    "if not os.path.exists(sFileDir):\n",
    "    os.makedirs(sFileDir)\n",
    "sFileName = \"D:\\\\MSc-IT\\\\Part 1\\\\SEM 1\\\\IDS\\\\Practicals\\\\Practical 5\\\\Country_Code.csv\"\n",
    "print(\"Path : \", sFileName)"
   ]
  },
  {
   "cell_type": "code",
   "execution_count": 6,
   "id": "2775d5c6-4076-433e-aa77-b73cf5d8ccff",
   "metadata": {},
   "outputs": [
    {
     "name": "stdout",
     "output_type": "stream",
     "text": [
      "Data : \n"
     ]
    },
    {
     "data": {
      "text/html": [
       "<div>\n",
       "<style scoped>\n",
       "    .dataframe tbody tr th:only-of-type {\n",
       "        vertical-align: middle;\n",
       "    }\n",
       "\n",
       "    .dataframe tbody tr th {\n",
       "        vertical-align: top;\n",
       "    }\n",
       "\n",
       "    .dataframe thead th {\n",
       "        text-align: right;\n",
       "    }\n",
       "</style>\n",
       "<table border=\"1\" class=\"dataframe\">\n",
       "  <thead>\n",
       "    <tr style=\"text-align: right;\">\n",
       "      <th></th>\n",
       "      <th>Country</th>\n",
       "      <th>ISO-2-CODE</th>\n",
       "      <th>ISO-3-Code</th>\n",
       "      <th>ISO-M49</th>\n",
       "    </tr>\n",
       "  </thead>\n",
       "  <tbody>\n",
       "    <tr>\n",
       "      <th>0</th>\n",
       "      <td>Afghanistan</td>\n",
       "      <td>AF</td>\n",
       "      <td>AFG</td>\n",
       "      <td>4</td>\n",
       "    </tr>\n",
       "    <tr>\n",
       "      <th>1</th>\n",
       "      <td>Aland Islands</td>\n",
       "      <td>AX</td>\n",
       "      <td>ALA</td>\n",
       "      <td>248</td>\n",
       "    </tr>\n",
       "    <tr>\n",
       "      <th>2</th>\n",
       "      <td>Albania</td>\n",
       "      <td>AL</td>\n",
       "      <td>ALB</td>\n",
       "      <td>8</td>\n",
       "    </tr>\n",
       "    <tr>\n",
       "      <th>3</th>\n",
       "      <td>Algeria</td>\n",
       "      <td>DZ</td>\n",
       "      <td>DZA</td>\n",
       "      <td>12</td>\n",
       "    </tr>\n",
       "    <tr>\n",
       "      <th>4</th>\n",
       "      <td>American Samoa</td>\n",
       "      <td>AS</td>\n",
       "      <td>ASM</td>\n",
       "      <td>16</td>\n",
       "    </tr>\n",
       "    <tr>\n",
       "      <th>...</th>\n",
       "      <td>...</td>\n",
       "      <td>...</td>\n",
       "      <td>...</td>\n",
       "      <td>...</td>\n",
       "    </tr>\n",
       "    <tr>\n",
       "      <th>242</th>\n",
       "      <td>Wallis and Futuna Islands</td>\n",
       "      <td>WF</td>\n",
       "      <td>WLF</td>\n",
       "      <td>876</td>\n",
       "    </tr>\n",
       "    <tr>\n",
       "      <th>243</th>\n",
       "      <td>Western Sahara</td>\n",
       "      <td>EH</td>\n",
       "      <td>ESH</td>\n",
       "      <td>732</td>\n",
       "    </tr>\n",
       "    <tr>\n",
       "      <th>244</th>\n",
       "      <td>Yemen</td>\n",
       "      <td>YE</td>\n",
       "      <td>YEM</td>\n",
       "      <td>887</td>\n",
       "    </tr>\n",
       "    <tr>\n",
       "      <th>245</th>\n",
       "      <td>Zambia</td>\n",
       "      <td>ZM</td>\n",
       "      <td>ZMB</td>\n",
       "      <td>894</td>\n",
       "    </tr>\n",
       "    <tr>\n",
       "      <th>246</th>\n",
       "      <td>Zimbabwe</td>\n",
       "      <td>ZW</td>\n",
       "      <td>ZWE</td>\n",
       "      <td>716</td>\n",
       "    </tr>\n",
       "  </tbody>\n",
       "</table>\n",
       "<p>247 rows × 4 columns</p>\n",
       "</div>"
      ],
      "text/plain": [
       "                       Country ISO-2-CODE ISO-3-Code  ISO-M49\n",
       "0                  Afghanistan         AF        AFG        4\n",
       "1                Aland Islands         AX        ALA      248\n",
       "2                      Albania         AL        ALB        8\n",
       "3                      Algeria         DZ        DZA       12\n",
       "4               American Samoa         AS        ASM       16\n",
       "..                         ...        ...        ...      ...\n",
       "242  Wallis and Futuna Islands         WF        WLF      876\n",
       "243             Western Sahara         EH        ESH      732\n",
       "244                      Yemen         YE        YEM      887\n",
       "245                     Zambia         ZM        ZMB      894\n",
       "246                   Zimbabwe         ZW        ZWE      716\n",
       "\n",
       "[247 rows x 4 columns]"
      ]
     },
     "execution_count": 6,
     "metadata": {},
     "output_type": "execute_result"
    }
   ],
   "source": [
    "CurrencyData = pd.read_csv(\n",
    "    \"D:\\\\MSc-IT\\\\Part 1\\\\SEM 1\\\\IDS\\\\Practicals\\\\Practical 5\\\\Country_Code.csv\", \n",
    "    encoding='cp1252'\n",
    ")\n",
    "print(\"Data : \")\n",
    "CurrencyData"
   ]
  },
  {
   "cell_type": "code",
   "execution_count": 8,
   "id": "e6e4eb79-1499-41bf-a5f5-1dea02b354a4",
   "metadata": {},
   "outputs": [
    {
     "name": "stdout",
     "output_type": "stream",
     "text": [
      "After renaming columns : \n"
     ]
    },
    {
     "data": {
      "text/html": [
       "<div>\n",
       "<style scoped>\n",
       "    .dataframe tbody tr th:only-of-type {\n",
       "        vertical-align: middle;\n",
       "    }\n",
       "\n",
       "    .dataframe tbody tr th {\n",
       "        vertical-align: top;\n",
       "    }\n",
       "\n",
       "    .dataframe thead th {\n",
       "        text-align: right;\n",
       "    }\n",
       "</style>\n",
       "<table border=\"1\" class=\"dataframe\">\n",
       "  <thead>\n",
       "    <tr style=\"text-align: right;\">\n",
       "      <th></th>\n",
       "      <th>Country</th>\n",
       "      <th>CountryCode1</th>\n",
       "      <th>CountryCode2</th>\n",
       "      <th>ISO-M49</th>\n",
       "    </tr>\n",
       "  </thead>\n",
       "  <tbody>\n",
       "    <tr>\n",
       "      <th>0</th>\n",
       "      <td>Afghanistan</td>\n",
       "      <td>AF</td>\n",
       "      <td>AFG</td>\n",
       "      <td>4</td>\n",
       "    </tr>\n",
       "    <tr>\n",
       "      <th>1</th>\n",
       "      <td>Aland Islands</td>\n",
       "      <td>AX</td>\n",
       "      <td>ALA</td>\n",
       "      <td>248</td>\n",
       "    </tr>\n",
       "    <tr>\n",
       "      <th>2</th>\n",
       "      <td>Albania</td>\n",
       "      <td>AL</td>\n",
       "      <td>ALB</td>\n",
       "      <td>8</td>\n",
       "    </tr>\n",
       "    <tr>\n",
       "      <th>3</th>\n",
       "      <td>Algeria</td>\n",
       "      <td>DZ</td>\n",
       "      <td>DZA</td>\n",
       "      <td>12</td>\n",
       "    </tr>\n",
       "    <tr>\n",
       "      <th>4</th>\n",
       "      <td>American Samoa</td>\n",
       "      <td>AS</td>\n",
       "      <td>ASM</td>\n",
       "      <td>16</td>\n",
       "    </tr>\n",
       "    <tr>\n",
       "      <th>...</th>\n",
       "      <td>...</td>\n",
       "      <td>...</td>\n",
       "      <td>...</td>\n",
       "      <td>...</td>\n",
       "    </tr>\n",
       "    <tr>\n",
       "      <th>242</th>\n",
       "      <td>Wallis and Futuna Islands</td>\n",
       "      <td>WF</td>\n",
       "      <td>WLF</td>\n",
       "      <td>876</td>\n",
       "    </tr>\n",
       "    <tr>\n",
       "      <th>243</th>\n",
       "      <td>Western Sahara</td>\n",
       "      <td>EH</td>\n",
       "      <td>ESH</td>\n",
       "      <td>732</td>\n",
       "    </tr>\n",
       "    <tr>\n",
       "      <th>244</th>\n",
       "      <td>Yemen</td>\n",
       "      <td>YE</td>\n",
       "      <td>YEM</td>\n",
       "      <td>887</td>\n",
       "    </tr>\n",
       "    <tr>\n",
       "      <th>245</th>\n",
       "      <td>Zambia</td>\n",
       "      <td>ZM</td>\n",
       "      <td>ZMB</td>\n",
       "      <td>894</td>\n",
       "    </tr>\n",
       "    <tr>\n",
       "      <th>246</th>\n",
       "      <td>Zimbabwe</td>\n",
       "      <td>ZW</td>\n",
       "      <td>ZWE</td>\n",
       "      <td>716</td>\n",
       "    </tr>\n",
       "  </tbody>\n",
       "</table>\n",
       "<p>247 rows × 4 columns</p>\n",
       "</div>"
      ],
      "text/plain": [
       "                       Country CountryCode1 CountryCode2  ISO-M49\n",
       "0                  Afghanistan           AF          AFG        4\n",
       "1                Aland Islands           AX          ALA      248\n",
       "2                      Albania           AL          ALB        8\n",
       "3                      Algeria           DZ          DZA       12\n",
       "4               American Samoa           AS          ASM       16\n",
       "..                         ...          ...          ...      ...\n",
       "242  Wallis and Futuna Islands           WF          WLF      876\n",
       "243             Western Sahara           EH          ESH      732\n",
       "244                      Yemen           YE          YEM      887\n",
       "245                     Zambia           ZM          ZMB      894\n",
       "246                   Zimbabwe           ZW          ZWE      716\n",
       "\n",
       "[247 rows x 4 columns]"
      ]
     },
     "execution_count": 8,
     "metadata": {},
     "output_type": "execute_result"
    }
   ],
   "source": [
    "CurrencyData.rename(\n",
    "    {'ISO-2-CODE' : 'CountryCode1', 'ISO-3-Code' : 'CountryCode2'}, \n",
    "    axis=1, \n",
    "    inplace=True\n",
    ")\n",
    "CD = CurrencyData\n",
    "print(\"After renaming columns : \")\n",
    "CD"
   ]
  },
  {
   "cell_type": "code",
   "execution_count": 9,
   "id": "7795fad9-45ce-4d72-9bc6-e1f7f620a01f",
   "metadata": {},
   "outputs": [
    {
     "data": {
      "text/html": [
       "<div>\n",
       "<style scoped>\n",
       "    .dataframe tbody tr th:only-of-type {\n",
       "        vertical-align: middle;\n",
       "    }\n",
       "\n",
       "    .dataframe tbody tr th {\n",
       "        vertical-align: top;\n",
       "    }\n",
       "\n",
       "    .dataframe thead th {\n",
       "        text-align: right;\n",
       "    }\n",
       "</style>\n",
       "<table border=\"1\" class=\"dataframe\">\n",
       "  <thead>\n",
       "    <tr style=\"text-align: right;\">\n",
       "      <th></th>\n",
       "      <th>Country</th>\n",
       "      <th>CountryCode2</th>\n",
       "      <th>ISO-M49</th>\n",
       "    </tr>\n",
       "  </thead>\n",
       "  <tbody>\n",
       "    <tr>\n",
       "      <th>0</th>\n",
       "      <td>Afghanistan</td>\n",
       "      <td>AFG</td>\n",
       "      <td>4</td>\n",
       "    </tr>\n",
       "    <tr>\n",
       "      <th>1</th>\n",
       "      <td>Aland Islands</td>\n",
       "      <td>ALA</td>\n",
       "      <td>248</td>\n",
       "    </tr>\n",
       "    <tr>\n",
       "      <th>2</th>\n",
       "      <td>Albania</td>\n",
       "      <td>ALB</td>\n",
       "      <td>8</td>\n",
       "    </tr>\n",
       "    <tr>\n",
       "      <th>3</th>\n",
       "      <td>Algeria</td>\n",
       "      <td>DZA</td>\n",
       "      <td>12</td>\n",
       "    </tr>\n",
       "    <tr>\n",
       "      <th>4</th>\n",
       "      <td>American Samoa</td>\n",
       "      <td>ASM</td>\n",
       "      <td>16</td>\n",
       "    </tr>\n",
       "    <tr>\n",
       "      <th>...</th>\n",
       "      <td>...</td>\n",
       "      <td>...</td>\n",
       "      <td>...</td>\n",
       "    </tr>\n",
       "    <tr>\n",
       "      <th>242</th>\n",
       "      <td>Wallis and Futuna Islands</td>\n",
       "      <td>WLF</td>\n",
       "      <td>876</td>\n",
       "    </tr>\n",
       "    <tr>\n",
       "      <th>243</th>\n",
       "      <td>Western Sahara</td>\n",
       "      <td>ESH</td>\n",
       "      <td>732</td>\n",
       "    </tr>\n",
       "    <tr>\n",
       "      <th>244</th>\n",
       "      <td>Yemen</td>\n",
       "      <td>YEM</td>\n",
       "      <td>887</td>\n",
       "    </tr>\n",
       "    <tr>\n",
       "      <th>245</th>\n",
       "      <td>Zambia</td>\n",
       "      <td>ZMB</td>\n",
       "      <td>894</td>\n",
       "    </tr>\n",
       "    <tr>\n",
       "      <th>246</th>\n",
       "      <td>Zimbabwe</td>\n",
       "      <td>ZWE</td>\n",
       "      <td>716</td>\n",
       "    </tr>\n",
       "  </tbody>\n",
       "</table>\n",
       "<p>247 rows × 3 columns</p>\n",
       "</div>"
      ],
      "text/plain": [
       "                       Country CountryCode2  ISO-M49\n",
       "0                  Afghanistan          AFG        4\n",
       "1                Aland Islands          ALA      248\n",
       "2                      Albania          ALB        8\n",
       "3                      Algeria          DZA       12\n",
       "4               American Samoa          ASM       16\n",
       "..                         ...          ...      ...\n",
       "242  Wallis and Futuna Islands          WLF      876\n",
       "243             Western Sahara          ESH      732\n",
       "244                      Yemen          YEM      887\n",
       "245                     Zambia          ZMB      894\n",
       "246                   Zimbabwe          ZWE      716\n",
       "\n",
       "[247 rows x 3 columns]"
      ]
     },
     "execution_count": 9,
     "metadata": {},
     "output_type": "execute_result"
    }
   ],
   "source": [
    "CD.drop('CountryCode1', axis=1, inplace=True)\n",
    "CD"
   ]
  },
  {
   "cell_type": "code",
   "execution_count": 10,
   "id": "702fd281-77e9-4729-8830-5e5c669b3870",
   "metadata": {},
   "outputs": [
    {
     "name": "stdout",
     "output_type": "stream",
     "text": [
      "After removing spaces : \n"
     ]
    },
    {
     "data": {
      "text/html": [
       "<div>\n",
       "<style scoped>\n",
       "    .dataframe tbody tr th:only-of-type {\n",
       "        vertical-align: middle;\n",
       "    }\n",
       "\n",
       "    .dataframe tbody tr th {\n",
       "        vertical-align: top;\n",
       "    }\n",
       "\n",
       "    .dataframe thead th {\n",
       "        text-align: right;\n",
       "    }\n",
       "</style>\n",
       "<table border=\"1\" class=\"dataframe\">\n",
       "  <thead>\n",
       "    <tr style=\"text-align: right;\">\n",
       "      <th></th>\n",
       "      <th>Country</th>\n",
       "      <th>CountryCode2</th>\n",
       "      <th>ISO-M49</th>\n",
       "    </tr>\n",
       "  </thead>\n",
       "  <tbody>\n",
       "    <tr>\n",
       "      <th>0</th>\n",
       "      <td>Afghanistan</td>\n",
       "      <td>AFG</td>\n",
       "      <td>4</td>\n",
       "    </tr>\n",
       "    <tr>\n",
       "      <th>1</th>\n",
       "      <td>Aland Islands</td>\n",
       "      <td>ALA</td>\n",
       "      <td>248</td>\n",
       "    </tr>\n",
       "    <tr>\n",
       "      <th>2</th>\n",
       "      <td>Albania</td>\n",
       "      <td>ALB</td>\n",
       "      <td>8</td>\n",
       "    </tr>\n",
       "    <tr>\n",
       "      <th>3</th>\n",
       "      <td>Algeria</td>\n",
       "      <td>DZA</td>\n",
       "      <td>12</td>\n",
       "    </tr>\n",
       "    <tr>\n",
       "      <th>4</th>\n",
       "      <td>American Samoa</td>\n",
       "      <td>ASM</td>\n",
       "      <td>16</td>\n",
       "    </tr>\n",
       "    <tr>\n",
       "      <th>...</th>\n",
       "      <td>...</td>\n",
       "      <td>...</td>\n",
       "      <td>...</td>\n",
       "    </tr>\n",
       "    <tr>\n",
       "      <th>242</th>\n",
       "      <td>Wallis and Futuna Islands</td>\n",
       "      <td>WLF</td>\n",
       "      <td>876</td>\n",
       "    </tr>\n",
       "    <tr>\n",
       "      <th>243</th>\n",
       "      <td>Western Sahara</td>\n",
       "      <td>ESH</td>\n",
       "      <td>732</td>\n",
       "    </tr>\n",
       "    <tr>\n",
       "      <th>244</th>\n",
       "      <td>Yemen</td>\n",
       "      <td>YEM</td>\n",
       "      <td>887</td>\n",
       "    </tr>\n",
       "    <tr>\n",
       "      <th>245</th>\n",
       "      <td>Zambia</td>\n",
       "      <td>ZMB</td>\n",
       "      <td>894</td>\n",
       "    </tr>\n",
       "    <tr>\n",
       "      <th>246</th>\n",
       "      <td>Zimbabwe</td>\n",
       "      <td>ZWE</td>\n",
       "      <td>716</td>\n",
       "    </tr>\n",
       "  </tbody>\n",
       "</table>\n",
       "<p>247 rows × 3 columns</p>\n",
       "</div>"
      ],
      "text/plain": [
       "                       Country CountryCode2  ISO-M49\n",
       "0                  Afghanistan          AFG        4\n",
       "1                Aland Islands          ALA      248\n",
       "2                      Albania          ALB        8\n",
       "3                      Algeria          DZA       12\n",
       "4               American Samoa          ASM       16\n",
       "..                         ...          ...      ...\n",
       "242  Wallis and Futuna Islands          WLF      876\n",
       "243             Western Sahara          ESH      732\n",
       "244                      Yemen          YEM      887\n",
       "245                     Zambia          ZMB      894\n",
       "246                   Zimbabwe          ZWE      716\n",
       "\n",
       "[247 rows x 3 columns]"
      ]
     },
     "execution_count": 10,
     "metadata": {},
     "output_type": "execute_result"
    }
   ],
   "source": [
    "CD['Country']=CD['Country'].map(lambda x:x.strip())\n",
    "CD['CountryCode2']=CD['CountryCode2'].map(lambda x:x.strip())\n",
    "print(\"After removing spaces : \")\n",
    "CD"
   ]
  },
  {
   "cell_type": "code",
   "execution_count": 11,
   "id": "8798f088-ca84-44e4-b66d-77e0f929ab62",
   "metadata": {},
   "outputs": [
    {
     "name": "stdout",
     "output_type": "stream",
     "text": [
      "Saved successfully!!!\n"
     ]
    }
   ],
   "source": [
    "CD.to_csv(\"D:\\\\MSc-IT\\\\Part 1\\\\SEM 1\\\\IDS\\\\Practicals\\\\Practical 5\\\\FinalCountry_Code.csv\")\n",
    "print(\"Saved successfully!!!\")"
   ]
  },
  {
   "cell_type": "code",
   "execution_count": 12,
   "id": "088f6cd3-ce9c-4061-92ab-e048b21d5beb",
   "metadata": {},
   "outputs": [
    {
     "name": "stdout",
     "output_type": "stream",
     "text": [
      "Country names : \n"
     ]
    },
    {
     "data": {
      "text/plain": [
       "0                    Afghanistan\n",
       "1                  Aland Islands\n",
       "2                        Albania\n",
       "3                        Algeria\n",
       "4                 American Samoa\n",
       "                 ...            \n",
       "242    Wallis and Futuna Islands\n",
       "243               Western Sahara\n",
       "244                        Yemen\n",
       "245                       Zambia\n",
       "246                     Zimbabwe\n",
       "Name: Country, Length: 247, dtype: object"
      ]
     },
     "execution_count": 12,
     "metadata": {},
     "output_type": "execute_result"
    }
   ],
   "source": [
    "print(\"Country names : \")\n",
    "CD['Country']"
   ]
  },
  {
   "cell_type": "code",
   "execution_count": null,
   "id": "1ba6e8e9-8cf0-4e22-9f64-f1acb0b52d0f",
   "metadata": {},
   "outputs": [],
   "source": []
  },
  {
   "cell_type": "code",
   "execution_count": 13,
   "id": "9c7e687f-1ab6-4588-8be0-6e3bdefbcbb1",
   "metadata": {},
   "outputs": [
    {
     "name": "stdout",
     "output_type": "stream",
     "text": [
      "Country name :\n",
      "0       Afghanistan\n",
      "1     Aland Islands\n",
      "2           Albania\n",
      "3           Algeria\n",
      "4    American Samoa\n",
      "Name: Country, dtype: object\n",
      "Country code :\n",
      "0    AFG\n",
      "1    ALA\n",
      "2    ALB\n",
      "3    DZA\n",
      "4    ASM\n",
      "Name: CountryCode2, dtype: object\n"
     ]
    }
   ],
   "source": [
    "five=CD.head(5)\n",
    "countryName=five['Country']\n",
    "countryCode=five['CountryCode2']\n",
    "print(\"Country name :\")\n",
    "print(countryName)\n",
    "print(\"Country code :\")\n",
    "print(countryCode)"
   ]
  },
  {
   "cell_type": "code",
   "execution_count": 14,
   "id": "4e465355-ab8f-4bc8-95c0-d81e40508f4f",
   "metadata": {},
   "outputs": [
    {
     "name": "stdout",
     "output_type": "stream",
     "text": [
      "Country code of Canada :  [['CAN']]\n"
     ]
    }
   ],
   "source": [
    "ctr = CD[CD['Country'] == 'Canada']\n",
    "print(\"Country code of Canada : \",ctr.iloc[:,[1]].values)"
   ]
  },
  {
   "cell_type": "code",
   "execution_count": 15,
   "id": "a2bb41cf-71e5-426d-8696-26b3ba7f8122",
   "metadata": {},
   "outputs": [
    {
     "name": "stdout",
     "output_type": "stream",
     "text": [
      "Skewness :\n",
      "ISO-M49    0.022361\n",
      "dtype: float64\n"
     ]
    }
   ],
   "source": [
    "# skewness along the index axis\n",
    "# Select only numeric columns\n",
    "numeric_df = CD.select_dtypes(include=['number'])\n",
    "\n",
    "# Calculate skewness for the numeric columns\n",
    "skewness = numeric_df.skew(axis=0, skipna=True)\n",
    "print(\"Skewness :\")\n",
    "print(skewness)"
   ]
  },
  {
   "cell_type": "code",
   "execution_count": 18,
   "id": "2d7e95f4-ff1f-451f-a860-43f14347c29b",
   "metadata": {},
   "outputs": [
    {
     "data": {
      "text/plain": [
       "array([[<Axes: title={'center': 'ISO-M49'}>]], dtype=object)"
      ]
     },
     "execution_count": 18,
     "metadata": {},
     "output_type": "execute_result"
    },
    {
     "data": {
      "image/png": "[encoded data removed]",
      "text/plain": [
       "<Figure size 640x480 with 1 Axes>"
      ]
     },
     "metadata": {},
     "output_type": "display_data"
    }
   ],
   "source": [
    "CurrencyData.hist(column = 'ISO-M49')"
   ]
  },
  {
   "cell_type": "code",
   "execution_count": 21,
   "id": "38a92710-2251-48ba-b7c4-74a6041adcd3",
   "metadata": {},
   "outputs": [
    {
     "name": "stdout",
     "output_type": "stream",
     "text": [
      "columns :  Index(['Country', 'CountryCode2', 'ISO-M49'], dtype='object')\n",
      "\n",
      "Dtypes :  Country         object\n",
      "CountryCode2    object\n",
      "ISO-M49          int64\n",
      "dtype: object\n",
      "\n",
      "shape :  (247, 3)\n",
      "\n",
      "size :  741\n",
      "\n",
      "min :  Country         Afghanistan\n",
      "CountryCode2            ABW\n",
      "ISO-M49                   4\n",
      "dtype: object\n",
      "\n",
      "max :  Country         Zimbabwe\n",
      "CountryCode2         ZWE\n",
      "ISO-M49              894\n",
      "dtype: object\n"
     ]
    }
   ],
   "source": [
    "print(\"columns : \", CurrencyData.columns)\n",
    "print(\"\\nDtypes : \", CurrencyData.dtypes)\n",
    "print(\"\\nshape : \", CurrencyData.shape)\n",
    "print(\"\\nsize : \", CurrencyData.size)\n",
    "print(\"\\nmin : \", CurrencyData.min())\n",
    "print(\"\\nmax : \", CurrencyData.max())"
   ]
  },
  {
   "cell_type": "code",
   "execution_count": null,
   "id": "6232a0a3-d8a6-4043-8e4e-cf7e17296aa9",
   "metadata": {},
   "outputs": [],
   "source": []
  }
 ],
 "metadata": {
  "kernelspec": {
   "display_name": "Python 3 (ipykernel)",
   "language": "python",
   "name": "python3"
  },
  "language_info": {
   "codemirror_mode": {
    "name": "ipython",
    "version": 3
   },
   "file_extension": ".py",
   "mimetype": "text/x-python",
   "name": "python",
   "nbconvert_exporter": "python",
   "pygments_lexer": "ipython3",
   "version": "3.12.3"
  }
 },
 "nbformat": 4,
 "nbformat_minor": 5
}
