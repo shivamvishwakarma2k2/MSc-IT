{
 "cells": [
  {
   "cell_type": "code",
   "execution_count": 22,
   "id": "58b74184-c2f6-45af-a583-35d425c5244b",
   "metadata": {},
   "outputs": [
    {
     "name": "stdout",
     "output_type": "stream",
     "text": [
      "Original Data : \n"
     ]
    },
    {
     "data": {
      "text/html": [
       "<div>\n",
       "<style scoped>\n",
       "    .dataframe tbody tr th:only-of-type {\n",
       "        vertical-align: middle;\n",
       "    }\n",
       "\n",
       "    .dataframe tbody tr th {\n",
       "        vertical-align: top;\n",
       "    }\n",
       "\n",
       "    .dataframe thead th {\n",
       "        text-align: right;\n",
       "    }\n",
       "</style>\n",
       "<table border=\"1\" class=\"dataframe\">\n",
       "  <thead>\n",
       "    <tr style=\"text-align: right;\">\n",
       "      <th></th>\n",
       "      <th>StudID</th>\n",
       "      <th>Name</th>\n",
       "      <th>Class</th>\n",
       "      <th>Elective</th>\n",
       "      <th>Msg</th>\n",
       "      <th>Test Score</th>\n",
       "      <th>Date of Birth</th>\n",
       "    </tr>\n",
       "  </thead>\n",
       "  <tbody>\n",
       "    <tr>\n",
       "      <th>0</th>\n",
       "      <td>Student1</td>\n",
       "      <td>Ariba</td>\n",
       "      <td>Fy</td>\n",
       "      <td>SBCM</td>\n",
       "      <td>he\u0000llo</td>\n",
       "      <td>20</td>\n",
       "      <td>06-09-2003</td>\n",
       "    </tr>\n",
       "    <tr>\n",
       "      <th>1</th>\n",
       "      <td>Student2</td>\n",
       "      <td>Vilas</td>\n",
       "      <td>fy</td>\n",
       "      <td>sbcm</td>\n",
       "      <td>My\\nComputer</td>\n",
       "      <td>8</td>\n",
       "      <td>02/02/24</td>\n",
       "    </tr>\n",
       "    <tr>\n",
       "      <th>2</th>\n",
       "      <td>Student3</td>\n",
       "      <td>Shivam</td>\n",
       "      <td>FY</td>\n",
       "      <td>AI</td>\n",
       "      <td>Hello Guy\\s</td>\n",
       "      <td>5</td>\n",
       "      <td>04-03-2006</td>\n",
       "    </tr>\n",
       "    <tr>\n",
       "      <th>3</th>\n",
       "      <td>Student4</td>\n",
       "      <td>Pranay</td>\n",
       "      <td>fY</td>\n",
       "      <td>AI</td>\n",
       "      <td>Good morning</td>\n",
       "      <td>11</td>\n",
       "      <td>03/31/2003</td>\n",
       "    </tr>\n",
       "    <tr>\n",
       "      <th>4</th>\n",
       "      <td>Student5</td>\n",
       "      <td>AnIL</td>\n",
       "      <td>Fy</td>\n",
       "      <td>SBCM</td>\n",
       "      <td>he\u0000llo</td>\n",
       "      <td>18</td>\n",
       "      <td>01-01-2001</td>\n",
       "    </tr>\n",
       "    <tr>\n",
       "      <th>5</th>\n",
       "      <td>Student6</td>\n",
       "      <td>ViKas</td>\n",
       "      <td>fy</td>\n",
       "      <td>sbcm</td>\n",
       "      <td>My\\nComputer</td>\n",
       "      <td>9</td>\n",
       "      <td>02/02/24</td>\n",
       "    </tr>\n",
       "    <tr>\n",
       "      <th>6</th>\n",
       "      <td>Student7</td>\n",
       "      <td>Vinit</td>\n",
       "      <td>FY</td>\n",
       "      <td>AI</td>\n",
       "      <td>Hello Guy\\s</td>\n",
       "      <td>50</td>\n",
       "      <td>04-03-2006</td>\n",
       "    </tr>\n",
       "    <tr>\n",
       "      <th>7</th>\n",
       "      <td>Student8</td>\n",
       "      <td>Pranali</td>\n",
       "      <td>fY</td>\n",
       "      <td>AI</td>\n",
       "      <td>Good morning</td>\n",
       "      <td>10</td>\n",
       "      <td>03/31/2003</td>\n",
       "    </tr>\n",
       "  </tbody>\n",
       "</table>\n",
       "</div>"
      ],
      "text/plain": [
       "     StudID        Name Class Elective           Msg  Test Score Date of Birth\n",
       "0  Student1     Ariba      Fy     SBCM        he\u0000llo          20    06-09-2003\n",
       "1  Student2       Vilas    fy     sbcm  My\\nComputer           8      02/02/24\n",
       "2  Student3  Shivam        FY       AI   Hello Guy\\s           5    04-03-2006\n",
       "3  Student4     Pranay     fY    AI     Good morning          11    03/31/2003\n",
       "4  Student5      AnIL      Fy     SBCM        he\u0000llo          18    01-01-2001\n",
       "5  Student6       ViKas    fy     sbcm  My\\nComputer           9      02/02/24\n",
       "6  Student7  Vinit         FY       AI   Hello Guy\\s          50    04-03-2006\n",
       "7  Student8    Pranali     fY    AI     Good morning          10    03/31/2003"
      ]
     },
     "execution_count": 22,
     "metadata": {},
     "output_type": "execute_result"
    }
   ],
   "source": [
    "# Creating the dataframe\n",
    "import pandas as pd\n",
    "\n",
    "data = {\n",
    "    'StudID': ['Student1', 'Student2', 'Student3', 'Student4', 'Student5', 'Student6', 'Student7', 'Student8'],\n",
    "    'Name': ['   Ariba  ', 'Vilas', 'Shivam    ', ' Pranay ', '   AnIL  ', 'ViKas', 'Vinit     ', ' Pranali '],\n",
    "    'Class': ['Fy', 'fy', 'FY', 'fY', 'Fy', 'fy', 'FY', 'fY'],\n",
    "    'Elective': ['SBCM', '   sbcm', 'AI', 'AI   ', 'SBCM', '   sbcm', 'AI', 'AI   '],\n",
    "    'Msg': ['he\\x00llo', 'My\\nComputer', 'Hello Guy\\\\s', 'Good morning', 'he\\x00llo', 'My\\nComputer', 'Hello Guy\\\\s', 'Good morning'],\n",
    "    'Test Score': [20, 8, 5, 11, 18, 9, 50, 10],\n",
    "    'Date of Birth': ['06-09-2003', '02/02/24', '04-03-2006', '03/31/2003', '01-01-2001', '02/02/24', '04-03-2006', '03/31/2003']\n",
    "}\n",
    "df = pd.DataFrame(data)\n",
    "print(\"Original Data : \")\n",
    "df"
   ]
  },
  {
   "cell_type": "code",
   "execution_count": 23,
   "id": "72ee106c-1f35-4090-95cf-c678e047b7bf",
   "metadata": {},
   "outputs": [
    {
     "name": "stdout",
     "output_type": "stream",
     "text": [
      "After removing leading and trailing spaces from dataframe :\n"
     ]
    },
    {
     "data": {
      "text/html": [
       "<div>\n",
       "<style scoped>\n",
       "    .dataframe tbody tr th:only-of-type {\n",
       "        vertical-align: middle;\n",
       "    }\n",
       "\n",
       "    .dataframe tbody tr th {\n",
       "        vertical-align: top;\n",
       "    }\n",
       "\n",
       "    .dataframe thead th {\n",
       "        text-align: right;\n",
       "    }\n",
       "</style>\n",
       "<table border=\"1\" class=\"dataframe\">\n",
       "  <thead>\n",
       "    <tr style=\"text-align: right;\">\n",
       "      <th></th>\n",
       "      <th>StudID</th>\n",
       "      <th>Name</th>\n",
       "      <th>Class</th>\n",
       "      <th>Elective</th>\n",
       "      <th>Msg</th>\n",
       "      <th>Test Score</th>\n",
       "      <th>Date of Birth</th>\n",
       "    </tr>\n",
       "  </thead>\n",
       "  <tbody>\n",
       "    <tr>\n",
       "      <th>0</th>\n",
       "      <td>Student1</td>\n",
       "      <td>Ariba</td>\n",
       "      <td>Fy</td>\n",
       "      <td>SBCM</td>\n",
       "      <td>he\u0000llo</td>\n",
       "      <td>20</td>\n",
       "      <td>06-09-2003</td>\n",
       "    </tr>\n",
       "    <tr>\n",
       "      <th>1</th>\n",
       "      <td>Student2</td>\n",
       "      <td>Vilas</td>\n",
       "      <td>fy</td>\n",
       "      <td>sbcm</td>\n",
       "      <td>My\\nComputer</td>\n",
       "      <td>8</td>\n",
       "      <td>02/02/24</td>\n",
       "    </tr>\n",
       "    <tr>\n",
       "      <th>2</th>\n",
       "      <td>Student3</td>\n",
       "      <td>Shivam</td>\n",
       "      <td>FY</td>\n",
       "      <td>AI</td>\n",
       "      <td>Hello Guy\\s</td>\n",
       "      <td>5</td>\n",
       "      <td>04-03-2006</td>\n",
       "    </tr>\n",
       "    <tr>\n",
       "      <th>3</th>\n",
       "      <td>Student4</td>\n",
       "      <td>Pranay</td>\n",
       "      <td>fY</td>\n",
       "      <td>AI</td>\n",
       "      <td>Good morning</td>\n",
       "      <td>11</td>\n",
       "      <td>03/31/2003</td>\n",
       "    </tr>\n",
       "    <tr>\n",
       "      <th>4</th>\n",
       "      <td>Student5</td>\n",
       "      <td>AnIL</td>\n",
       "      <td>Fy</td>\n",
       "      <td>SBCM</td>\n",
       "      <td>he\u0000llo</td>\n",
       "      <td>18</td>\n",
       "      <td>01-01-2001</td>\n",
       "    </tr>\n",
       "    <tr>\n",
       "      <th>5</th>\n",
       "      <td>Student6</td>\n",
       "      <td>ViKas</td>\n",
       "      <td>fy</td>\n",
       "      <td>sbcm</td>\n",
       "      <td>My\\nComputer</td>\n",
       "      <td>9</td>\n",
       "      <td>02/02/24</td>\n",
       "    </tr>\n",
       "    <tr>\n",
       "      <th>6</th>\n",
       "      <td>Student7</td>\n",
       "      <td>Vinit</td>\n",
       "      <td>FY</td>\n",
       "      <td>AI</td>\n",
       "      <td>Hello Guy\\s</td>\n",
       "      <td>50</td>\n",
       "      <td>04-03-2006</td>\n",
       "    </tr>\n",
       "    <tr>\n",
       "      <th>7</th>\n",
       "      <td>Student8</td>\n",
       "      <td>Pranali</td>\n",
       "      <td>fY</td>\n",
       "      <td>AI</td>\n",
       "      <td>Good morning</td>\n",
       "      <td>10</td>\n",
       "      <td>03/31/2003</td>\n",
       "    </tr>\n",
       "  </tbody>\n",
       "</table>\n",
       "</div>"
      ],
      "text/plain": [
       "     StudID     Name Class Elective           Msg  Test Score Date of Birth\n",
       "0  Student1    Ariba    Fy     SBCM        he\u0000llo          20    06-09-2003\n",
       "1  Student2    Vilas    fy     sbcm  My\\nComputer           8      02/02/24\n",
       "2  Student3   Shivam    FY       AI   Hello Guy\\s           5    04-03-2006\n",
       "3  Student4   Pranay    fY       AI  Good morning          11    03/31/2003\n",
       "4  Student5     AnIL    Fy     SBCM        he\u0000llo          18    01-01-2001\n",
       "5  Student6    ViKas    fy     sbcm  My\\nComputer           9      02/02/24\n",
       "6  Student7    Vinit    FY       AI   Hello Guy\\s          50    04-03-2006\n",
       "7  Student8  Pranali    fY       AI  Good morning          10    03/31/2003"
      ]
     },
     "execution_count": 23,
     "metadata": {},
     "output_type": "execute_result"
    }
   ],
   "source": [
    "df = df.apply(lambda x: x.str.strip() if x.dtype == \"object\" else x)\n",
    "print(\"After removing leading and trailing spaces from dataframe :\")\n",
    "df"
   ]
  },
  {
   "cell_type": "code",
   "execution_count": 25,
   "id": "26a10acc-5ee2-407e-9524-d29d945d8a4d",
   "metadata": {},
   "outputs": [
    {
     "name": "stdout",
     "output_type": "stream",
     "text": [
      "After removing non-printable characters in Msg column : \n"
     ]
    },
    {
     "data": {
      "text/html": [
       "<div>\n",
       "<style scoped>\n",
       "    .dataframe tbody tr th:only-of-type {\n",
       "        vertical-align: middle;\n",
       "    }\n",
       "\n",
       "    .dataframe tbody tr th {\n",
       "        vertical-align: top;\n",
       "    }\n",
       "\n",
       "    .dataframe thead th {\n",
       "        text-align: right;\n",
       "    }\n",
       "</style>\n",
       "<table border=\"1\" class=\"dataframe\">\n",
       "  <thead>\n",
       "    <tr style=\"text-align: right;\">\n",
       "      <th></th>\n",
       "      <th>StudID</th>\n",
       "      <th>Name</th>\n",
       "      <th>Class</th>\n",
       "      <th>Elective</th>\n",
       "      <th>Msg</th>\n",
       "      <th>Test Score</th>\n",
       "      <th>Date of Birth</th>\n",
       "    </tr>\n",
       "  </thead>\n",
       "  <tbody>\n",
       "    <tr>\n",
       "      <th>0</th>\n",
       "      <td>Student1</td>\n",
       "      <td>Ariba</td>\n",
       "      <td>Fy</td>\n",
       "      <td>SBCM</td>\n",
       "      <td>hello</td>\n",
       "      <td>20</td>\n",
       "      <td>06-09-2003</td>\n",
       "    </tr>\n",
       "    <tr>\n",
       "      <th>1</th>\n",
       "      <td>Student2</td>\n",
       "      <td>Vilas</td>\n",
       "      <td>fy</td>\n",
       "      <td>sbcm</td>\n",
       "      <td>MyComputer</td>\n",
       "      <td>8</td>\n",
       "      <td>02/02/24</td>\n",
       "    </tr>\n",
       "    <tr>\n",
       "      <th>2</th>\n",
       "      <td>Student3</td>\n",
       "      <td>Shivam</td>\n",
       "      <td>FY</td>\n",
       "      <td>AI</td>\n",
       "      <td>Hello Guys</td>\n",
       "      <td>5</td>\n",
       "      <td>04-03-2006</td>\n",
       "    </tr>\n",
       "    <tr>\n",
       "      <th>3</th>\n",
       "      <td>Student4</td>\n",
       "      <td>Pranay</td>\n",
       "      <td>fY</td>\n",
       "      <td>AI</td>\n",
       "      <td>Good morning</td>\n",
       "      <td>11</td>\n",
       "      <td>03/31/2003</td>\n",
       "    </tr>\n",
       "    <tr>\n",
       "      <th>4</th>\n",
       "      <td>Student5</td>\n",
       "      <td>AnIL</td>\n",
       "      <td>Fy</td>\n",
       "      <td>SBCM</td>\n",
       "      <td>hello</td>\n",
       "      <td>18</td>\n",
       "      <td>01-01-2001</td>\n",
       "    </tr>\n",
       "    <tr>\n",
       "      <th>5</th>\n",
       "      <td>Student6</td>\n",
       "      <td>ViKas</td>\n",
       "      <td>fy</td>\n",
       "      <td>sbcm</td>\n",
       "      <td>MyComputer</td>\n",
       "      <td>9</td>\n",
       "      <td>02/02/24</td>\n",
       "    </tr>\n",
       "    <tr>\n",
       "      <th>6</th>\n",
       "      <td>Student7</td>\n",
       "      <td>Vinit</td>\n",
       "      <td>FY</td>\n",
       "      <td>AI</td>\n",
       "      <td>Hello Guys</td>\n",
       "      <td>50</td>\n",
       "      <td>04-03-2006</td>\n",
       "    </tr>\n",
       "    <tr>\n",
       "      <th>7</th>\n",
       "      <td>Student8</td>\n",
       "      <td>Pranali</td>\n",
       "      <td>fY</td>\n",
       "      <td>AI</td>\n",
       "      <td>Good morning</td>\n",
       "      <td>10</td>\n",
       "      <td>03/31/2003</td>\n",
       "    </tr>\n",
       "  </tbody>\n",
       "</table>\n",
       "</div>"
      ],
      "text/plain": [
       "     StudID     Name Class Elective           Msg  Test Score Date of Birth\n",
       "0  Student1    Ariba    Fy     SBCM         hello          20    06-09-2003\n",
       "1  Student2    Vilas    fy     sbcm    MyComputer           8      02/02/24\n",
       "2  Student3   Shivam    FY       AI    Hello Guys           5    04-03-2006\n",
       "3  Student4   Pranay    fY       AI  Good morning          11    03/31/2003\n",
       "4  Student5     AnIL    Fy     SBCM         hello          18    01-01-2001\n",
       "5  Student6    ViKas    fy     sbcm    MyComputer           9      02/02/24\n",
       "6  Student7    Vinit    FY       AI    Hello Guys          50    04-03-2006\n",
       "7  Student8  Pranali    fY       AI  Good morning          10    03/31/2003"
      ]
     },
     "execution_count": 25,
     "metadata": {},
     "output_type": "execute_result"
    }
   ],
   "source": [
    "# Removing non-printable characters from msg column\n",
    "import re\n",
    "df['Msg'] = df['Msg'].apply(lambda x: re.sub(r'[^\\x20-\\x7E]', '', x).replace('\\\\', ''))\n",
    "print(\"After removing non-printable characters in Msg column : \")\n",
    "\n",
    "df"
   ]
  },
  {
   "cell_type": "code",
   "execution_count": 26,
   "id": "55f4d25e-262f-442e-bb6d-a1db1844411f",
   "metadata": {},
   "outputs": [
    {
     "name": "stdout",
     "output_type": "stream",
     "text": [
      "Data after reformatting 'Date of Birth' column:\n"
     ]
    },
    {
     "data": {
      "text/html": [
       "<div>\n",
       "<style scoped>\n",
       "    .dataframe tbody tr th:only-of-type {\n",
       "        vertical-align: middle;\n",
       "    }\n",
       "\n",
       "    .dataframe tbody tr th {\n",
       "        vertical-align: top;\n",
       "    }\n",
       "\n",
       "    .dataframe thead th {\n",
       "        text-align: right;\n",
       "    }\n",
       "</style>\n",
       "<table border=\"1\" class=\"dataframe\">\n",
       "  <thead>\n",
       "    <tr style=\"text-align: right;\">\n",
       "      <th></th>\n",
       "      <th>StudID</th>\n",
       "      <th>Name</th>\n",
       "      <th>Class</th>\n",
       "      <th>Elective</th>\n",
       "      <th>Msg</th>\n",
       "      <th>Test Score</th>\n",
       "      <th>Date of Birth</th>\n",
       "    </tr>\n",
       "  </thead>\n",
       "  <tbody>\n",
       "    <tr>\n",
       "      <th>0</th>\n",
       "      <td>Student1</td>\n",
       "      <td>Ariba</td>\n",
       "      <td>Fy</td>\n",
       "      <td>SBCM</td>\n",
       "      <td>hello</td>\n",
       "      <td>20</td>\n",
       "      <td>06-09-2003</td>\n",
       "    </tr>\n",
       "    <tr>\n",
       "      <th>1</th>\n",
       "      <td>Student2</td>\n",
       "      <td>Vilas</td>\n",
       "      <td>fy</td>\n",
       "      <td>sbcm</td>\n",
       "      <td>MyComputer</td>\n",
       "      <td>8</td>\n",
       "      <td>02-02-2024</td>\n",
       "    </tr>\n",
       "    <tr>\n",
       "      <th>2</th>\n",
       "      <td>Student3</td>\n",
       "      <td>Shivam</td>\n",
       "      <td>FY</td>\n",
       "      <td>AI</td>\n",
       "      <td>Hello Guys</td>\n",
       "      <td>5</td>\n",
       "      <td>04-03-2006</td>\n",
       "    </tr>\n",
       "    <tr>\n",
       "      <th>3</th>\n",
       "      <td>Student4</td>\n",
       "      <td>Pranay</td>\n",
       "      <td>fY</td>\n",
       "      <td>AI</td>\n",
       "      <td>Good morning</td>\n",
       "      <td>11</td>\n",
       "      <td>31-03-2003</td>\n",
       "    </tr>\n",
       "    <tr>\n",
       "      <th>4</th>\n",
       "      <td>Student5</td>\n",
       "      <td>AnIL</td>\n",
       "      <td>Fy</td>\n",
       "      <td>SBCM</td>\n",
       "      <td>hello</td>\n",
       "      <td>18</td>\n",
       "      <td>01-01-2001</td>\n",
       "    </tr>\n",
       "    <tr>\n",
       "      <th>5</th>\n",
       "      <td>Student6</td>\n",
       "      <td>ViKas</td>\n",
       "      <td>fy</td>\n",
       "      <td>sbcm</td>\n",
       "      <td>MyComputer</td>\n",
       "      <td>9</td>\n",
       "      <td>02-02-2024</td>\n",
       "    </tr>\n",
       "    <tr>\n",
       "      <th>6</th>\n",
       "      <td>Student7</td>\n",
       "      <td>Vinit</td>\n",
       "      <td>FY</td>\n",
       "      <td>AI</td>\n",
       "      <td>Hello Guys</td>\n",
       "      <td>50</td>\n",
       "      <td>04-03-2006</td>\n",
       "    </tr>\n",
       "    <tr>\n",
       "      <th>7</th>\n",
       "      <td>Student8</td>\n",
       "      <td>Pranali</td>\n",
       "      <td>fY</td>\n",
       "      <td>AI</td>\n",
       "      <td>Good morning</td>\n",
       "      <td>10</td>\n",
       "      <td>31-03-2003</td>\n",
       "    </tr>\n",
       "  </tbody>\n",
       "</table>\n",
       "</div>"
      ],
      "text/plain": [
       "     StudID     Name Class Elective           Msg  Test Score Date of Birth\n",
       "0  Student1    Ariba    Fy     SBCM         hello          20    06-09-2003\n",
       "1  Student2    Vilas    fy     sbcm    MyComputer           8    02-02-2024\n",
       "2  Student3   Shivam    FY       AI    Hello Guys           5    04-03-2006\n",
       "3  Student4   Pranay    fY       AI  Good morning          11    31-03-2003\n",
       "4  Student5     AnIL    Fy     SBCM         hello          18    01-01-2001\n",
       "5  Student6    ViKas    fy     sbcm    MyComputer           9    02-02-2024\n",
       "6  Student7    Vinit    FY       AI    Hello Guys          50    04-03-2006\n",
       "7  Student8  Pranali    fY       AI  Good morning          10    31-03-2003"
      ]
     },
     "execution_count": 26,
     "metadata": {},
     "output_type": "execute_result"
    }
   ],
   "source": [
    "from datetime import datetime\n",
    "def parse_dates(date):\n",
    "    for fmt in ('%d-%m-%Y', '%d/%m/%y', '%m/%d/%Y', '%m/%d/%y'):\n",
    "        try:\n",
    "            return datetime.strptime(date, fmt).strftime('%d-%m-%Y')\n",
    "        except ValueError:\n",
    "            continue\n",
    "    return pd.NaT  # If none of the formats work, return NaT\n",
    "\n",
    "df['Date of Birth'] = df['Date of Birth'].apply(parse_dates)\n",
    "print(\"Data after reformatting 'Date of Birth' column:\")\n",
    "df"
   ]
  },
  {
   "cell_type": "code",
   "execution_count": 19,
   "id": "c9791fff-d10c-4427-87dc-c06364738348",
   "metadata": {},
   "outputs": [
    {
     "data": {
      "text/html": [
       "<div>\n",
       "<style scoped>\n",
       "    .dataframe tbody tr th:only-of-type {\n",
       "        vertical-align: middle;\n",
       "    }\n",
       "\n",
       "    .dataframe tbody tr th {\n",
       "        vertical-align: top;\n",
       "    }\n",
       "\n",
       "    .dataframe thead th {\n",
       "        text-align: right;\n",
       "    }\n",
       "</style>\n",
       "<table border=\"1\" class=\"dataframe\">\n",
       "  <thead>\n",
       "    <tr style=\"text-align: right;\">\n",
       "      <th></th>\n",
       "      <th>StudID</th>\n",
       "      <th>Name</th>\n",
       "      <th>Class</th>\n",
       "      <th>Elective</th>\n",
       "      <th>Msg</th>\n",
       "      <th>Test Score</th>\n",
       "      <th>Date of Birth</th>\n",
       "    </tr>\n",
       "  </thead>\n",
       "  <tbody>\n",
       "    <tr>\n",
       "      <th>0</th>\n",
       "      <td>Student1</td>\n",
       "      <td>Ariba</td>\n",
       "      <td>Fy</td>\n",
       "      <td>SBCM</td>\n",
       "      <td>hello</td>\n",
       "      <td>20</td>\n",
       "      <td>06-09-2003</td>\n",
       "    </tr>\n",
       "    <tr>\n",
       "      <th>1</th>\n",
       "      <td>Student2</td>\n",
       "      <td>Vilas</td>\n",
       "      <td>fy</td>\n",
       "      <td>sbcm</td>\n",
       "      <td>MyComputer</td>\n",
       "      <td>8</td>\n",
       "      <td>02-02-2024</td>\n",
       "    </tr>\n",
       "    <tr>\n",
       "      <th>2</th>\n",
       "      <td>Student3</td>\n",
       "      <td>Shivam</td>\n",
       "      <td>FY</td>\n",
       "      <td>AI</td>\n",
       "      <td>Hello Guys</td>\n",
       "      <td>5</td>\n",
       "      <td>04-03-2006</td>\n",
       "    </tr>\n",
       "    <tr>\n",
       "      <th>3</th>\n",
       "      <td>Student4</td>\n",
       "      <td>Pranay</td>\n",
       "      <td>fY</td>\n",
       "      <td>AI</td>\n",
       "      <td>Good morning</td>\n",
       "      <td>11</td>\n",
       "      <td>31-03-2003</td>\n",
       "    </tr>\n",
       "    <tr>\n",
       "      <th>4</th>\n",
       "      <td>Student5</td>\n",
       "      <td>AnIL</td>\n",
       "      <td>Fy</td>\n",
       "      <td>SBCM</td>\n",
       "      <td>hello</td>\n",
       "      <td>18</td>\n",
       "      <td>01-01-2001</td>\n",
       "    </tr>\n",
       "    <tr>\n",
       "      <th>5</th>\n",
       "      <td>Student6</td>\n",
       "      <td>ViKas</td>\n",
       "      <td>fy</td>\n",
       "      <td>sbcm</td>\n",
       "      <td>MyComputer</td>\n",
       "      <td>9</td>\n",
       "      <td>02-02-2024</td>\n",
       "    </tr>\n",
       "    <tr>\n",
       "      <th>6</th>\n",
       "      <td>Student7</td>\n",
       "      <td>Vinit</td>\n",
       "      <td>FY</td>\n",
       "      <td>AI</td>\n",
       "      <td>Hello Guys</td>\n",
       "      <td>50</td>\n",
       "      <td>04-03-2006</td>\n",
       "    </tr>\n",
       "    <tr>\n",
       "      <th>7</th>\n",
       "      <td>Student8</td>\n",
       "      <td>Pranali</td>\n",
       "      <td>fY</td>\n",
       "      <td>AI</td>\n",
       "      <td>Good morning</td>\n",
       "      <td>10</td>\n",
       "      <td>31-03-2003</td>\n",
       "    </tr>\n",
       "  </tbody>\n",
       "</table>\n",
       "</div>"
      ],
      "text/plain": [
       "     StudID     Name Class Elective           Msg  Test Score Date of Birth\n",
       "0  Student1    Ariba    Fy     SBCM         hello          20    06-09-2003\n",
       "1  Student2    Vilas    fy     sbcm    MyComputer           8    02-02-2024\n",
       "2  Student3   Shivam    FY       AI    Hello Guys           5    04-03-2006\n",
       "3  Student4   Pranay    fY       AI  Good morning          11    31-03-2003\n",
       "4  Student5     AnIL    Fy     SBCM         hello          18    01-01-2001\n",
       "5  Student6    ViKas    fy     sbcm    MyComputer           9    02-02-2024\n",
       "6  Student7    Vinit    FY       AI    Hello Guys          50    04-03-2006\n",
       "7  Student8  Pranali    fY       AI  Good morning          10    31-03-2003"
      ]
     },
     "execution_count": 19,
     "metadata": {},
     "output_type": "execute_result"
    }
   ],
   "source": [
    "df"
   ]
  },
  {
   "cell_type": "code",
   "execution_count": null,
   "id": "e5c6eca7-e571-4d9e-95fe-8bbeb0a865cd",
   "metadata": {},
   "outputs": [],
   "source": []
  },
  {
   "cell_type": "code",
   "execution_count": 27,
   "id": "a968c3a9-8b0e-40e0-bc75-4cb6f2769fd8",
   "metadata": {},
   "outputs": [
    {
     "name": "stdout",
     "output_type": "stream",
     "text": [
      "Bins:\n",
      "     StudID  Test Score Score Category\n",
      "0  Student1          20           best\n",
      "1  Student2           8           poor\n",
      "2  Student3           5           poor\n",
      "3  Student4          11        average\n",
      "4  Student5          18           best\n",
      "5  Student6           9           poor\n",
      "6  Student7          50            NaN\n",
      "7  Student8          10           poor\n"
     ]
    }
   ],
   "source": [
    "bins = [0, 10, 15, 20]\n",
    "labels = ['poor', 'average', 'best']\n",
    "df['Score Category'] = pd.cut(df['Test Score'], bins=bins, labels=labels, include_lowest=True)\n",
    "print(\"Bins:\")\n",
    "print(df[['StudID', 'Test Score', 'Score Category']])"
   ]
  },
  {
   "cell_type": "code",
   "execution_count": 28,
   "id": "1b882ab2-0409-45ff-bfaa-33c9a6b954f3",
   "metadata": {},
   "outputs": [
    {
     "name": "stdout",
     "output_type": "stream",
     "text": [
      "Average Test Score for class 'fy': 16.375\n"
     ]
    }
   ],
   "source": [
    "average_score_fy = df[df['Class'].str.lower() == 'fy']['Test Score'].mean()\n",
    "print(f\"Average Test Score for class 'fy': {average_score_fy}\")"
   ]
  },
  {
   "cell_type": "code",
   "execution_count": 29,
   "id": "019d26e0-94f7-432e-b4f5-c54c1c76b01d",
   "metadata": {},
   "outputs": [
    {
     "name": "stdout",
     "output_type": "stream",
     "text": [
      "Outliers :\n",
      "     StudID  Test Score\n",
      "6  Student7          50\n"
     ]
    }
   ],
   "source": [
    "Q1 = df['Test Score'].quantile(0.25)\n",
    "Q3 = df['Test Score'].quantile(0.75)\n",
    "IQR = Q3 - Q1\n",
    "lower_bound = Q1 - 1.5 * IQR\n",
    "upper_bound = Q3 + 1.5 * IQR\n",
    "outliers = df[(df['Test Score'] < lower_bound) | (df['Test Score'] > upper_bound)]\n",
    "print(\"Outliers :\")\n",
    "print(outliers[['StudID', 'Test Score']])"
   ]
  },
  {
   "cell_type": "code",
   "execution_count": 32,
   "id": "b7476aba-3f17-4b08-8e15-522e85c161f0",
   "metadata": {},
   "outputs": [
    {
     "name": "stdin",
     "output_type": "stream",
     "text": [
      "Enter a value:  34\n"
     ]
    },
    {
     "name": "stderr",
     "output_type": "stream",
     "text": [
      "2024-08-15 20:43:44,999 INFO - Operation performed successfully.\n"
     ]
    }
   ],
   "source": [
    "import logging\n",
    "logging.basicConfig(level=logging.DEBUG, format='%(asctime)s %(levelname)s - %(message)s')\n",
    "def perform_operation(value):\n",
    "    if value < 0:\n",
    "        raise ValueError(\"Invalid value: Value cannot be negative.\")\n",
    "    else:\n",
    "        logging.info(\"Operation performed successfully.\")\n",
    "try:\n",
    "    input_value = int(input(\"Enter a value: \"))\n",
    "    perform_operation(input_value)\n",
    "except ValueError as ve:\n",
    "    logging.exception(\"Exception occurred: %s\", str(ve))"
   ]
  },
  {
   "cell_type": "code",
   "execution_count": 33,
   "id": "5b62a83d-b01e-4e61-a503-bf807b95268b",
   "metadata": {},
   "outputs": [
    {
     "name": "stdout",
     "output_type": "stream",
     "text": [
      "     Name Date of Birth\n",
      "0   Ariba    2003-06-09\n",
      "1   Vilas    2024-02-02\n",
      "2  Shivam    2006-04-03\n",
      "4    AnIL    2001-01-01\n",
      "5   ViKas    2024-02-02\n",
      "6   Vinit    2006-04-03\n"
     ]
    }
   ],
   "source": [
    "start = pd.to_datetime('01-01-2000')\n",
    "end = pd.to_datetime('01-01-2025')\n",
    "df['Date of Birth'] = pd.to_datetime(df['Date of Birth'], errors='coerce')\n",
    "dob = df[(df['Date of Birth'] >= start) & (df['Date of Birth'] <= end)]\n",
    "print(dob[['Name', 'Date of Birth']])"
   ]
  },
  {
   "cell_type": "code",
   "execution_count": 34,
   "id": "5e7daabe-3db7-40f9-88f2-c829fe853ea0",
   "metadata": {},
   "outputs": [
    {
     "name": "stdout",
     "output_type": "stream",
     "text": [
      "Invalid test score : [50]\n"
     ]
    }
   ],
   "source": [
    "d = df['Test Score'].values\n",
    "v = d[(d<0) | (d>20)]\n",
    "print(\"Invalid test score :\",v)"
   ]
  },
  {
   "cell_type": "code",
   "execution_count": 35,
   "id": "6918e089-0550-40aa-a4f2-8cc67308857d",
   "metadata": {},
   "outputs": [
    {
     "name": "stdout",
     "output_type": "stream",
     "text": [
      "['Ariba', 'Vilas', 'Shivam', 'Pranay', 'AnIL', 'ViKas', 'Vinit', 'Pranali']\n"
     ]
    }
   ],
   "source": [
    "import re\n",
    "s = df['Name']\n",
    "def removePunc(z):\n",
    "    return re.sub('[ 1-9!#.]', '' , z)\n",
    "result = []\n",
    "for x in map(removePunc, s):\n",
    "    result.append(x)\n",
    "print(result)"
   ]
  },
  {
   "cell_type": "code",
   "execution_count": null,
   "id": "b8e5a394-af4d-4f92-8c93-5cd69139937b",
   "metadata": {},
   "outputs": [],
   "source": [
    "'''\n",
    "EDA\n",
    "'''"
   ]
  },
  {
   "cell_type": "code",
   "execution_count": 38,
   "id": "b9c72fb7-4f41-49d7-8dec-130864ae905d",
   "metadata": {},
   "outputs": [
    {
     "name": "stdout",
     "output_type": "stream",
     "text": [
      "Description of data :\n"
     ]
    },
    {
     "data": {
      "text/html": [
       "<div>\n",
       "<style scoped>\n",
       "    .dataframe tbody tr th:only-of-type {\n",
       "        vertical-align: middle;\n",
       "    }\n",
       "\n",
       "    .dataframe tbody tr th {\n",
       "        vertical-align: top;\n",
       "    }\n",
       "\n",
       "    .dataframe thead th {\n",
       "        text-align: right;\n",
       "    }\n",
       "</style>\n",
       "<table border=\"1\" class=\"dataframe\">\n",
       "  <thead>\n",
       "    <tr style=\"text-align: right;\">\n",
       "      <th></th>\n",
       "      <th>Test Score</th>\n",
       "      <th>Date of Birth</th>\n",
       "    </tr>\n",
       "  </thead>\n",
       "  <tbody>\n",
       "    <tr>\n",
       "      <th>count</th>\n",
       "      <td>8.000000</td>\n",
       "      <td>6</td>\n",
       "    </tr>\n",
       "    <tr>\n",
       "      <th>mean</th>\n",
       "      <td>16.375000</td>\n",
       "      <td>2010-11-08 04:00:00</td>\n",
       "    </tr>\n",
       "    <tr>\n",
       "      <th>min</th>\n",
       "      <td>5.000000</td>\n",
       "      <td>2001-01-01 00:00:00</td>\n",
       "    </tr>\n",
       "    <tr>\n",
       "      <th>25%</th>\n",
       "      <td>8.750000</td>\n",
       "      <td>2004-02-21 06:00:00</td>\n",
       "    </tr>\n",
       "    <tr>\n",
       "      <th>50%</th>\n",
       "      <td>10.500000</td>\n",
       "      <td>2006-04-03 00:00:00</td>\n",
       "    </tr>\n",
       "    <tr>\n",
       "      <th>75%</th>\n",
       "      <td>18.500000</td>\n",
       "      <td>2019-08-18 12:00:00</td>\n",
       "    </tr>\n",
       "    <tr>\n",
       "      <th>max</th>\n",
       "      <td>50.000000</td>\n",
       "      <td>2024-02-02 00:00:00</td>\n",
       "    </tr>\n",
       "    <tr>\n",
       "      <th>std</th>\n",
       "      <td>14.490761</td>\n",
       "      <td>NaN</td>\n",
       "    </tr>\n",
       "  </tbody>\n",
       "</table>\n",
       "</div>"
      ],
      "text/plain": [
       "       Test Score        Date of Birth\n",
       "count    8.000000                    6\n",
       "mean    16.375000  2010-11-08 04:00:00\n",
       "min      5.000000  2001-01-01 00:00:00\n",
       "25%      8.750000  2004-02-21 06:00:00\n",
       "50%     10.500000  2006-04-03 00:00:00\n",
       "75%     18.500000  2019-08-18 12:00:00\n",
       "max     50.000000  2024-02-02 00:00:00\n",
       "std     14.490761                  NaN"
      ]
     },
     "execution_count": 38,
     "metadata": {},
     "output_type": "execute_result"
    }
   ],
   "source": [
    "print(\"Description of data :\")\n",
    "df.describe()"
   ]
  },
  {
   "cell_type": "code",
   "execution_count": 39,
   "id": "4e0ef122-b93e-4ed5-9ad9-6f33cb1d2203",
   "metadata": {},
   "outputs": [
    {
     "name": "stdout",
     "output_type": "stream",
     "text": [
      "Average of Test Score column is : 16.375\n"
     ]
    }
   ],
   "source": [
    "print(\"Average of Test Score column is :\",df['Test Score'].mean())"
   ]
  },
  {
   "cell_type": "code",
   "execution_count": 41,
   "id": "009ffcb0-529f-4244-bae5-7761cb0f171f",
   "metadata": {},
   "outputs": [
    {
     "data": {
      "image/png": "[encoded data removed]",
      "text/plain": [
       "<Figure size 800x600 with 1 Axes>"
      ]
     },
     "metadata": {},
     "output_type": "display_data"
    }
   ],
   "source": [
    "import matplotlib.pyplot as plt\n",
    "import seaborn as sns  # pip install seaborn\n",
    "plt.figure(figsize=(8, 6))\n",
    "sns.boxplot(x=df['Test Score'])\n",
    "plt.title('Boxplot of Test Scores')\n",
    "plt.show()"
   ]
  },
  {
   "cell_type": "code",
   "execution_count": 42,
   "id": "4d344f3f-6131-49b3-9ab7-c65695e0aed5",
   "metadata": {},
   "outputs": [
    {
     "data": {
      "image/png": "[encoded data removed]",
      "text/plain": [
       "<Figure size 800x600 with 1 Axes>"
      ]
     },
     "metadata": {},
     "output_type": "display_data"
    }
   ],
   "source": [
    "plt.figure(figsize=(8, 6))\n",
    "sns.histplot(df['Test Score'], kde=True, stat=\"density\", label='Density')\n",
    "plt.title('Distribution Plot of Test Scores')\n",
    "plt.show()"
   ]
  },
  {
   "cell_type": "code",
   "execution_count": 43,
   "id": "a0fbb32b-3fe2-4f87-b06d-51d76f6c922a",
   "metadata": {},
   "outputs": [
    {
     "data": {
      "image/png": "[encoded data removed]",
      "text/plain": [
       "<Figure size 800x600 with 1 Axes>"
      ]
     },
     "metadata": {},
     "output_type": "display_data"
    }
   ],
   "source": [
    "plt.figure(figsize=(8, 6))\n",
    "sns.ecdfplot(df['Test Score'])\n",
    "plt.title('CDF of Test Scores')\n",
    "plt.show()"
   ]
  },
  {
   "cell_type": "code",
   "execution_count": 44,
   "id": "3a792e89-5284-4325-9655-4ae7ed00b041",
   "metadata": {},
   "outputs": [
    {
     "data": {
      "image/png": "[encoded data removed]",
      "text/plain": [
       "<Figure size 800x600 with 1 Axes>"
      ]
     },
     "metadata": {},
     "output_type": "display_data"
    }
   ],
   "source": [
    "plt.figure(figsize=(8, 6))\n",
    "sns.histplot(data=df, x='Test Score', hue='Score Category', multiple='stack')\n",
    "plt.title('Histogram of Test Scores by Category')\n",
    "plt.show()"
   ]
  },
  {
   "cell_type": "code",
   "execution_count": 45,
   "id": "eeded2db-f3d3-4d29-bbb5-80a45cddd7e6",
   "metadata": {},
   "outputs": [
    {
     "data": {
      "image/png": "[encoded data removed]",
      "text/plain": [
       "<Figure size 800x600 with 1 Axes>"
      ]
     },
     "metadata": {},
     "output_type": "display_data"
    }
   ],
   "source": [
    "plt.figure(figsize=(8, 6))\n",
    "sns.scatterplot(x='StudID', y='Test Score', data=df)\n",
    "plt.title('Scatter Plot of Test Scores')\n",
    "plt.show()"
   ]
  }
 ],
 "metadata": {
  "kernelspec": {
   "display_name": "Python 3 (ipykernel)",
   "language": "python",
   "name": "python3"
  },
  "language_info": {
   "codemirror_mode": {
    "name": "ipython",
    "version": 3
   },
   "file_extension": ".py",
   "mimetype": "text/x-python",
   "name": "python",
   "nbconvert_exporter": "python",
   "pygments_lexer": "ipython3",
   "version": "3.12.3"
  }
 },
 "nbformat": 4,
 "nbformat_minor": 5
}
