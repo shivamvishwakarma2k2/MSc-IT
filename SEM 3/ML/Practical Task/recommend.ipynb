{
 "cells": [
  {
   "cell_type": "code",
   "execution_count": 1,
   "metadata": {
    "id": "13EDEnJ3KTnr"
   },
   "outputs": [],
   "source": [
    "# Import necessary libraries for data manipulation, plotting, and machine learning\n",
    "import pandas as pd\n",
    "import matplotlib.pyplot as plt\n",
    "import seaborn as sns\n",
    "from scipy.sparse import csr_matrix\n",
    "from sklearn.neighbors import NearestNeighbors"
   ]
  },
  {
   "cell_type": "code",
   "execution_count": 2,
   "metadata": {
    "id": "hCTYh-XXKTny",
    "outputId": "63567d40-9885-4e90-9fe5-a3656a205cad"
   },
   "outputs": [
    {
     "name": "stdout",
     "output_type": "stream",
     "text": [
      "Books shape: (200, 4)\n",
      "Ratings shape: (1000, 3)\n"
     ]
    }
   ],
   "source": [
    "# Load the datasets from CSV files into pandas DataFrames\n",
    "books = pd.read_csv('Dataset/Books.csv')\n",
    "ratings = pd.read_csv('Dataset/Ratings.csv')\n",
    "\n",
    "# Print the shapes of the DataFrames to see the number of rows and columns\n",
    "print(\"Books shape:\", books.shape)\n",
    "print(\"Ratings shape:\", ratings.shape)"
   ]
  },
  {
   "cell_type": "code",
   "execution_count": 3,
   "metadata": {
    "id": "Skd438FcKTn1",
    "outputId": "4c64585f-a374-4c86-a1af-541d92e743d0"
   },
   "outputs": [
    {
     "name": "stderr",
     "output_type": "stream",
     "text": [
      "C:\\Users\\Shivam Vishwakarma\\AppData\\Local\\Temp\\ipykernel_13932\\3582131939.py:3: FutureWarning: \n",
      "\n",
      "Passing `palette` without assigning `hue` is deprecated and will be removed in v0.14.0. Assign the `x` variable to `hue` and set `legend=False` for the same effect.\n",
      "\n",
      "  sns.countplot(x='Book-Rating', data=ratings, palette='viridis')\n"
     ]
    },
    {
     "data": {
      "image/png": "[encoded data removed]",
      "text/plain": [
       "<Figure size 800x400 with 1 Axes>"
      ]
     },
     "metadata": {},
     "output_type": "display_data"
    }
   ],
   "source": [
    "# Create a countplot to visualize the distribution of book ratings\n",
    "plt.figure(figsize=(8,4))\n",
    "sns.countplot(x='Book-Rating', data=ratings, palette='viridis')\n",
    "plt.title(\"Ratings distribution\") # Set the title of the plot\n",
    "plt.xlabel(\"Rating\") # Set the label for the x-axis\n",
    "plt.show() # Display the plot"
   ]
  },
  {
   "cell_type": "code",
   "execution_count": 4,
   "metadata": {
    "id": "WMwrs5q-KTn2",
    "outputId": "7ca6c458-de1a-4640-a37a-8836e431c58a"
   },
   "outputs": [
    {
     "name": "stdout",
     "output_type": "stream",
     "text": [
      "Top 10 most-rated books (ISBN -> title):\n"
     ]
    },
    {
     "data": {
      "text/html": [
       "<div>\n",
       "<style scoped>\n",
       "    .dataframe tbody tr th:only-of-type {\n",
       "        vertical-align: middle;\n",
       "    }\n",
       "\n",
       "    .dataframe tbody tr th {\n",
       "        vertical-align: top;\n",
       "    }\n",
       "\n",
       "    .dataframe thead th {\n",
       "        text-align: right;\n",
       "    }\n",
       "</style>\n",
       "<table border=\"1\" class=\"dataframe\">\n",
       "  <thead>\n",
       "    <tr style=\"text-align: right;\">\n",
       "      <th></th>\n",
       "      <th>ISBN</th>\n",
       "      <th>Book-Title</th>\n",
       "      <th>Book-Author</th>\n",
       "    </tr>\n",
       "  </thead>\n",
       "  <tbody>\n",
       "    <tr>\n",
       "      <th>76</th>\n",
       "      <td>77</td>\n",
       "      <td>The Brothers Karamazov</td>\n",
       "      <td>Fyodor Dostoevsky</td>\n",
       "    </tr>\n",
       "    <tr>\n",
       "      <th>80</th>\n",
       "      <td>81</td>\n",
       "      <td>The Old Man and the Sea</td>\n",
       "      <td>Ernest Hemingway</td>\n",
       "    </tr>\n",
       "    <tr>\n",
       "      <th>115</th>\n",
       "      <td>116</td>\n",
       "      <td>Divergent</td>\n",
       "      <td>Veronica Roth</td>\n",
       "    </tr>\n",
       "    <tr>\n",
       "      <th>129</th>\n",
       "      <td>130</td>\n",
       "      <td>Cosmos</td>\n",
       "      <td>Carl Sagan</td>\n",
       "    </tr>\n",
       "    <tr>\n",
       "      <th>133</th>\n",
       "      <td>134</td>\n",
       "      <td>The 7 Habits of Highly Effective People</td>\n",
       "      <td>Stephen Covey</td>\n",
       "    </tr>\n",
       "    <tr>\n",
       "      <th>134</th>\n",
       "      <td>135</td>\n",
       "      <td>Harry Potter and the Order of the Phoenix</td>\n",
       "      <td>J.K. Rowling</td>\n",
       "    </tr>\n",
       "    <tr>\n",
       "      <th>142</th>\n",
       "      <td>143</td>\n",
       "      <td>Fahrenheit 451</td>\n",
       "      <td>Ray Bradbury</td>\n",
       "    </tr>\n",
       "    <tr>\n",
       "      <th>153</th>\n",
       "      <td>154</td>\n",
       "      <td>The Grapes of Wrath</td>\n",
       "      <td>John Steinbeck</td>\n",
       "    </tr>\n",
       "    <tr>\n",
       "      <th>158</th>\n",
       "      <td>159</td>\n",
       "      <td>A Farewell to Arms</td>\n",
       "      <td>Ernest Hemingway</td>\n",
       "    </tr>\n",
       "    <tr>\n",
       "      <th>183</th>\n",
       "      <td>184</td>\n",
       "      <td>The Count of Monte Cristo</td>\n",
       "      <td>Alexandre Dumas</td>\n",
       "    </tr>\n",
       "  </tbody>\n",
       "</table>\n",
       "</div>"
      ],
      "text/plain": [
       "     ISBN                                 Book-Title        Book-Author\n",
       "76     77                     The Brothers Karamazov  Fyodor Dostoevsky\n",
       "80     81                    The Old Man and the Sea   Ernest Hemingway\n",
       "115   116                                  Divergent      Veronica Roth\n",
       "129   130                                     Cosmos         Carl Sagan\n",
       "133   134    The 7 Habits of Highly Effective People      Stephen Covey\n",
       "134   135  Harry Potter and the Order of the Phoenix       J.K. Rowling\n",
       "142   143                             Fahrenheit 451       Ray Bradbury\n",
       "153   154                        The Grapes of Wrath     John Steinbeck\n",
       "158   159                         A Farewell to Arms   Ernest Hemingway\n",
       "183   184                  The Count of Monte Cristo    Alexandre Dumas"
      ]
     },
     "metadata": {},
     "output_type": "display_data"
    }
   ],
   "source": [
    "# Find the top 10 most rated books\n",
    "top_isbns = ratings['ISBN'].value_counts().head(10).index\n",
    "\n",
    "# Get the information for the top 10 books\n",
    "top_books_info = books[books['ISBN'].isin(top_isbns)][['ISBN','Book-Title','Book-Author']].drop_duplicates()\n",
    "print(\"Top 10 most-rated books (ISBN -> title):\")\n",
    "display(top_books_info)"
   ]
  },
  {
   "cell_type": "code",
   "execution_count": 5,
   "metadata": {
    "id": "r2J5X3giKTn4",
    "outputId": "35ebbaf4-8d23-457f-b558-957cfdfb6fd1"
   },
   "outputs": [
    {
     "name": "stderr",
     "output_type": "stream",
     "text": [
      "C:\\Users\\Shivam Vishwakarma\\AppData\\Local\\Temp\\ipykernel_13932\\3939299168.py:6: FutureWarning: \n",
      "\n",
      "Passing `palette` without assigning `hue` is deprecated and will be removed in v0.14.0. Assign the `y` variable to `hue` and set `legend=False` for the same effect.\n",
      "\n",
      "  sns.barplot(x=top_authors.values, y=top_authors.index, palette=\"magma\")\n"
     ]
    },
    {
     "data": {
      "image/png": "[encoded data removed]",
      "text/plain": [
       "<Figure size 800x400 with 1 Axes>"
      ]
     },
     "metadata": {},
     "output_type": "display_data"
    }
   ],
   "source": [
    "# Find the top 10 authors by the number of books in the catalog\n",
    "top_authors = books['Book-Author'].value_counts().head(10)\n",
    "\n",
    "# Plot the top authors\n",
    "plt.figure(figsize=(8,4))\n",
    "sns.barplot(x=top_authors.values, y=top_authors.index, palette=\"magma\")\n",
    "plt.title(\"Top authors (by number of books in catalog)\")\n",
    "plt.show()"
   ]
  },
  {
   "cell_type": "code",
   "execution_count": 6,
   "metadata": {
    "id": "z5qjAgjlKTn5",
    "outputId": "81a1915d-7d1a-45df-81c8-575bf2f9f6dc"
   },
   "outputs": [
    {
     "name": "stdout",
     "output_type": "stream",
     "text": [
      "Ratings count: 1000\n",
      "Unique users: 1000\n",
      "Unique books rated: 192\n"
     ]
    }
   ],
   "source": [
    "# Print basic statistics about the ratings data\n",
    "print(\"Ratings count:\", len(ratings))\n",
    "print(\"Unique users:\", ratings['User-ID'].nunique())\n",
    "print(\"Unique books rated:\", ratings['ISBN'].nunique())"
   ]
  },
  {
   "cell_type": "code",
   "execution_count": 7,
   "metadata": {
    "id": "4Ts_vlH9KTn6",
    "outputId": "a7ec21c4-d765-456f-d086-52cd89ab6f51"
   },
   "outputs": [
    {
     "name": "stdout",
     "output_type": "stream",
     "text": [
      "User-item matrix shape: (1000, 192)\n"
     ]
    }
   ],
   "source": [
    "# Create a user-item matrix where rows are users, columns are books, and values are ratings\n",
    "# Fill any missing values (books not rated by a user) with 0\n",
    "user_item_matrix = ratings.pivot_table(index='User-ID', columns='ISBN', values='Book-Rating').fillna(0)\n",
    "print(\"User-item matrix shape:\", user_item_matrix.shape)"
   ]
  },
  {
   "cell_type": "code",
   "execution_count": 8,
   "metadata": {
    "id": "CJRAhEKdKTn7"
   },
   "outputs": [],
   "source": [
    "# Convert the user-item matrix to a sparse matrix format for efficient computation\n",
    "sparse_matrix = csr_matrix(user_item_matrix.values)"
   ]
  },
  {
   "cell_type": "code",
   "execution_count": 9,
   "metadata": {
    "id": "ao2K5gRZKTn7",
    "outputId": "e8ef4b93-9c56-41df-c736-ff0c7edb97b7"
   },
   "outputs": [
    {
     "name": "stdout",
     "output_type": "stream",
     "text": [
      "KNN model trained.\n"
     ]
    }
   ],
   "source": [
    "# Initialize and train a K-Nearest Neighbors model for item-based recommendations\n",
    "# Using 'euclidean' distance and 'brute' algorithm\n",
    "knn = NearestNeighbors(metric='euclidean', algorithm='brute')\n",
    "knn.fit(user_item_matrix.T.values) # Train on the transpose of the user-item matrix for item similarity\n",
    "print(\"KNN model trained.\")"
   ]
  },
  {
   "cell_type": "code",
   "execution_count": 10,
   "metadata": {
    "id": "BhWdSXciKTn8"
   },
   "outputs": [],
   "source": [
    "# Define a function to recommend books using the trained KNN model\n",
    "def recommend_books_knn(book_title, n=5):\n",
    "    # Find the ISBN for the given book title\n",
    "    isbn_series = books[books['Book-Title'].str.lower() == book_title.lower()]['ISBN']\n",
    "    if isbn_series.empty:  # Return a message if the book is not found in the dataset\n",
    "        return f'\"{book_title}\" not found in dataset.'\n",
    "    isbn = isbn_series.values[0]\n",
    "    if isbn not in user_item_matrix.columns:\n",
    "        # Return a message if the book has not been rated by enough users\n",
    "        return f'\"{book_title}\" not popular enough for recommendations.'\n",
    "\n",
    "    # Get the index of the book in the user-item matrix\n",
    "    idx = list(user_item_matrix.columns).index(isbn)\n",
    "    # Extract the row corresponding to the book\n",
    "    query_vector = user_item_matrix.T.iloc[idx:idx+1].values\n",
    "    # Find the n nearest neighbors (books) to the query book\n",
    "    distances, indices = knn.kneighbors(query_vector, n_neighbors=n+1)\n",
    "\n",
    "    # Print the indices of the recommended books (including the query book itself)\n",
    "    print(f\"Recommendation indices for '{book_title}':\", indices.flatten())\n",
    "    # Get the ISBNs of the recommended books (excluding the query book)\n",
    "    rec_isbns = [user_item_matrix.columns[i] for i in indices.flatten()[1:]]\n",
    "    # Get the titles of the recommended books\n",
    "    rec_books = books[books['ISBN'].isin(rec_isbns)]['Book-Title']\n",
    "    return rec_books     # Return the recommended book titles"
   ]
  },
  {
   "cell_type": "code",
   "execution_count": 11,
   "metadata": {
    "id": "hl_bQ2pkKTn9",
    "outputId": "013275fc-74f1-461d-c264-e9e56a8f844a"
   },
   "outputs": [
    {
     "name": "stdout",
     "output_type": "stream",
     "text": [
      "Recommendation indices for 'A Game of Thrones': [ 26  85  91 174  84  20]\n"
     ]
    },
    {
     "data": {
      "text/plain": [
       "20                                   Pride and Prejudice\n",
       "85                                          Little Women\n",
       "86     Don't Sweat the Small Stuff... and It's All Sm...\n",
       "93                                              Catch-22\n",
       "176                                   The Scarlet Letter\n",
       "Name: Book-Title, dtype: object"
      ]
     },
     "execution_count": 11,
     "metadata": {},
     "output_type": "execute_result"
    }
   ],
   "source": [
    "# Recommendation for the below book\n",
    "recommend_books_knn('A Game of Thrones', n=5)"
   ]
  }
 ],
 "metadata": {
  "accelerator": "GPU",
  "colab": {
   "gpuType": "T4",
   "provenance": []
  },
  "kernelspec": {
   "display_name": "Python 3 (ipykernel)",
   "language": "python",
   "name": "python3"
  },
  "language_info": {
   "codemirror_mode": {
    "name": "ipython",
    "version": 3
   },
   "file_extension": ".py",
   "mimetype": "text/x-python",
   "name": "python",
   "nbconvert_exporter": "python",
   "pygments_lexer": "ipython3",
   "version": "3.10.11"
  }
 },
 "nbformat": 4,
 "nbformat_minor": 4
}
