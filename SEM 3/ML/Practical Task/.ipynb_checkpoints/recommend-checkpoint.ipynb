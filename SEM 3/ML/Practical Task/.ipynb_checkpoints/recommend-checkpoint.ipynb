{
 "cells": [
  {
   "cell_type": "code",
   "execution_count": 1,
   "metadata": {},
   "outputs": [],
   "source": [
    "import pandas as pd\n",
    "import matplotlib.pyplot as plt\n",
    "import seaborn as sns\n",
    "from scipy.sparse import csr_matrix\n",
    "from sklearn.neighbors import NearestNeighbors"
   ]
  },
  {
   "cell_type": "code",
   "execution_count": 2,
   "metadata": {},
   "outputs": [
    {
     "name": "stdout",
     "output_type": "stream",
     "text": [
      "Books shape: (200, 4)\n",
      "Ratings shape: (1000, 3)\n"
     ]
    }
   ],
   "source": [
    "# Update with correct paths if needed\n",
    "books = pd.read_csv('Dataset/Books.csv')\n",
    "ratings = pd.read_csv('Dataset/Ratings.csv')\n",
    "print(\"Books shape:\", books.shape)\n",
    "print(\"Ratings shape:\", ratings.shape)"
   ]
  },
  {
   "cell_type": "code",
   "execution_count": 3,
   "metadata": {},
   "outputs": [
    {
     "name": "stderr",
     "output_type": "stream",
     "text": [
      "C:\\Users\\Shivam Vishwakarma\\AppData\\Local\\Temp\\ipykernel_18304\\915679222.py:2: FutureWarning: \n",
      "\n",
      "Passing `palette` without assigning `hue` is deprecated and will be removed in v0.14.0. Assign the `x` variable to `hue` and set `legend=False` for the same effect.\n",
      "\n",
      "  sns.countplot(x='Book-Rating', data=ratings, palette='viridis')\n"
     ]
    },
    {
     "data": {
      "image/png": "[encoded data removed]",
      "text/plain": [
       "<Figure size 800x400 with 1 Axes>"
      ]
     },
     "metadata": {},
     "output_type": "display_data"
    }
   ],
   "source": [
    "plt.figure(figsize=(8,4))\n",
    "sns.countplot(x='Book-Rating', data=ratings, palette='viridis')\n",
    "plt.title(\"Ratings distribution\")\n",
    "plt.xlabel(\"Rating\")\n",
    "plt.show()"
   ]
  },
  {
   "cell_type": "code",
   "execution_count": 4,
   "metadata": {},
   "outputs": [
    {
     "name": "stdout",
     "output_type": "stream",
     "text": [
      "Top 10 most-rated books (ISBN -> title):\n"
     ]
    },
    {
     "data": {
      "text/html": [
       "<div>\n",
       "<style scoped>\n",
       "    .dataframe tbody tr th:only-of-type {\n",
       "        vertical-align: middle;\n",
       "    }\n",
       "\n",
       "    .dataframe tbody tr th {\n",
       "        vertical-align: top;\n",
       "    }\n",
       "\n",
       "    .dataframe thead th {\n",
       "        text-align: right;\n",
       "    }\n",
       "</style>\n",
       "<table border=\"1\" class=\"dataframe\">\n",
       "  <thead>\n",
       "    <tr style=\"text-align: right;\">\n",
       "      <th></th>\n",
       "      <th>ISBN</th>\n",
       "      <th>Book-Title</th>\n",
       "      <th>Book-Author</th>\n",
       "    </tr>\n",
       "  </thead>\n",
       "  <tbody>\n",
       "    <tr>\n",
       "      <th>76</th>\n",
       "      <td>77</td>\n",
       "      <td>The Brothers Karamazov</td>\n",
       "      <td>Fyodor Dostoevsky</td>\n",
       "    </tr>\n",
       "    <tr>\n",
       "      <th>80</th>\n",
       "      <td>81</td>\n",
       "      <td>The Old Man and the Sea</td>\n",
       "      <td>Ernest Hemingway</td>\n",
       "    </tr>\n",
       "    <tr>\n",
       "      <th>111</th>\n",
       "      <td>112</td>\n",
       "      <td>The Martian</td>\n",
       "      <td>Andy Weir</td>\n",
       "    </tr>\n",
       "    <tr>\n",
       "      <th>129</th>\n",
       "      <td>130</td>\n",
       "      <td>Cosmos</td>\n",
       "      <td>Carl Sagan</td>\n",
       "    </tr>\n",
       "    <tr>\n",
       "      <th>133</th>\n",
       "      <td>134</td>\n",
       "      <td>The 7 Habits of Highly Effective People</td>\n",
       "      <td>Stephen Covey</td>\n",
       "    </tr>\n",
       "    <tr>\n",
       "      <th>142</th>\n",
       "      <td>143</td>\n",
       "      <td>Fahrenheit 451</td>\n",
       "      <td>Ray Bradbury</td>\n",
       "    </tr>\n",
       "    <tr>\n",
       "      <th>153</th>\n",
       "      <td>154</td>\n",
       "      <td>The Grapes of Wrath</td>\n",
       "      <td>John Steinbeck</td>\n",
       "    </tr>\n",
       "    <tr>\n",
       "      <th>158</th>\n",
       "      <td>159</td>\n",
       "      <td>A Farewell to Arms</td>\n",
       "      <td>Ernest Hemingway</td>\n",
       "    </tr>\n",
       "    <tr>\n",
       "      <th>167</th>\n",
       "      <td>168</td>\n",
       "      <td>The Handmaid's Tale</td>\n",
       "      <td>Margaret Atwood</td>\n",
       "    </tr>\n",
       "    <tr>\n",
       "      <th>183</th>\n",
       "      <td>184</td>\n",
       "      <td>The Count of Monte Cristo</td>\n",
       "      <td>Alexandre Dumas</td>\n",
       "    </tr>\n",
       "  </tbody>\n",
       "</table>\n",
       "</div>"
      ],
      "text/plain": [
       "     ISBN                               Book-Title        Book-Author\n",
       "76     77                   The Brothers Karamazov  Fyodor Dostoevsky\n",
       "80     81                  The Old Man and the Sea   Ernest Hemingway\n",
       "111   112                              The Martian          Andy Weir\n",
       "129   130                                   Cosmos         Carl Sagan\n",
       "133   134  The 7 Habits of Highly Effective People      Stephen Covey\n",
       "142   143                           Fahrenheit 451       Ray Bradbury\n",
       "153   154                      The Grapes of Wrath     John Steinbeck\n",
       "158   159                       A Farewell to Arms   Ernest Hemingway\n",
       "167   168                      The Handmaid's Tale    Margaret Atwood\n",
       "183   184                The Count of Monte Cristo    Alexandre Dumas"
      ]
     },
     "metadata": {},
     "output_type": "display_data"
    }
   ],
   "source": [
    "# Find the top 10 most rated books\n",
    "top_isbns = ratings['ISBN'].value_counts().head(10).index\n",
    "\n",
    "# Get the information for the top 10 books\n",
    "top_books_info = books[books['ISBN'].isin(top_isbns)][['ISBN','Book-Title','Book-Author']].drop_duplicates()\n",
    "print(\"Top 10 most-rated books (ISBN -> title):\")\n",
    "display(top_books_info)"
   ]
  },
  {
   "cell_type": "code",
   "execution_count": 5,
   "metadata": {},
   "outputs": [
    {
     "name": "stderr",
     "output_type": "stream",
     "text": [
      "C:\\Users\\Shivam Vishwakarma\\AppData\\Local\\Temp\\ipykernel_18304\\3939299168.py:6: FutureWarning: \n",
      "\n",
      "Passing `palette` without assigning `hue` is deprecated and will be removed in v0.14.0. Assign the `y` variable to `hue` and set `legend=False` for the same effect.\n",
      "\n",
      "  sns.barplot(x=top_authors.values, y=top_authors.index, palette=\"magma\")\n"
     ]
    },
    {
     "data": {
      "image/png": "[encoded data removed]",
      "text/plain": [
       "<Figure size 800x400 with 1 Axes>"
      ]
     },
     "metadata": {},
     "output_type": "display_data"
    }
   ],
   "source": [
    "# Find the top 10 authors by the number of books in the catalog\n",
    "top_authors = books['Book-Author'].value_counts().head(10)\n",
    "\n",
    "# Plot the top authors\n",
    "plt.figure(figsize=(8,4))\n",
    "sns.barplot(x=top_authors.values, y=top_authors.index, palette=\"magma\")\n",
    "plt.title(\"Top authors (by number of books in catalog)\")\n",
    "plt.show()"
   ]
  },
  {
   "cell_type": "code",
   "execution_count": 6,
   "metadata": {},
   "outputs": [
    {
     "name": "stdout",
     "output_type": "stream",
     "text": [
      "Ratings count: 1000\n",
      "Unique users: 1000\n",
      "Unique books rated: 192\n"
     ]
    }
   ],
   "source": [
    "# Print basic statistics about the ratings data\n",
    "print(\"Ratings count:\", len(ratings))\n",
    "print(\"Unique users:\", ratings['User-ID'].nunique())\n",
    "print(\"Unique books rated:\", ratings['ISBN'].nunique())"
   ]
  },
  {
   "cell_type": "code",
   "execution_count": 7,
   "metadata": {},
   "outputs": [
    {
     "name": "stdout",
     "output_type": "stream",
     "text": [
      "User-item matrix shape: (1000, 192)\n"
     ]
    }
   ],
   "source": [
    "user_item_matrix = ratings.pivot_table(index='User-ID', columns='ISBN', values='Book-Rating').fillna(0)\n",
    "print(\"User-item matrix shape:\", user_item_matrix.shape)"
   ]
  },
  {
   "cell_type": "code",
   "execution_count": 13,
   "metadata": {},
   "outputs": [
    {
     "name": "stdout",
     "output_type": "stream",
     "text": [
      "<Compressed Sparse Row sparse matrix of dtype 'float64'\n",
      "\twith 1000 stored elements and shape (1000, 192)>\n",
      "  Coords\tValues\n",
      "  (0, 31)\t8.0\n",
      "  (1, 98)\t8.0\n",
      "  (2, 12)\t6.0\n",
      "  (3, 83)\t8.0\n",
      "  (4, 71)\t9.0\n",
      "  (5, 94)\t7.0\n",
      "  (6, 119)\t8.0\n",
      "  (7, 108)\t7.0\n",
      "  (8, 54)\t8.0\n",
      "  (9, 16)\t4.0\n",
      "  (10, 79)\t9.0\n",
      "  (11, 109)\t7.0\n",
      "  (12, 131)\t8.0\n",
      "  (13, 4)\t9.0\n",
      "  (14, 137)\t7.0\n",
      "  (15, 30)\t9.0\n",
      "  (16, 59)\t6.0\n",
      "  (17, 165)\t9.0\n",
      "  (18, 62)\t8.0\n",
      "  (19, 184)\t8.0\n",
      "  (20, 121)\t5.0\n",
      "  (21, 127)\t7.0\n",
      "  (22, 94)\t8.0\n",
      "  (23, 10)\t5.0\n",
      "  (24, 27)\t6.0\n",
      "  :\t:\n",
      "  (975, 119)\t8.0\n",
      "  (976, 103)\t7.0\n",
      "  (977, 160)\t8.0\n",
      "  (978, 107)\t6.0\n",
      "  (979, 3)\t7.0\n",
      "  (980, 31)\t9.0\n",
      "  (981, 35)\t8.0\n",
      "  (982, 61)\t6.0\n",
      "  (983, 51)\t5.0\n",
      "  (984, 74)\t7.0\n",
      "  (985, 150)\t7.0\n",
      "  (986, 89)\t8.0\n",
      "  (987, 48)\t6.0\n",
      "  (988, 44)\t7.0\n",
      "  (989, 57)\t6.0\n",
      "  (990, 126)\t7.0\n",
      "  (991, 62)\t8.0\n",
      "  (992, 140)\t7.0\n",
      "  (993, 68)\t5.0\n",
      "  (994, 178)\t7.0\n",
      "  (995, 55)\t5.0\n",
      "  (996, 14)\t6.0\n",
      "  (997, 78)\t7.0\n",
      "  (998, 191)\t5.0\n",
      "  (999, 169)\t6.0\n"
     ]
    }
   ],
   "source": [
    "sparse_matrix = csr_matrix(user_item_matrix.values)"
   ]
  },
  {
   "cell_type": "code",
   "execution_count": 9,
   "metadata": {},
   "outputs": [
    {
     "name": "stdout",
     "output_type": "stream",
     "text": [
      "KNN model trained.\n"
     ]
    }
   ],
   "source": [
    "knn = NearestNeighbors(metric='cosine', algorithm='brute')\n",
    "knn.fit(user_item_matrix.T.values)\n",
    "print(\"KNN model trained.\")"
   ]
  },
  {
   "cell_type": "code",
   "execution_count": 10,
   "metadata": {},
   "outputs": [],
   "source": [
    "def recommend_books_knn(book_title, n=5):\n",
    "    # Lookup ISBN for the provided book title\n",
    "    isbn_series = books[books['Book-Title'].str.lower() == book_title.lower()]['ISBN']\n",
    "    if isbn_series.empty:\n",
    "        return f'\"{book_title}\" not found in dataset.'\n",
    "\n",
    "    isbn = isbn_series.values[0]\n",
    "    if isbn not in user_item_matrix.columns:\n",
    "        return f'\"{book_title}\" not popular enough for recommendations.'\n",
    "    \n",
    "    # Find K nearest books (excluding itself)\n",
    "    idx = list(user_item_matrix.columns).index(isbn)\n",
    "    distances, indices = knn.kneighbors(user_item_matrix.T.iloc[idx:idx+1].values, n_neighbors=n+1)\n",
    "    rec_isbns = [user_item_matrix.columns[i] for i in indices.flatten()[1:]]  # Exclude the queried book itself\n",
    "\n",
    "    rec_books = books[books['ISBN'].isin(rec_isbns)]['Book-Title']\n",
    "    return rec_books\n"
   ]
  },
  {
   "cell_type": "code",
   "execution_count": 11,
   "metadata": {},
   "outputs": [
    {
     "name": "stdout",
     "output_type": "stream",
     "text": [
      "128      A Brief History of Time\n",
      "129                       Cosmos\n",
      "130    The Diary of a Young Girl\n",
      "131          The Four Agreements\n",
      "132            Rich Dad Poor Dad\n",
      "Name: Book-Title, dtype: object\n"
     ]
    }
   ],
   "source": [
    "print(recommend_books_knn('The Hobbit', n=5))\n"
   ]
  }
 ],
 "metadata": {
  "accelerator": "GPU",
  "colab": {
   "gpuType": "T4",
   "provenance": []
  },
  "kernelspec": {
   "display_name": "Python 3 (ipykernel)",
   "language": "python",
   "name": "python3"
  },
  "language_info": {
   "codemirror_mode": {
    "name": "ipython",
    "version": 3
   },
   "file_extension": ".py",
   "mimetype": "text/x-python",
   "name": "python",
   "nbconvert_exporter": "python",
   "pygments_lexer": "ipython3",
   "version": "3.10.11"
  }
 },
 "nbformat": 4,
 "nbformat_minor": 4
}
