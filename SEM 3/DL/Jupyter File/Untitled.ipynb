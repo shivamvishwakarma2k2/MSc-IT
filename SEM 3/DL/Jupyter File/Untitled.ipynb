{
 "cells": [
  {
   "cell_type": "code",
   "execution_count": 31,
   "id": "12d86c6a-58e0-4a9c-a784-39e8640496ae",
   "metadata": {},
   "outputs": [
    {
     "name": "stdout",
     "output_type": "stream",
     "text": [
      "Matrix Multiplication: \n",
      " [[19. 22.]\n",
      " [43. 50.]]\n",
      "\n",
      "eigenvalues : \n",
      "[-0.8541021  5.854102 ], \n",
      "\n",
      " eigenvectors: \n",
      "[[-0.85065085 -0.5257311 ]\n",
      " [ 0.5257311  -0.85065085]]\n"
     ]
    }
   ],
   "source": [
    "import tensorflow as tf\n",
    "\n",
    "A = tf.constant([[1.,2.],[3.,4.]])\n",
    "B = tf.constant([[5.,6.],[7.,8.]])\n",
    "\n",
    "C = tf.matmul(A,B)\n",
    "print(f\"Matrix Multiplication: \\n {C}\")\n",
    "\n",
    "eigenvalues, eigenvectors = tf.linalg.eigh(A)    # returns (eigenvalues, eigenvectors)\n",
    "print(f\"\\neigenvalues : \\n{eigenvalues}, \\n\\n eigenvectors: \\n{eigenvectors}\")"
   ]
  },
  {
   "cell_type": "code",
   "execution_count": 6,
   "id": "8cbbdedd",
   "metadata": {},
   "outputs": [
    {
     "data": {
      "text/html": [
       "<pre style=\"white-space:pre;overflow-x:auto;line-height:normal;font-family:Menlo,'DejaVu Sans Mono',consolas,'Courier New',monospace\"><span style=\"font-weight: bold\">Model: \"sequential_3\"</span>\n",
       "</pre>\n"
      ],
      "text/plain": [
       "\u001b[1mModel: \"sequential_3\"\u001b[0m\n"
      ]
     },
     "metadata": {},
     "output_type": "display_data"
    },
    {
     "data": {
      "text/html": [
       "<pre style=\"white-space:pre;overflow-x:auto;line-height:normal;font-family:Menlo,'DejaVu Sans Mono',consolas,'Courier New',monospace\">┏━━━━━━━━━━━━━━━━━━━━━━━━━━━━━━━━━━━━━━┳━━━━━━━━━━━━━━━━━━━━━━━━━━━━━┳━━━━━━━━━━━━━━━━━┓\n",
       "┃<span style=\"font-weight: bold\"> Layer (type)                         </span>┃<span style=\"font-weight: bold\"> Output Shape                </span>┃<span style=\"font-weight: bold\">         Param # </span>┃\n",
       "┡━━━━━━━━━━━━━━━━━━━━━━━━━━━━━━━━━━━━━━╇━━━━━━━━━━━━━━━━━━━━━━━━━━━━━╇━━━━━━━━━━━━━━━━━┩\n",
       "│ dense_6 (<span style=\"color: #0087ff; text-decoration-color: #0087ff\">Dense</span>)                      │ (<span style=\"color: #00d7ff; text-decoration-color: #00d7ff\">None</span>, <span style=\"color: #00af00; text-decoration-color: #00af00\">2</span>)                   │               <span style=\"color: #00af00; text-decoration-color: #00af00\">6</span> │\n",
       "├──────────────────────────────────────┼─────────────────────────────┼─────────────────┤\n",
       "│ dense_7 (<span style=\"color: #0087ff; text-decoration-color: #0087ff\">Dense</span>)                      │ (<span style=\"color: #00d7ff; text-decoration-color: #00d7ff\">None</span>, <span style=\"color: #00af00; text-decoration-color: #00af00\">1</span>)                   │               <span style=\"color: #00af00; text-decoration-color: #00af00\">3</span> │\n",
       "└──────────────────────────────────────┴─────────────────────────────┴─────────────────┘\n",
       "</pre>\n"
      ],
      "text/plain": [
       "┏━━━━━━━━━━━━━━━━━━━━━━━━━━━━━━━━━━━━━━┳━━━━━━━━━━━━━━━━━━━━━━━━━━━━━┳━━━━━━━━━━━━━━━━━┓\n",
       "┃\u001b[1m \u001b[0m\u001b[1mLayer (type)                        \u001b[0m\u001b[1m \u001b[0m┃\u001b[1m \u001b[0m\u001b[1mOutput Shape               \u001b[0m\u001b[1m \u001b[0m┃\u001b[1m \u001b[0m\u001b[1m        Param #\u001b[0m\u001b[1m \u001b[0m┃\n",
       "┡━━━━━━━━━━━━━━━━━━━━━━━━━━━━━━━━━━━━━━╇━━━━━━━━━━━━━━━━━━━━━━━━━━━━━╇━━━━━━━━━━━━━━━━━┩\n",
       "│ dense_6 (\u001b[38;5;33mDense\u001b[0m)                      │ (\u001b[38;5;45mNone\u001b[0m, \u001b[38;5;34m2\u001b[0m)                   │               \u001b[38;5;34m6\u001b[0m │\n",
       "├──────────────────────────────────────┼─────────────────────────────┼─────────────────┤\n",
       "│ dense_7 (\u001b[38;5;33mDense\u001b[0m)                      │ (\u001b[38;5;45mNone\u001b[0m, \u001b[38;5;34m1\u001b[0m)                   │               \u001b[38;5;34m3\u001b[0m │\n",
       "└──────────────────────────────────────┴─────────────────────────────┴─────────────────┘\n"
      ]
     },
     "metadata": {},
     "output_type": "display_data"
    },
    {
     "data": {
      "text/html": [
       "<pre style=\"white-space:pre;overflow-x:auto;line-height:normal;font-family:Menlo,'DejaVu Sans Mono',consolas,'Courier New',monospace\"><span style=\"font-weight: bold\"> Total params: </span><span style=\"color: #00af00; text-decoration-color: #00af00\">9</span> (36.00 B)\n",
       "</pre>\n"
      ],
      "text/plain": [
       "\u001b[1m Total params: \u001b[0m\u001b[38;5;34m9\u001b[0m (36.00 B)\n"
      ]
     },
     "metadata": {},
     "output_type": "display_data"
    },
    {
     "data": {
      "text/html": [
       "<pre style=\"white-space:pre;overflow-x:auto;line-height:normal;font-family:Menlo,'DejaVu Sans Mono',consolas,'Courier New',monospace\"><span style=\"font-weight: bold\"> Trainable params: </span><span style=\"color: #00af00; text-decoration-color: #00af00\">9</span> (36.00 B)\n",
       "</pre>\n"
      ],
      "text/plain": [
       "\u001b[1m Trainable params: \u001b[0m\u001b[38;5;34m9\u001b[0m (36.00 B)\n"
      ]
     },
     "metadata": {},
     "output_type": "display_data"
    },
    {
     "data": {
      "text/html": [
       "<pre style=\"white-space:pre;overflow-x:auto;line-height:normal;font-family:Menlo,'DejaVu Sans Mono',consolas,'Courier New',monospace\"><span style=\"font-weight: bold\"> Non-trainable params: </span><span style=\"color: #00af00; text-decoration-color: #00af00\">0</span> (0.00 B)\n",
       "</pre>\n"
      ],
      "text/plain": [
       "\u001b[1m Non-trainable params: \u001b[0m\u001b[38;5;34m0\u001b[0m (0.00 B)\n"
      ]
     },
     "metadata": {},
     "output_type": "display_data"
    },
    {
     "name": "stdout",
     "output_type": "stream",
     "text": [
      "None\n",
      "Epoch 1/10\n",
      "\u001b[1m1/1\u001b[0m \u001b[32m━━━━━━━━━━━━━━━━━━━━\u001b[0m\u001b[37m\u001b[0m \u001b[1m1s\u001b[0m 1s/step - accuracy: 0.7500 - loss: 0.7334   \n",
      "Epoch 2/10\n",
      "\u001b[1m1/1\u001b[0m \u001b[32m━━━━━━━━━━━━━━━━━━━━\u001b[0m\u001b[37m\u001b[0m \u001b[1m0s\u001b[0m 68ms/step - accuracy: 0.5000 - loss: 0.7330\n",
      "Epoch 3/10\n",
      "\u001b[1m1/1\u001b[0m \u001b[32m━━━━━━━━━━━━━━━━━━━━\u001b[0m\u001b[37m\u001b[0m \u001b[1m0s\u001b[0m 50ms/step - accuracy: 0.5000 - loss: 0.7324\n",
      "Epoch 4/10\n",
      "\u001b[1m1/1\u001b[0m \u001b[32m━━━━━━━━━━━━━━━━━━━━\u001b[0m\u001b[37m\u001b[0m \u001b[1m0s\u001b[0m 50ms/step - accuracy: 0.5000 - loss: 0.7319\n",
      "Epoch 5/10\n",
      "\u001b[1m1/1\u001b[0m \u001b[32m━━━━━━━━━━━━━━━━━━━━\u001b[0m\u001b[37m\u001b[0m \u001b[1m0s\u001b[0m 59ms/step - accuracy: 0.5000 - loss: 0.7314\n",
      "Epoch 6/10\n",
      "\u001b[1m1/1\u001b[0m \u001b[32m━━━━━━━━━━━━━━━━━━━━\u001b[0m\u001b[37m\u001b[0m \u001b[1m0s\u001b[0m 45ms/step - accuracy: 0.5000 - loss: 0.7309\n",
      "Epoch 7/10\n",
      "\u001b[1m1/1\u001b[0m \u001b[32m━━━━━━━━━━━━━━━━━━━━\u001b[0m\u001b[37m\u001b[0m \u001b[1m0s\u001b[0m 76ms/step - accuracy: 0.5000 - loss: 0.7305\n",
      "Epoch 8/10\n",
      "\u001b[1m1/1\u001b[0m \u001b[32m━━━━━━━━━━━━━━━━━━━━\u001b[0m\u001b[37m\u001b[0m \u001b[1m0s\u001b[0m 81ms/step - accuracy: 0.5000 - loss: 0.7300\n",
      "Epoch 9/10\n",
      "\u001b[1m1/1\u001b[0m \u001b[32m━━━━━━━━━━━━━━━━━━━━\u001b[0m\u001b[37m\u001b[0m \u001b[1m0s\u001b[0m 66ms/step - accuracy: 0.5000 - loss: 0.7295\n",
      "Epoch 10/10\n",
      "\u001b[1m1/1\u001b[0m \u001b[32m━━━━━━━━━━━━━━━━━━━━\u001b[0m\u001b[37m\u001b[0m \u001b[1m0s\u001b[0m 58ms/step - accuracy: 0.5000 - loss: 0.7290\n",
      "<keras.src.callbacks.history.History object at 0x0000017C0A5665F0>\n",
      "\u001b[1m1/1\u001b[0m \u001b[32m━━━━━━━━━━━━━━━━━━━━\u001b[0m\u001b[37m\u001b[0m \u001b[1m0s\u001b[0m 67ms/step\n",
      "[[0.50249356]\n",
      " [0.5570793 ]\n",
      " [0.31209904]\n",
      " [0.37282473]]\n",
      "[array([[-0.17529365,  0.9339816 ],\n",
      "       [ 0.29437307, -0.21051444]], dtype=float32), array([-0.0019104, -0.0099821], dtype=float32), array([[ 0.7499847],\n",
      "       [-0.8661247]], dtype=float32), array([0.00997444], dtype=float32)]\n"
     ]
    },
    {
     "data": {
      "text/html": [
       "<div>\n",
       "<style scoped>\n",
       "    .dataframe tbody tr th:only-of-type {\n",
       "        vertical-align: middle;\n",
       "    }\n",
       "\n",
       "    .dataframe tbody tr th {\n",
       "        vertical-align: top;\n",
       "    }\n",
       "\n",
       "    .dataframe thead th {\n",
       "        text-align: right;\n",
       "    }\n",
       "</style>\n",
       "<table border=\"1\" class=\"dataframe\">\n",
       "  <thead>\n",
       "    <tr style=\"text-align: right;\">\n",
       "      <th></th>\n",
       "      <th>X1</th>\n",
       "      <th>X2</th>\n",
       "      <th>Y</th>\n",
       "      <th>Y_pred</th>\n",
       "      <th>Y_pred(Round)</th>\n",
       "    </tr>\n",
       "  </thead>\n",
       "  <tbody>\n",
       "    <tr>\n",
       "      <th>0</th>\n",
       "      <td>0</td>\n",
       "      <td>0</td>\n",
       "      <td>0</td>\n",
       "      <td>0.502494</td>\n",
       "      <td>1.0</td>\n",
       "    </tr>\n",
       "    <tr>\n",
       "      <th>1</th>\n",
       "      <td>0</td>\n",
       "      <td>1</td>\n",
       "      <td>1</td>\n",
       "      <td>0.557079</td>\n",
       "      <td>1.0</td>\n",
       "    </tr>\n",
       "    <tr>\n",
       "      <th>2</th>\n",
       "      <td>1</td>\n",
       "      <td>0</td>\n",
       "      <td>1</td>\n",
       "      <td>0.312099</td>\n",
       "      <td>0.0</td>\n",
       "    </tr>\n",
       "    <tr>\n",
       "      <th>3</th>\n",
       "      <td>1</td>\n",
       "      <td>1</td>\n",
       "      <td>0</td>\n",
       "      <td>0.372825</td>\n",
       "      <td>0.0</td>\n",
       "    </tr>\n",
       "  </tbody>\n",
       "</table>\n",
       "</div>"
      ],
      "text/plain": [
       "   X1  X2  Y    Y_pred  Y_pred(Round)\n",
       "0   0   0  0  0.502494            1.0\n",
       "1   0   1  1  0.557079            1.0\n",
       "2   1   0  1  0.312099            0.0\n",
       "3   1   1  0  0.372825            0.0"
      ]
     },
     "metadata": {},
     "output_type": "display_data"
    }
   ],
   "source": [
    "# Practical 2\n",
    "import numpy as np\n",
    "import pandas as pd\n",
    "from keras.layers import Dense, Input\n",
    "from keras.models import Sequential\n",
    "\n",
    "# model = Sequential()\n",
    "# model.add(Dense(units=2, activation='relu', input_dim=2))\n",
    "# model.add(Dense(units=1, activation='sigmoid'))\n",
    "#  OR\n",
    "model = Sequential([\n",
    "    Input(shape=(2,)),              # define input shape here\n",
    "    Dense(2, activation=\"relu\"),    # hidden layer\n",
    "    Dense(1, activation=\"sigmoid\")  # output layer\n",
    "])\n",
    "model.compile(loss='binary_crossentropy', optimizer='adam', metrics=['accuracy'])\n",
    "print(model.summary())\n",
    "\n",
    "X = np.array([[0, 0], [0, 1], [1, 0], [1, 1]])\n",
    "Y = np.array([0, 1, 1, 0])\n",
    "\n",
    "print(model.fit(X, Y, epochs=10, batch_size=4))\n",
    "y_pred = model.predict(X)\n",
    "print(y_pred)\n",
    "print(model.get_weights())\n",
    "\n",
    "df = pd.DataFrame({\n",
    "        \"X1\": X[:, 0],\n",
    "        \"X2\": X[:, 1],\n",
    "        \"Y\": Y,\n",
    "        \"Y_pred\": y_pred[:, 0],\n",
    "        \"Y_pred(Round)\": np.round(y_pred[:, 0])\n",
    "    })\n",
    "display(df)"
   ]
  },
  {
   "cell_type": "code",
   "execution_count": null,
   "id": "850348f1-3261-4f70-b98d-c372bcd86135",
   "metadata": {},
   "outputs": [],
   "source": []
  },
  {
   "cell_type": "code",
   "execution_count": 34,
   "id": "4f7b6af2-7cd2-4ee5-a5f1-f7e014687319",
   "metadata": {},
   "outputs": [
    {
     "name": "stdout",
     "output_type": "stream",
     "text": [
      "m 3.1, b 0.9, cost 89.0 iteration 0\n",
      "m 2.52, b 0.78, cost 3.8599999999999994 iteration 1\n",
      "m 2.6140000000000003, b 0.8460000000000001, cost 0.9763999999999999 iteration 2\n",
      "m 2.5848, b 0.8772, cost 0.8513360000000004 iteration 3\n",
      "m 2.57836, b 0.91404, cost 0.81970064 iteration 4\n",
      "m 2.567952, b 0.949128, cost 0.7921173536 iteration 5\n",
      "m 2.5584664, b 0.9838296, cost 0.7655590528640001 iteration 6\n",
      "m 2.54900448, b 1.01790672, cost 0.7398944506073604 iteration 7\n",
      "m 2.539727536, b 1.0514147040000001, cost 0.7150903372945663 iteration 8\n",
      "m 2.5306028352, b 1.0843549728000001, cost 0.6911177570948888 iteration 9\n",
      "m 2.52163322464, b 1.1167386249600002, cost 0.667948830166544 iteration 10\n",
      "m 2.512815090048, b 1.1485747950720002, cost 0.6455566148366696 iteration 11\n",
      "m 2.5041460524735997, b 1.1798727885504001, cost 0.6239150727392739 iteration 12\n",
      "m 2.49562355818752, b 1.2106416939532803, cost 0.602999038418565 iteration 13\n",
      "m 2.487245135995264, b 1.2408904571016963, cost 0.5827841900618126 iteration 14\n",
      "m 2.479008349269965, b 1.2706278705929475, cost 0.5632470212170514 iteration 15\n",
      "m 2.4709108038951193, b 1.2998625787526632, cost 0.5443648134590486 iteration 16\n",
      "m 2.4629501459846894, b 1.328603079708861, cost 0.5261156099716162 iteration 17\n",
      "m 2.4551240614888727, b 1.3568577279425682, cost 0.508478190015543 iteration 18\n",
      "m 2.447430275468342, b 1.3846347367016496, cost 0.4914320442524625 iteration 19\n",
      "m 2.439866551442671, b 1.411942180390982, cost 0.4749573508959591 iteration 20\n",
      "m 2.432430690738438, b 1.4387879969190824, cost 0.4590349526621794 iteration 21\n",
      "m 2.4251205318504314, b 1.4651799900056428, cost 0.4436463344931504 iteration 22\n",
      "m 2.417933949813264, b 1.4911258314499491, cost 0.42877360202689574 iteration 23\n",
      "m 2.410868855583689, b 1.516633063360975, cost 0.41439946078931755 iteration 24\n",
      "m 2.403923195433338, b 1.5417091003497707, cost 0.40050719608364665 iteration 25\n",
      "m 2.397094950351735, b 1.5663612316847921, cost 0.38708065355407184 iteration 26\n",
      "m 2.390382135459389, b 1.5905966234107924, cost 0.3741042204009627 iteration 27\n",
      "m 2.3837827994308234, b 1.6144223204318966, cost 0.36156280722581025 iteration 28\n",
      "m 2.3772950239273487, b 1.63784524855946, cost 0.3494418304848192 iteration 29\n",
      "m 2.3709169230394274, b 1.6608722165253094, cost 0.33772719553070274 iteration 30\n",
      "m 2.3646466427384647, b 1.6835099179609503, cost 0.32640528022299464 iteration 31\n",
      "m 2.3584823603378684, b 1.7057649333433158, cost 0.31546291908779983 iteration 32\n",
      "m 2.3524222839632185, b 1.7276437319076237, cost 0.30488738800857484 iteration 33\n",
      "m 2.346464652031391, b 1.7491526735278957, cost 0.29466638943012996 iteration 34\n",
      "m 2.3406077327384924, b 1.7702980105656887, cost 0.2847880380586522 iteration 35\n",
      "m 2.334849823556444, b 1.791085889687572, cost 0.275240847041116 iteration 36\n",
      "m 2.329189250738084, b 1.8115223536518816, cost 0.26601371460801604 iteration 37\n",
      "m 2.323624368830627, b 1.8316133430652684, cost 0.2570959111638838 iteration 38\n",
      "m 2.318153560197357, b 1.8513646981095535, cost 0.2484770668105837 iteration 39\n",
      "m 2.312775234547398, b 1.870782160239391, cost 0.2401471592888743 iteration 40\n",
      "m 2.307487828473443, b 1.8898713738512325, cost 0.23209650232421133 iteration 41\n",
      "m 2.302289804997286, b 1.9086378879240764, cost 0.2243157343632518 iteration 42\n",
      "m 2.2971796531230484, b 1.9270871576324828, cost 0.21679580768794726 iteration 43\n",
      "m 2.2921558873979504, b 1.94522454593232, cost 0.20952797789457814 iteration 44\n",
      "m 2.287217047480509, b 1.963055325119703, cost 0.2025037937254882 iteration 45\n",
      "m 2.282361697716038, b 1.9805846783635799, cost 0.19571508724170383 iteration 46\n",
      "m 2.2775884267193223, b 1.9978177012124105, cost 0.1891539643249979 iteration 47\n",
      "m 2.2728958469643445, b 2.014759403075373, cost 0.18281279549836707 iteration 48\n",
      "m 2.2682825943809535, b 2.031414708678532, cost 0.1766842070542369 iteration 49\n",
      "m 2.263747327958345, b 2.047788459496393, cost 0.17076107248009 iteration 50\n",
      "m 2.2592887293552475, b 2.0638854151592505, cost 0.16503650417153282 iteration 51\n",
      "m 2.2549055025167, b 2.079710254836751, cost 0.1595038454231776 iteration 52\n",
      "m 2.2505963732973044, b 2.095267578598066, cost 0.1541566626880198 iteration 53\n",
      "m 2.24636008909085, b 2.110561908749068, cost 0.14898873809630875 iteration 54\n",
      "m 2.2421954184661947, b 2.1255976911469063, cost 0.14399406222521696 iteration 55\n",
      "m 2.2381011508093085, b 2.140379296492357, cost 0.13916682711089676 iteration 56\n",
      "m 2.234076095971362, b 2.154911021600329, cost 0.13450141949479977 iteration 57\n",
      "m 2.230119083922765, b 2.1691970906488875, cost 0.12999241429640668 iteration 58\n",
      "m 2.2262289644130573, b 2.1832416564071693, cost 0.12563456830477537 iteration 59\n",
      "m 2.2224046066365437, b 2.197048801442535, cost 0.12142281408157163 iteration 60\n",
      "m 2.218644898903585, b 2.2106225393073187, cost 0.11735225406849686 iteration 61\n",
      "m 2.214948748317446, b 2.223966815705511, cost 0.11341815489225414 iteration 62\n",
      "m 2.2113150804566017, b 2.237085509639726, cost 0.10961594186043476 iteration 63\n",
      "m 2.207742839062422, b 2.2499824345387727, cost 0.10594119364192585 iteration 64\n",
      "m 2.204230985732126, b 2.262661339366169, cost 0.1023896371256476 iteration 65\n",
      "m 2.200778499616937, b 2.275125909709914, cost 0.09895714245164931 iteration 66\n",
      "m 2.197384377125332, b 2.2873797688538415, cost 0.09563971820877826 iteration 67\n",
      "m 2.1940476316313147, b 2.299426478830858, cost 0.09243350679334461 iteration 68\n",
      "m 2.190767293187611, b 2.311269541458378, cost 0.08933477992338035 iteration 69\n",
      "m 2.187542408243725, b 2.3229123993562566, cost 0.08633993430327605 iteration 70\n",
      "m 2.1843720393687502, b 2.334358436947513, cost 0.08344548743375868 iteration 71\n",
      "m 2.181255264978871, b 2.3456109814421366, cost 0.08064807356233224 iteration 72\n",
      "m 2.1781911790694717, b 2.3566733038042615, cost 0.07794443976947857 iteration 73\n",
      "m 2.175178890951774, b 2.367548619702994, cost 0.0753314421860593 iteration 74\n",
      "m 2.1722175249939246, b 2.3782400904471626, cost 0.07280604233752795 iteration 75\n",
      "m 2.1693062203664586, b 2.3887508239042687, cost 0.07036530361069966 iteration 76\n",
      "m 2.1664441307920734, b 2.399083875403904, cost 0.06800638783896373 iteration 77\n",
      "m 2.1636304242996216, b 2.4092422486258918, cost 0.0657265520019769 iteration 78\n",
      "m 2.16086428298227, b 2.419228896473416, cost 0.06352314503599484 iteration 79\n",
      "m 2.1581449027597484, b 2.4290467219313934, cost 0.0613936047511307 iteration 80\n",
      "m 2.155471493144607, b 2.4386985789103295, cost 0.05933545485196432 iteration 81\n",
      "m 2.1528432770124404, b 2.4481872730759147, cost 0.057346302058027765 iteration 82\n",
      "m 2.1502594903759817, b 2.4575155626645913, cost 0.05542383332082406 iteration 83\n",
      "m 2.1477193821630243, b 2.4666861592853375, cost 0.053565813134143936 iteration 84\n",
      "m 2.145222213998096, b 2.4757017287078966, cost 0.05177008093454941 iteration 85\n",
      "m 2.1427672599878216, b 2.484564891637678, cost 0.05003454858900295 iteration 86\n",
      "m 2.1403538065099146, b 2.4932782244775638, cost 0.04835719796672347 iteration 87\n",
      "m 2.1379811520057395, b 2.501844260076833, cost 0.04673607859243991 iteration 88\n",
      "m 2.135648606776376, b 2.510265488467428, cost 0.04516930537831803 iteration 89\n",
      "m 2.133355492782134, b 2.518544357587772, cost 0.043655056431923134 iteration 90\n",
      "m 2.131101143445455, b 2.526683273994355, cost 0.04219157093766536 iteration 91\n",
      "m 2.128884903457148, b 2.534684603561283, cost 0.040777147109271154 iteration 92\n",
      "m 2.1267061285859, b 2.5425506721680105, cost 0.039410140210890766 iteration 93\n",
      "m 2.124564185491007, b 2.5502837663754394, cost 0.0380889606445504 iteration 94\n",
      "m 2.122458451538267, b 2.557886134090593, cost 0.03681207210171745 iteration 95\n",
      "m 2.1203883146189955, b 2.5653599852200535, cost 0.035577989776834094 iteration 96\n",
      "m 2.118353172972084, b 2.5727074923123494, cost 0.03438527864073859 iteration 97\n",
      "m 2.1163524350090865, b 2.579930791189489, cost 0.03323255177196899 iteration 98\n",
      "m 2.1143855191422443, b 2.587031981567814, cost 0.03211846874400929 iteration 99\n"
     ]
    }
   ],
   "source": [
    "# Practical 3\n",
    "import numpy as np \n",
    "\n",
    "def gradient_descent(x, y):\n",
    "    #  y = mx + b\n",
    "    m_curr = b_curr = 0     # initial guess for slope and intercept\n",
    "    iterations = 100        # number of updates\n",
    "    learning_rate = 0.05    # small step size\n",
    "    n = len(x)              # number of data points\n",
    "\n",
    "    for i in range(iterations):\n",
    "        y_predicted = m_curr*x+b_curr          # Uses current m and b to calculate predicted values.\n",
    "        cost = (1/n) * sum([val**2 for val in (y - y_predicted)]) # MSE\n",
    "        md = -(2/n) * sum(x*(y-y_predicted))   # derivative wrt m\n",
    "        bd = -(2/n) * sum(y-y_predicted)       # derivative wrt b\n",
    "        m_curr = m_curr - learning_rate * md   # Gradient Descent update to m\n",
    "        b_curr = b_curr - learning_rate * bd   # Gradient Descent update to b\n",
    "        print(f\"m {m_curr}, b {b_curr}, cost {cost} iteration {i}\")\n",
    "\n",
    "x = np.array([1, 2, 3, 4, 5])\n",
    "y = np.array([5, 7, 9, 11, 13])\n",
    "\n",
    "gradient_descent(x, y)"
   ]
  },
  {
   "cell_type": "code",
   "execution_count": 47,
   "id": "95539681-1c5b-4e61-bda2-22aa9fb23b4b",
   "metadata": {},
   "outputs": [
    {
     "name": "stderr",
     "output_type": "stream",
     "text": [
      "C:\\Users\\Shivam Vishwakarma\\AppData\\Local\\Packages\\PythonSoftwareFoundation.Python.3.10_qbz5n2kfra8p0\\LocalCache\\local-packages\\Python310\\site-packages\\keras\\src\\layers\\reshaping\\flatten.py:37: UserWarning: Do not pass an `input_shape`/`input_dim` argument to a layer. When using Sequential models, prefer using an `Input(shape)` object as the first layer in the model instead.\n",
      "  super().__init__(**kwargs)\n"
     ]
    },
    {
     "data": {
      "text/html": [
       "<pre style=\"white-space:pre;overflow-x:auto;line-height:normal;font-family:Menlo,'DejaVu Sans Mono',consolas,'Courier New',monospace\"><span style=\"font-weight: bold\">Model: \"sequential_6\"</span>\n",
       "</pre>\n"
      ],
      "text/plain": [
       "\u001b[1mModel: \"sequential_6\"\u001b[0m\n"
      ]
     },
     "metadata": {},
     "output_type": "display_data"
    },
    {
     "data": {
      "text/html": [
       "<pre style=\"white-space:pre;overflow-x:auto;line-height:normal;font-family:Menlo,'DejaVu Sans Mono',consolas,'Courier New',monospace\">┏━━━━━━━━━━━━━━━━━━━━━━━━━━━━━━━━━━━━━━┳━━━━━━━━━━━━━━━━━━━━━━━━━━━━━┳━━━━━━━━━━━━━━━━━┓\n",
       "┃<span style=\"font-weight: bold\"> Layer (type)                         </span>┃<span style=\"font-weight: bold\"> Output Shape                </span>┃<span style=\"font-weight: bold\">         Param # </span>┃\n",
       "┡━━━━━━━━━━━━━━━━━━━━━━━━━━━━━━━━━━━━━━╇━━━━━━━━━━━━━━━━━━━━━━━━━━━━━╇━━━━━━━━━━━━━━━━━┩\n",
       "│ flatten_2 (<span style=\"color: #0087ff; text-decoration-color: #0087ff\">Flatten</span>)                  │ (<span style=\"color: #00d7ff; text-decoration-color: #00d7ff\">None</span>, <span style=\"color: #00af00; text-decoration-color: #00af00\">784</span>)                 │               <span style=\"color: #00af00; text-decoration-color: #00af00\">0</span> │\n",
       "├──────────────────────────────────────┼─────────────────────────────┼─────────────────┤\n",
       "│ dense_12 (<span style=\"color: #0087ff; text-decoration-color: #0087ff\">Dense</span>)                     │ (<span style=\"color: #00d7ff; text-decoration-color: #00d7ff\">None</span>, <span style=\"color: #00af00; text-decoration-color: #00af00\">128</span>)                 │         <span style=\"color: #00af00; text-decoration-color: #00af00\">100,480</span> │\n",
       "├──────────────────────────────────────┼─────────────────────────────┼─────────────────┤\n",
       "│ dense_13 (<span style=\"color: #0087ff; text-decoration-color: #0087ff\">Dense</span>)                     │ (<span style=\"color: #00d7ff; text-decoration-color: #00d7ff\">None</span>, <span style=\"color: #00af00; text-decoration-color: #00af00\">10</span>)                  │           <span style=\"color: #00af00; text-decoration-color: #00af00\">1,290</span> │\n",
       "└──────────────────────────────────────┴─────────────────────────────┴─────────────────┘\n",
       "</pre>\n"
      ],
      "text/plain": [
       "┏━━━━━━━━━━━━━━━━━━━━━━━━━━━━━━━━━━━━━━┳━━━━━━━━━━━━━━━━━━━━━━━━━━━━━┳━━━━━━━━━━━━━━━━━┓\n",
       "┃\u001b[1m \u001b[0m\u001b[1mLayer (type)                        \u001b[0m\u001b[1m \u001b[0m┃\u001b[1m \u001b[0m\u001b[1mOutput Shape               \u001b[0m\u001b[1m \u001b[0m┃\u001b[1m \u001b[0m\u001b[1m        Param #\u001b[0m\u001b[1m \u001b[0m┃\n",
       "┡━━━━━━━━━━━━━━━━━━━━━━━━━━━━━━━━━━━━━━╇━━━━━━━━━━━━━━━━━━━━━━━━━━━━━╇━━━━━━━━━━━━━━━━━┩\n",
       "│ flatten_2 (\u001b[38;5;33mFlatten\u001b[0m)                  │ (\u001b[38;5;45mNone\u001b[0m, \u001b[38;5;34m784\u001b[0m)                 │               \u001b[38;5;34m0\u001b[0m │\n",
       "├──────────────────────────────────────┼─────────────────────────────┼─────────────────┤\n",
       "│ dense_12 (\u001b[38;5;33mDense\u001b[0m)                     │ (\u001b[38;5;45mNone\u001b[0m, \u001b[38;5;34m128\u001b[0m)                 │         \u001b[38;5;34m100,480\u001b[0m │\n",
       "├──────────────────────────────────────┼─────────────────────────────┼─────────────────┤\n",
       "│ dense_13 (\u001b[38;5;33mDense\u001b[0m)                     │ (\u001b[38;5;45mNone\u001b[0m, \u001b[38;5;34m10\u001b[0m)                  │           \u001b[38;5;34m1,290\u001b[0m │\n",
       "└──────────────────────────────────────┴─────────────────────────────┴─────────────────┘\n"
      ]
     },
     "metadata": {},
     "output_type": "display_data"
    },
    {
     "data": {
      "text/html": [
       "<pre style=\"white-space:pre;overflow-x:auto;line-height:normal;font-family:Menlo,'DejaVu Sans Mono',consolas,'Courier New',monospace\"><span style=\"font-weight: bold\"> Total params: </span><span style=\"color: #00af00; text-decoration-color: #00af00\">101,770</span> (397.54 KB)\n",
       "</pre>\n"
      ],
      "text/plain": [
       "\u001b[1m Total params: \u001b[0m\u001b[38;5;34m101,770\u001b[0m (397.54 KB)\n"
      ]
     },
     "metadata": {},
     "output_type": "display_data"
    },
    {
     "data": {
      "text/html": [
       "<pre style=\"white-space:pre;overflow-x:auto;line-height:normal;font-family:Menlo,'DejaVu Sans Mono',consolas,'Courier New',monospace\"><span style=\"font-weight: bold\"> Trainable params: </span><span style=\"color: #00af00; text-decoration-color: #00af00\">101,770</span> (397.54 KB)\n",
       "</pre>\n"
      ],
      "text/plain": [
       "\u001b[1m Trainable params: \u001b[0m\u001b[38;5;34m101,770\u001b[0m (397.54 KB)\n"
      ]
     },
     "metadata": {},
     "output_type": "display_data"
    },
    {
     "data": {
      "text/html": [
       "<pre style=\"white-space:pre;overflow-x:auto;line-height:normal;font-family:Menlo,'DejaVu Sans Mono',consolas,'Courier New',monospace\"><span style=\"font-weight: bold\"> Non-trainable params: </span><span style=\"color: #00af00; text-decoration-color: #00af00\">0</span> (0.00 B)\n",
       "</pre>\n"
      ],
      "text/plain": [
       "\u001b[1m Non-trainable params: \u001b[0m\u001b[38;5;34m0\u001b[0m (0.00 B)\n"
      ]
     },
     "metadata": {},
     "output_type": "display_data"
    },
    {
     "name": "stdout",
     "output_type": "stream",
     "text": [
      "Epoch 1/10\n",
      "\u001b[1m1875/1875\u001b[0m \u001b[32m━━━━━━━━━━━━━━━━━━━━\u001b[0m\u001b[37m\u001b[0m \u001b[1m10s\u001b[0m 5ms/step - accuracy: 0.8388 - loss: 0.6510 - val_accuracy: 0.9031 - val_loss: 0.3576\n",
      "Epoch 2/10\n",
      "\u001b[1m1875/1875\u001b[0m \u001b[32m━━━━━━━━━━━━━━━━━━━━\u001b[0m\u001b[37m\u001b[0m \u001b[1m8s\u001b[0m 4ms/step - accuracy: 0.9047 - loss: 0.3412 - val_accuracy: 0.9168 - val_loss: 0.2981\n",
      "Epoch 3/10\n",
      "\u001b[1m1875/1875\u001b[0m \u001b[32m━━━━━━━━━━━━━━━━━━━━\u001b[0m\u001b[37m\u001b[0m \u001b[1m8s\u001b[0m 4ms/step - accuracy: 0.9165 - loss: 0.2934 - val_accuracy: 0.9244 - val_loss: 0.2666\n",
      "Epoch 4/10\n",
      "\u001b[1m1875/1875\u001b[0m \u001b[32m━━━━━━━━━━━━━━━━━━━━\u001b[0m\u001b[37m\u001b[0m \u001b[1m8s\u001b[0m 4ms/step - accuracy: 0.9256 - loss: 0.2638 - val_accuracy: 0.9318 - val_loss: 0.2442\n",
      "Epoch 5/10\n",
      "\u001b[1m1875/1875\u001b[0m \u001b[32m━━━━━━━━━━━━━━━━━━━━\u001b[0m\u001b[37m\u001b[0m \u001b[1m9s\u001b[0m 5ms/step - accuracy: 0.9319 - loss: 0.2409 - val_accuracy: 0.9346 - val_loss: 0.2249\n",
      "Epoch 6/10\n",
      "\u001b[1m1875/1875\u001b[0m \u001b[32m━━━━━━━━━━━━━━━━━━━━\u001b[0m\u001b[37m\u001b[0m \u001b[1m8s\u001b[0m 4ms/step - accuracy: 0.9377 - loss: 0.2223 - val_accuracy: 0.9377 - val_loss: 0.2121\n",
      "Epoch 7/10\n",
      "\u001b[1m1875/1875\u001b[0m \u001b[32m━━━━━━━━━━━━━━━━━━━━\u001b[0m\u001b[37m\u001b[0m \u001b[1m8s\u001b[0m 4ms/step - accuracy: 0.9420 - loss: 0.2067 - val_accuracy: 0.9421 - val_loss: 0.1950\n",
      "Epoch 8/10\n",
      "\u001b[1m1875/1875\u001b[0m \u001b[32m━━━━━━━━━━━━━━━━━━━━\u001b[0m\u001b[37m\u001b[0m \u001b[1m8s\u001b[0m 4ms/step - accuracy: 0.9458 - loss: 0.1930 - val_accuracy: 0.9453 - val_loss: 0.1866\n",
      "Epoch 9/10\n",
      "\u001b[1m1875/1875\u001b[0m \u001b[32m━━━━━━━━━━━━━━━━━━━━\u001b[0m\u001b[37m\u001b[0m \u001b[1m8s\u001b[0m 4ms/step - accuracy: 0.9488 - loss: 0.1814 - val_accuracy: 0.9484 - val_loss: 0.1745\n",
      "Epoch 10/10\n",
      "\u001b[1m1875/1875\u001b[0m \u001b[32m━━━━━━━━━━━━━━━━━━━━\u001b[0m\u001b[37m\u001b[0m \u001b[1m9s\u001b[0m 5ms/step - accuracy: 0.9516 - loss: 0.1710 - val_accuracy: 0.9510 - val_loss: 0.1655\n",
      "\u001b[1m313/313\u001b[0m \u001b[32m━━━━━━━━━━━━━━━━━━━━\u001b[0m\u001b[37m\u001b[0m \u001b[1m1s\u001b[0m 4ms/step - accuracy: 0.9510 - loss: 0.1655\n",
      "Loss=0.165, Accuracy=0.951\n",
      "\u001b[1m313/313\u001b[0m \u001b[32m━━━━━━━━━━━━━━━━━━━━\u001b[0m\u001b[37m\u001b[0m \u001b[1m1s\u001b[0m 3ms/step  \n",
      "Predicted digit = 2\n"
     ]
    },
    {
     "data": {
      "image/png": "[encoded data removed]",
      "text/plain": [
       "<Figure size 640x480 with 1 Axes>"
      ]
     },
     "metadata": {},
     "output_type": "display_data"
    }
   ],
   "source": [
    "# Practical 4: Image Recognition on MNIST dataset using Neural Network\n",
    "\n",
    "import tensorflow as tf\n",
    "from tensorflow import keras\n",
    "import numpy as np\n",
    "import matplotlib.pyplot as plt\n",
    "\n",
    "# Load dataset (MNIST: 28x28 grayscale handwritten digits)\n",
    "(X_train, y_train), (x_test, y_test) = keras.datasets.mnist.load_data()\n",
    "\n",
    "# Normalize pixel values (0-255 → 0-1 for faster training)\n",
    "X_train, x_test = X_train / 255.0, x_test / 255.0\n",
    "\n",
    "# Build simple feedforward neural network\n",
    "model = keras.Sequential([\n",
    "    keras.layers.Flatten(input_shape=(28, 28)),       # Flatten 28x28 image to 1D (784)\n",
    "    keras.layers.Dense(128, activation='relu'),       # Hidden layer with ReLU activation\n",
    "    keras.layers.Dense(10, activation='softmax')      # Output layer (10 digits, softmax for probabilities)\n",
    "])\n",
    "\n",
    "model.summary()   # Show layer details\n",
    "\n",
    "# Compile model (SGD optimizer + cross-entropy loss for classification)\n",
    "model.compile(\n",
    "    optimizer='sgd',\n",
    "    loss='sparse_categorical_crossentropy',\n",
    "    metrics=['accuracy']\n",
    ")\n",
    "\n",
    "# Train model with training set and validate on test set\n",
    "history = model.fit(X_train, y_train, epochs=10, validation_data=(x_test, y_test))\n",
    "\n",
    "# Evaluate model on test data\n",
    "test_loss, test_acc = model.evaluate(x_test, y_test)\n",
    "print(\"Loss=%.3f, Accuracy=%.3f\" % (test_loss, test_acc))\n",
    "\n",
    "# Predict on a single image\n",
    "plt.imshow(x_test[456], cmap=\"gray\")                   # Show test image\n",
    "predicted_value = model.predict(x_test)                # Predict all test images\n",
    "print(\"Predicted digit =\", np.argmax(predicted_value[456]))  # Get highest probability index"
   ]
  },
  {
   "cell_type": "code",
   "execution_count": 53,
   "id": "74e996fb-f30d-4150-80cf-6be80212b702",
   "metadata": {},
   "outputs": [
    {
     "name": "stdout",
     "output_type": "stream",
     "text": [
      "[[-0.16595599]\n",
      " [ 0.44064899]\n",
      " [-0.99977125]]\n",
      "Output after training:\n",
      " [[0.11039235]\n",
      " [0.09214506]\n",
      " [0.92545479]\n",
      " [0.91034858]]\n",
      "\n",
      "Actual Output:\n",
      " [[0]\n",
      " [0]\n",
      " [1]\n",
      " [1]]\n"
     ]
    },
    {
     "data": {
      "image/png": "[encoded data removed]",
      "text/plain": [
       "<Figure size 600x400 with 1 Axes>"
      ]
     },
     "metadata": {},
     "output_type": "display_data"
    }
   ],
   "source": [
    "# Practical 5: Backpropagation using NumPy\n",
    "\n",
    "import numpy as np\n",
    "import matplotlib.pyplot as plt\n",
    "\n",
    "# Sigmoid activation function + derivative\n",
    "def nlinear(x, deriv=False):\n",
    "    if deriv:\n",
    "        return x * (1 - x)   # derivative of sigmoid\n",
    "    return 1 / (1 + np.exp(-x))  # sigmoid function\n",
    "\n",
    "# Input data (last column = bias term)\n",
    "x = np.array([[0,0,1],\n",
    "              [0,1,1],\n",
    "              [1,0,1],\n",
    "              [1,1,1]])\n",
    "\n",
    "# Output labels (AND function)\n",
    "y = np.array([[0],\n",
    "              [0],\n",
    "              [1],\n",
    "              [1]])\n",
    "\n",
    "# Set seed for reproducibility\n",
    "np.random.seed(1)\n",
    "\n",
    "# Initialize weights randomly in range [-1,1]\n",
    "synapse0 = 2*np.random.random((3,1)) - 1\n",
    "\n",
    "# Training parameters\n",
    "iterations = 1000\n",
    "learning_rate = 0.1  # added learning rate for stability\n",
    "\n",
    "# Training loop\n",
    "for i in range(iterations):\n",
    "    layer0 = x                                # input layer\n",
    "    layer1 = nlinear(np.dot(layer0, synapse0)) # forward pass\n",
    "    layer1_error = y - layer1                 # error at output\n",
    "    layer1_delta = layer1_error * nlinear(layer1, deriv=True)  # backprop\n",
    "    synapse0 += learning_rate * np.dot(layer0.T, layer1_delta) # weight update\n",
    "\n",
    "# Final predicted output\n",
    "print(\"Output after training:\\n\", layer1)\n",
    "print(\"\\nActual Output:\\n\", y)\n",
    "\n",
    "# Improved Plot\n",
    "plt.figure(figsize=(6,4))\n",
    "plt.plot(y, 'ro-', label=\"Actual Output\")       # red points = expected\n",
    "plt.plot(layer1, 'b*-', label=\"Predicted Output\") # blue stars = model prediction\n",
    "plt.xlabel(\"Sample Index\")\n",
    "plt.ylabel(\"Output Value\")\n",
    "plt.title(\"Actual vs Predicted Output (Backpropagation)\")\n",
    "plt.legend()\n",
    "plt.grid(True)\n",
    "plt.show()"
   ]
  },
  {
   "cell_type": "code",
   "execution_count": 59,
   "id": "4e241e4a-f96a-4a03-993d-4994c5319fb0",
   "metadata": {},
   "outputs": [
    {
     "name": "stdout",
     "output_type": "stream",
     "text": [
      "Decision Tree CV Mean Accuracy: 0.7071301247771836\n",
      "Bagging OOB Score: 0.7534722222222222\n",
      "Bagging CV Mean Accuracy: 0.7709107885578474\n",
      "Random Forest CV Mean Accuracy: 0.7669977081741788\n"
     ]
    }
   ],
   "source": [
    "# Practical 6: Ensemble Learning - Bagging, Decision Tree, Random Forest\n",
    "\n",
    "import pandas as pd\n",
    "from sklearn.model_selection import train_test_split, cross_val_score\n",
    "from sklearn.preprocessing import StandardScaler\n",
    "from sklearn.tree import DecisionTreeClassifier\n",
    "from sklearn.ensemble import BaggingClassifier, RandomForestClassifier\n",
    "\n",
    "df = pd.read_csv(\"content/sample_data/diabetes.csv\")\n",
    "\n",
    "# Split features and target\n",
    "X = df.drop(\"Outcome\", axis=1)   # Input features\n",
    "y = df[\"Outcome\"]                # Target variable (0 or 1)\n",
    "\n",
    "# Scale the features\n",
    "scaler = StandardScaler()\n",
    "X_scaled = scaler.fit_transform(X)\n",
    "\n",
    "# Split into training and test sets (stratified to balance 0/1 classes)\n",
    "X_train, X_test, y_train, y_test = train_test_split(\n",
    "    X_scaled, y, stratify=y, random_state=42\n",
    ")\n",
    "\n",
    "# 1. Decision Tree (Baseline model)\n",
    "dt_scores = cross_val_score(DecisionTreeClassifier(), X, y, cv=5)\n",
    "print(\"Decision Tree CV Mean Accuracy:\", dt_scores.mean())\n",
    "\n",
    "# 2. Bagging Classifier with Decision Tree\n",
    "bag_model = BaggingClassifier(\n",
    "    estimator=DecisionTreeClassifier(),\n",
    "    n_estimators=100,    # number of trees\n",
    "    max_samples=0.8,     # bootstrap samples\n",
    "    oob_score=True,      # out-of-bag evaluation\n",
    "    random_state=42\n",
    ")\n",
    "bag_model.fit(X_train, y_train)\n",
    "print(\"Bagging OOB Score:\", bag_model.oob_score_)\n",
    "\n",
    "bag_scores = cross_val_score(bag_model, X, y, cv=5)\n",
    "print(\"Bagging CV Mean Accuracy:\", bag_scores.mean())\n",
    "\n",
    "# 3. Random Forest Classifier\n",
    "rf_model = RandomForestClassifier(n_estimators=100, random_state=42)\n",
    "rf_scores = cross_val_score(rf_model, X, y, cv=5)\n",
    "print(\"Random Forest CV Mean Accuracy:\", rf_scores.mean())\n"
   ]
  },
  {
   "cell_type": "code",
   "execution_count": 64,
   "id": "ca107835-be7b-4beb-84ca-5e7f365835dd",
   "metadata": {},
   "outputs": [
    {
     "name": "stdout",
     "output_type": "stream",
     "text": [
      "Test Accuracy: 0.788\n",
      "\u001b[1m2/2\u001b[0m \u001b[32m━━━━━━━━━━━━━━━━━━━━\u001b[0m\u001b[37m\u001b[0m \u001b[1m0s\u001b[0m 117ms/step\n",
      "\n",
      "Classification Report:\n",
      "               precision    recall  f1-score   support\n",
      "\n",
      "       False       0.74      0.93      0.82        27\n",
      "        True       0.89      0.64      0.74        25\n",
      "\n",
      "    accuracy                           0.79        52\n",
      "   macro avg       0.81      0.78      0.78        52\n",
      "weighted avg       0.81      0.79      0.78        52\n",
      "\n"
     ]
    },
    {
     "data": {
      "image/png": "[encoded data removed]",
      "text/plain": [
       "<Figure size 640x480 with 2 Axes>"
      ]
     },
     "metadata": {},
     "output_type": "display_data"
    }
   ],
   "source": [
    "# Practical 7: Regularization on Sonar Dataset using Dropout\n",
    "\n",
    "import numpy as np\n",
    "import pandas as pd\n",
    "import matplotlib.pyplot as plt\n",
    "import seaborn as sns\n",
    "from sklearn.model_selection import train_test_split\n",
    "from sklearn.metrics import classification_report, confusion_matrix\n",
    "import tensorflow as tf\n",
    "from tensorflow import keras\n",
    "\n",
    "# Load dataset (Sonar: 60 features, 1 target column)\n",
    "df = pd.read_csv(\"content/sample_data/sonar.csv\", header=None)\n",
    "\n",
    "# Split features (X) and target (y)\n",
    "X = df.drop(60, axis=1)        # first 60 columns = features\n",
    "y = pd.get_dummies(df[60], drop_first=True)  # convert labels 'R','M' to binary\n",
    "\n",
    "# Train-test split\n",
    "X_train, X_test, y_train, y_test = train_test_split(X, y, test_size=0.25, random_state=1)\n",
    "\n",
    "# Build Neural Network with Dropout Regularization\n",
    "model = keras.Sequential([\n",
    "    keras.layers.Dense(60, input_dim=60, activation='relu'),   # Input layer\n",
    "    keras.layers.Dropout(0.5),                                 # Dropout to prevent overfitting\n",
    "    keras.layers.Dense(30, activation='relu'),                 # Hidden layer\n",
    "    keras.layers.Dropout(0.5),                                 # Dropout\n",
    "    keras.layers.Dense(15, activation='relu'),                 # Hidden layer\n",
    "    keras.layers.Dense(1, activation='sigmoid')                # Output layer (binary classification)\n",
    "])\n",
    "\n",
    "# Compile the model\n",
    "model.compile(loss='binary_crossentropy', optimizer='adam', metrics=['accuracy'])\n",
    "\n",
    "# Train the model\n",
    "model.fit(X_train, y_train, epochs=100, batch_size=8, verbose=0)  # silent training\n",
    "\n",
    "# Evaluate model\n",
    "loss, acc = model.evaluate(X_test, y_test, verbose=0)\n",
    "print(f\"Test Accuracy: {acc:.3f}\")\n",
    "\n",
    "# Predictions\n",
    "y_pred = np.round(model.predict(X_test).reshape(-1))\n",
    "\n",
    "# Classification report\n",
    "print(\"\\nClassification Report:\\n\", classification_report(y_test, y_pred))\n",
    "\n",
    "# Confusion Matrix Heatmap\n",
    "conf_matrix = confusion_matrix(y_test, y_pred)\n",
    "sns.heatmap(conf_matrix, annot=True, fmt='d', cmap=\"Blues\")\n",
    "plt.xlabel('Predicted')\n",
    "plt.ylabel('Actual')\n",
    "plt.show()"
   ]
  },
  {
   "cell_type": "code",
   "execution_count": 65,
   "id": "deb74bbc-7a57-4dc0-830a-a0533b841bf7",
   "metadata": {},
   "outputs": [
    {
     "name": "stdout",
     "output_type": "stream",
     "text": [
      "Downloading data from https://www.cs.toronto.edu/~kriz/cifar-10-python.tar.gz\n",
      "\u001b[1m170498071/170498071\u001b[0m \u001b[32m━━━━━━━━━━━━━━━━━━━━\u001b[0m\u001b[37m\u001b[0m \u001b[1m1361s\u001b[0m 8us/step \n",
      "Epoch 1/5\n",
      "\u001b[1m782/782\u001b[0m \u001b[32m━━━━━━━━━━━━━━━━━━━━\u001b[0m\u001b[37m\u001b[0m \u001b[1m114s\u001b[0m 130ms/step - accuracy: 0.3406 - loss: 1.7734 - val_accuracy: 0.4950 - val_loss: 1.3657\n",
      "Epoch 2/5\n",
      "\u001b[1m782/782\u001b[0m \u001b[32m━━━━━━━━━━━━━━━━━━━━\u001b[0m\u001b[37m\u001b[0m \u001b[1m116s\u001b[0m 97ms/step - accuracy: 0.4839 - loss: 1.4300 - val_accuracy: 0.5523 - val_loss: 1.2254\n",
      "Epoch 3/5\n",
      "\u001b[1m782/782\u001b[0m \u001b[32m━━━━━━━━━━━━━━━━━━━━\u001b[0m\u001b[37m\u001b[0m \u001b[1m88s\u001b[0m 104ms/step - accuracy: 0.5386 - loss: 1.2916 - val_accuracy: 0.5956 - val_loss: 1.1413\n",
      "Epoch 4/5\n",
      "\u001b[1m782/782\u001b[0m \u001b[32m━━━━━━━━━━━━━━━━━━━━\u001b[0m\u001b[37m\u001b[0m \u001b[1m76s\u001b[0m 97ms/step - accuracy: 0.5741 - loss: 1.2079 - val_accuracy: 0.6283 - val_loss: 1.0435\n",
      "Epoch 5/5\n",
      "\u001b[1m782/782\u001b[0m \u001b[32m━━━━━━━━━━━━━━━━━━━━\u001b[0m\u001b[37m\u001b[0m \u001b[1m73s\u001b[0m 94ms/step - accuracy: 0.5970 - loss: 1.1424 - val_accuracy: 0.6616 - val_loss: 0.9661\n",
      "\u001b[1m313/313\u001b[0m \u001b[32m━━━━━━━━━━━━━━━━━━━━\u001b[0m\u001b[37m\u001b[0m \u001b[1m2s\u001b[0m 8ms/step - accuracy: 0.6616 - loss: 0.9661\n",
      "Test Accuracy: 0.6616\n",
      "\u001b[1m313/313\u001b[0m \u001b[32m━━━━━━━━━━━━━━━━━━━━\u001b[0m\u001b[37m\u001b[0m \u001b[1m3s\u001b[0m 7ms/step\n",
      "Classification Report:\n",
      "              precision    recall  f1-score   support\n",
      "\n",
      "    airplane       0.73      0.70      0.71      1000\n",
      "  automobile       0.75      0.83      0.79      1000\n",
      "        bird       0.56      0.51      0.53      1000\n",
      "         cat       0.54      0.36      0.43      1000\n",
      "        deer       0.66      0.51      0.57      1000\n",
      "         dog       0.64      0.49      0.55      1000\n",
      "        frog       0.60      0.85      0.70      1000\n",
      "       horse       0.66      0.75      0.70      1000\n",
      "        ship       0.78      0.80      0.79      1000\n",
      "       truck       0.66      0.81      0.73      1000\n",
      "\n",
      "    accuracy                           0.66     10000\n",
      "   macro avg       0.66      0.66      0.65     10000\n",
      "weighted avg       0.66      0.66      0.65     10000\n",
      "\n"
     ]
    },
    {
     "data": {
      "image/png": "[encoded data removed]",
      "text/plain": [
       "<Figure size 1000x800 with 2 Axes>"
      ]
     },
     "metadata": {},
     "output_type": "display_data"
    }
   ],
   "source": [
    "# Practical 8 - CNN on CIFAR-10 Dataset\n",
    "\n",
    "import tensorflow as tf\n",
    "from tensorflow.keras.models import Sequential\n",
    "from tensorflow.keras.layers import Conv2D, MaxPooling2D, Flatten, Dense, Dropout\n",
    "from tensorflow.keras.optimizers import Adam\n",
    "from tensorflow.keras.preprocessing.image import ImageDataGenerator\n",
    "from tensorflow.keras.utils import to_categorical\n",
    "import matplotlib.pyplot as plt\n",
    "from sklearn.metrics import classification_report, confusion_matrix\n",
    "import seaborn as sns\n",
    "import numpy as np\n",
    "\n",
    "# Load CIFAR-10 dataset\n",
    "(X_train, y_train), (X_test, y_test) = tf.keras.datasets.cifar10.load_data()\n",
    "\n",
    "# Normalize pixel values (0–1)\n",
    "X_train, X_test = X_train / 255.0, X_test / 255.0\n",
    "\n",
    "# One-hot encode labels\n",
    "y_train, y_test = to_categorical(y_train, 10), to_categorical(y_test, 10)\n",
    "\n",
    "# Define class names\n",
    "class_names = ['airplane','automobile','bird','cat','deer','dog','frog','horse','ship','truck']\n",
    "\n",
    "# Build CNN model\n",
    "model = Sequential([\n",
    "    Conv2D(32, (3,3), activation='relu', input_shape=(32,32,3)),  # Conv Layer 1\n",
    "    MaxPooling2D((2,2)),                                          # Pooling 1\n",
    "    Conv2D(64, (3,3), activation='relu'),                         # Conv Layer 2\n",
    "    MaxPooling2D((2,2)),                                          # Pooling 2\n",
    "    Conv2D(128, (3,3), activation='relu'),                        # Conv Layer 3\n",
    "    MaxPooling2D((2,2)),                                          # Pooling 3\n",
    "    Flatten(),                                                    # Flatten\n",
    "    Dense(128, activation='relu'),                                # Dense Layer\n",
    "    Dropout(0.5),                                                 # Dropout\n",
    "    Dense(10, activation='softmax')                               # Output Layer\n",
    "])\n",
    "\n",
    "# Compile model\n",
    "model.compile(optimizer=Adam(0.001), loss='categorical_crossentropy', metrics=['accuracy'])\n",
    "\n",
    "# Data augmentation\n",
    "datagen = ImageDataGenerator(width_shift_range=0.1, height_shift_range=0.1, horizontal_flip=True)\n",
    "datagen.fit(X_train)\n",
    "\n",
    "# Train model\n",
    "history = model.fit(datagen.flow(X_train, y_train, batch_size=64), epochs=5, validation_data=(X_test, y_test), verbose=1)\n",
    "\n",
    "# Evaluate on test data\n",
    "loss, acc = model.evaluate(X_test, y_test)\n",
    "print(f\"Test Accuracy: {acc:.4f}\")\n",
    "\n",
    "# Predictions\n",
    "y_pred = np.argmax(model.predict(X_test), axis=1)\n",
    "y_true = np.argmax(y_test, axis=1)\n",
    "\n",
    "# Classification report\n",
    "print(\"Classification Report:\")\n",
    "print(classification_report(y_true, y_pred, target_names=class_names))\n",
    "\n",
    "# Confusion matrix heatmap\n",
    "conf_matrix = confusion_matrix(y_true, y_pred)\n",
    "plt.figure(figsize=(10,8))\n",
    "sns.heatmap(conf_matrix, annot=True, fmt=\"d\", cmap=\"Blues\", xticklabels=class_names, yticklabels=class_names)\n",
    "plt.title(\"Confusion Matrix\")\n",
    "plt.xlabel(\"Predicted\")\n",
    "plt.ylabel(\"True\")\n",
    "plt.show()"
   ]
  },
  {
   "cell_type": "code",
   "execution_count": 66,
   "id": "712b5295-f9fe-457e-83cf-d1e9e9112077",
   "metadata": {
    "editable": true,
    "slideshow": {
     "slide_type": ""
    },
    "tags": []
   },
   "outputs": [
    {
     "ename": "ModuleNotFoundError",
     "evalue": "No module named 'tensorflow_datasets'",
     "output_type": "error",
     "traceback": [
      "\u001b[1;31m---------------------------------------------------------------------------\u001b[0m",
      "\u001b[1;31mModuleNotFoundError\u001b[0m                       Traceback (most recent call last)",
      "Cell \u001b[1;32mIn[66], line 9\u001b[0m\n\u001b[0;32m      7\u001b[0m \u001b[38;5;28;01mimport\u001b[39;00m \u001b[38;5;21;01mPIL\u001b[39;00m\u001b[38;5;21;01m.\u001b[39;00m\u001b[38;5;21;01mImage\u001b[39;00m\n\u001b[0;32m      8\u001b[0m \u001b[38;5;28;01mimport\u001b[39;00m \u001b[38;5;21;01mtensorflow\u001b[39;00m \u001b[38;5;28;01mas\u001b[39;00m \u001b[38;5;21;01mtf\u001b[39;00m\n\u001b[1;32m----> 9\u001b[0m \u001b[38;5;28;01mimport\u001b[39;00m \u001b[38;5;21;01mtensorflow_datasets\u001b[39;00m \u001b[38;5;28;01mas\u001b[39;00m \u001b[38;5;21;01mtfds\u001b[39;00m\n\u001b[0;32m     10\u001b[0m \u001b[38;5;28;01mfrom\u001b[39;00m \u001b[38;5;21;01mtensorflow\u001b[39;00m\u001b[38;5;21;01m.\u001b[39;00m\u001b[38;5;21;01mkeras\u001b[39;00m \u001b[38;5;28;01mimport\u001b[39;00m layers\n\u001b[0;32m     11\u001b[0m \u001b[38;5;28;01mimport\u001b[39;00m \u001b[38;5;21;01mpathlib\u001b[39;00m\n",
      "\u001b[1;31mModuleNotFoundError\u001b[0m: No module named 'tensorflow_datasets'"
     ]
    }
   ],
   "source": [
    "# Practical 9A: Data Augmentation on a Single Image\n",
    "\n",
    "# Import necessary packages\n",
    "import tensorflow as tf\n",
    "from tensorflow.keras import layers\n",
    "import tensorflow_datasets as tfds\n",
    "import matplotlib.pyplot as plt\n",
    "\n",
    "# Load the dataset\n",
    "(train_ds, val_ds, test_ds), metadata = tfds.load(\n",
    "    'tf_flowers',\n",
    "    split=['train[:80%]', 'train[80%:90%]', 'train[90%:]'],\n",
    "    with_info=True,\n",
    "    as_supervised=True,\n",
    ")\n",
    "\n",
    "# Retrieve label mapping function\n",
    "get_label_name = metadata.features['label'].int2str\n",
    "\n",
    "# Get a sample image and label\n",
    "image, label = next(iter(train_ds))\n",
    "\n",
    "# Display original image\n",
    "plt.imshow(image)\n",
    "plt.title(get_label_name(label))\n",
    "plt.axis('off')\n",
    "plt.show()\n",
    "\n",
    "# Define preprocessing pipeline\n",
    "IMG_SIZE = 180\n",
    "resize_and_rescale = tf.keras.Sequential([\n",
    "    layers.Resizing(IMG_SIZE, IMG_SIZE),\n",
    "    layers.Rescaling(1./255)\n",
    "])\n",
    "\n",
    "# Apply preprocessing\n",
    "preprocessed_image = resize_and_rescale(image)\n",
    "plt.imshow(preprocessed_image)\n",
    "plt.title(\"Resized & Rescaled\")\n",
    "plt.axis('off')\n",
    "plt.show()\n",
    "\n",
    "# Data Augmentation Examples\n",
    "\n",
    "# 1. Flip image left-right\n",
    "plt.imshow(tf.image.flip_left_right(image))\n",
    "plt.title(\"Flipped\")\n",
    "plt.axis('off')\n",
    "plt.show()\n",
    "\n",
    "# 2. Convert to grayscale\n",
    "plt.imshow(tf.image.rgb_to_grayscale(image), cmap='gray')\n",
    "plt.title(\"Grayscale\")\n",
    "plt.axis('off')\n",
    "plt.show()\n",
    "\n",
    "# 3. Adjust saturation\n",
    "plt.imshow(tf.image.adjust_saturation(image, 3))\n",
    "plt.title(\"Saturation x3\")\n",
    "plt.axis('off')\n",
    "plt.show()\n",
    "\n",
    "# 4. Adjust brightness\n",
    "plt.imshow(tf.image.adjust_brightness(image, 0.4))\n",
    "plt.title(\"Brightness +0.4\")\n",
    "plt.axis('off')\n",
    "plt.show()\n",
    "\n",
    "# 5. Crop the image (central crop)\n",
    "plt.imshow(tf.image.central_crop(image, 0.5))\n",
    "plt.title(\"Central Crop 50%\")\n",
    "plt.axis('off')\n",
    "plt.show()\n",
    "\n",
    "# 6. Adjust hue\n",
    "plt.imshow(tf.image.adjust_hue(image, 0.2))\n",
    "plt.title(\"Hue +0.2\")\n",
    "plt.axis('off')\n",
    "plt.show()\n",
    "\n",
    "# 7. Rotate 90 degrees counterclockwise\n",
    "plt.imshow(tf.image.rot90(image))\n",
    "plt.title(\"Rotated 90°\")\n",
    "plt.axis('off')\n",
    "plt.show()\n",
    "\n",
    "# 8. Random crop with seed\n",
    "for i in range(4):\n",
    "    cropped = tf.image.stateless_random_crop(\n",
    "        image, size=[210, 300, 3], seed=(i, 0)\n",
    "    )\n",
    "    plt.imshow(cropped.numpy().astype(\"uint8\"))\n",
    "    plt.title(f\"Random Crop {i+1}\")\n",
    "    plt.axis('off')\n",
    "    plt.show()"
   ]
  }
 ],
 "metadata": {
  "kernelspec": {
   "display_name": "Python 3 (ipykernel)",
   "language": "python",
   "name": "python3"
  },
  "language_info": {
   "codemirror_mode": {
    "name": "ipython",
    "version": 3
   },
   "file_extension": ".py",
   "mimetype": "text/x-python",
   "name": "python",
   "nbconvert_exporter": "python",
   "pygments_lexer": "ipython3",
   "version": "3.10.11"
  }
 },
 "nbformat": 4,
 "nbformat_minor": 5
}
